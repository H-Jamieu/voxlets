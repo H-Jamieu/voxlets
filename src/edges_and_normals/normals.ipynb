{
 "metadata": {
  "name": ""
 },
 "nbformat": 3,
 "nbformat_minor": 0,
 "worksheets": [
  {
   "cells": [
    {
     "cell_type": "code",
     "collapsed": false,
     "input": [
      "'''\n",
      "loading and checking the normals for a specfic model\n",
      "'''\n",
      "%matplotlib inline\n",
      "%load_ext autoreload\n",
      "%autoreload 2\n",
      "import sys\n",
      "sys.path.append('../structured_train/')\n",
      "from thickness import loadsave\n",
      "import numpy as np\n",
      "import matplotlib.pyplot as plt\n",
      "#import cv2\n",
      "from thickness import displaying as disp\n",
      "from thickness import features"
     ],
     "language": "python",
     "metadata": {},
     "outputs": [],
     "prompt_number": ""
    },
    {
     "cell_type": "code",
     "collapsed": false,
     "input": [
      "# loading in the test data\n",
      "obj_list = loadsave.load_object_names('all')\n",
      "modelname = obj_list[3]\n",
      "view_idx = 17\n",
      "frontrender = loadsave.load_frontrender(modelname, view_idx)\n",
      "mask = ~np.isnan(frontrender)\n",
      "\n",
      "plt.subplot(121)\n",
      "plt.imshow(frontrender)\n",
      "plt.subplot(122)\n",
      "plt.imshow(mask)\n",
      "plt.show()"
     ],
     "language": "python",
     "metadata": {},
     "outputs": [],
     "prompt_number": ""
    },
    {
     "cell_type": "code",
     "collapsed": false,
     "input": [
      "# extracting a single patch from the depth image\n",
      "row = 150\n",
      "col = 180\n",
      "hww = 7\n",
      "\n",
      "# extracting path using two different methods\n",
      "patch_engine = features.CobwebEngine(7, 10, fixed_patch_size=True)\n",
      "patch_engine.image_to_extract = frontrender\n",
      "patch = patch_engine.extract_rotated_patch((row, col), angle=0)\n",
      "\n",
      "aligned_patch = patch_engine.extract_aligned_patch(frontrender, row, col, hww)\n",
      "\n",
      "plt.rcParams['figure.figsize'] = (9.0, 8.0)\n",
      "plt.subplot(1, 3, 1)\n",
      "plt.imshow(patch, interpolation='none')\n",
      "plt.subplot(1, 3, 2)\n",
      "plt.imshow(aligned_patch, interpolation='none')\n",
      "plt.subplot(1, 3, 3)\n",
      "plt.imshow(patch-aligned_patch, interpolation='none')\n",
      "plt.show()"
     ],
     "language": "python",
     "metadata": {},
     "outputs": [],
     "prompt_number": ""
    },
    {
     "cell_type": "code",
     "collapsed": false,
     "input": [
      "'''Plotting the locations of patches all over an image'''\n",
      "patch_engine.compute_angles_image(frontrender)\n",
      "\n",
      "# sampling indices from the image\n",
      "indices = np.array(np.nonzero(mask)).transpose()\n",
      "samples = np.random.randint(0, indices.shape[0], 100)\n",
      "indices = indices[samples, :]\n",
      "\n",
      "# extracting angles for each patch\n",
      "patch_angles = [patch_engine.angles[index[0], index[1]] for index in indices]\n",
      "\n",
      "# plotting patches\n",
      "patch_plotter = features.PatchPlot()\n",
      "patch_plotter.set_image(frontrender)\n",
      "patch_plotter.plot_patches(indices, patch_angles, scales=10)"
     ],
     "language": "python",
     "metadata": {},
     "outputs": []
    },
    {
     "cell_type": "code",
     "collapsed": false,
     "input": [
      "patch_engine.compute_angles_image(frontrender)\n",
      "\n",
      "def compute_angles(depth_image):\n",
      "    Ix = cv2.Sobel(depth_image, ddepth=cv2.CV_32F, dx=1, dy=0, ksize=3)\n",
      "    Iy = cv2.Sobel(depth_image, ddepth=cv2.CV_32F, dx=0, dy=1, ksize=3)\n",
      "    return np.rad2deg(np.arctan2(Iy, Ix))\n",
      "\n",
      "def compute_all_angles(depth_image, interp_method):\n",
      "    indices = np.array(np.nonzero(~np.isnan(depth_image))).transpose()\n",
      "    patch_engine.interp_method=interp_method\n",
      "    patches = patch_engine.extract_patches(depth_image, indices)\n",
      "\n",
      "    angles = []\n",
      "    for patch in patches:\n",
      "        rotated_angle = compute_angles(np.reshape(patch, (15, 15)))\n",
      "        middle_angle = rotated_angle[7, 7]\n",
      "        angles.append(middle_angle)\n",
      "    return angles\n",
      "\n",
      "%timeit angles_nearest = compute_all_angles(frontrender, cv2.INTER_NEAREST)\n",
      "%timeit angles_cubic = compute_all_angles(frontrender, cv2.INTER_CUBIC)"
     ],
     "language": "python",
     "metadata": {},
     "outputs": []
    },
    {
     "cell_type": "code",
     "collapsed": false,
     "input": [
      "# Plotting the quality of the rotated patches - how close is the gradient of the rotated patche dto zero\n",
      "\n",
      "def remove_nans(inputs):\n",
      "    return [a for a in inputs if ~np.isnan(a)]\n",
      "\n",
      "plt.subplot(121)\n",
      "plt.hist(remove_nans(angles_nearest), 50)\n",
      "plt.xlim((-100, 100))\n",
      "plt.title('Nearest neighbour interpolation')\n",
      "plt.xlabel('Angle (degrees)')\n",
      "plt.ylabel('Frequency')\n",
      "plt.subplot(122)\n",
      "plt.hist(remove_nans(angles_cubic), 50)\n",
      "plt.xlim((-100, 100))\n",
      "plt.title('Cubic intrpolation')\n",
      "plt.xlabel('Angle (degrees)')\n",
      "plt.ylabel('Frequency')\n",
      "plt.show()\n"
     ],
     "language": "python",
     "metadata": {},
     "outputs": []
    }
   ],
   "metadata": {}
  }
 ]
}