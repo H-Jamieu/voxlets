{
 "metadata": {
  "name": ""
 },
 "nbformat": 3,
 "nbformat_minor": 0,
 "worksheets": [
  {
   "cells": [
    {
     "cell_type": "code",
     "collapsed": false,
     "input": [
      "# Spider legs features\n",
      "%matplotlib inline\n",
      "%load_ext autoreload\n",
      "%autoreload 2\n",
      "import numpy as np\n",
      "import matplotlib.pyplot as plt\n",
      "from thickness import compute_data\n",
      "\n",
      "small_model = True"
     ],
     "language": "python",
     "metadata": {},
     "outputs": [],
     "prompt_number": ""
    },
    {
     "cell_type": "code",
     "collapsed": false,
     "input": [
      "# loading in the test data and computing features\n",
      "modelname = '1b64b36bf7ddae3d7ad11050da24bb12'#loadsave.load_object_names('test')[1]\n",
      "print modelname\n",
      "view_idx = 15\n",
      "\n",
      "# loading the features to test on and the ground truth data\n",
      "engine = compute_data.DepthFeatureEngine(modelname, view_idx+1)\n",
      "engine.sample_from_mask(-1)\n",
      "print engine.indices.shape\n",
      "engine.compute_features_and_depths()\n",
      "print engine.indices.shape\n",
      "all_features = engine.features_and_depths_as_dict()\n"
     ],
     "language": "python",
     "metadata": {},
     "outputs": [],
     "prompt_number": ""
    },
    {
     "cell_type": "code",
     "collapsed": false,
     "input": [
      "from scipy import misc\n",
      "from scipy import ndimage\n",
      "plt.rcParams['figure.figsize'] = (18.0, 15.0)\n",
      "\n",
      "edge_image = np.copy(engine.spider_engine.edge_image).astype(float)\n",
      "dx,dy = np.gradient(edge_image, 2, 2)\n",
      "edge_angles = np.rad2deg(np.arctan2(dx, dy))\n",
      "\n",
      "edge_angles[edge_image==0] = np.nan\n",
      "edge_angles = np.remainder(edge_angles, 180)\n",
      "print np.sum(edge_image[120])\n",
      "#plt.subplot(121)\n",
      "#plt.imshow(engine.spider_engine.edge_image)\n",
      "#plt.colorbar()\n",
      "#plt.subplot(122)\n",
      "\n",
      "plt.imshow(edge_angles, interpolation='none')\n",
      "plt.clim((0, 180))\n",
      "plt.colorbar()\n",
      "\n",
      "plt.show()"
     ],
     "language": "python",
     "metadata": {},
     "outputs": [],
     "prompt_number": ""
    },
    {
     "cell_type": "code",
     "collapsed": false,
     "input": [
      "import edges\n",
      "edges.load_frontrender"
     ],
     "language": "python",
     "metadata": {},
     "outputs": [],
     "prompt_number": ""
    }
   ],
   "metadata": {}
  }
 ]
}