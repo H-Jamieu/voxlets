{
 "metadata": {
  "name": ""
 },
 "nbformat": 3,
 "nbformat_minor": 0,
 "worksheets": [
  {
   "cells": [
    {
     "cell_type": "code",
     "collapsed": false,
     "input": [
      "%matplotlib inline\n",
      "%load_ext autoreload\n",
      "%autoreload 2\n",
      "\n",
      "import numpy as np\n",
      "import matplotlib.pyplot as plt\n",
      "import canvas\n",
      "np.random.seed(12)\n",
      "plt.rcParams['figure.figsize'] = (10.0, 8.0)"
     ],
     "language": "python",
     "metadata": {},
     "outputs": []
    },
    {
     "cell_type": "code",
     "collapsed": false,
     "input": [
      "num_training = 1500\n",
      "train_images = [canvas.Canvas.fill_and_render(1, 2) for i in range(num_training)]\n",
      "\n",
      "plt.subplot(131)\n",
      "plt.imshow(train_images[0].im, interpolation='nearest')\n",
      "plt.subplot(132)\n",
      "plt.imshow(train_images[0].render_tsdf)\n",
      "plt.subplot(133)\n",
      "plt.imshow(train_images[0].sdf)"
     ],
     "language": "python",
     "metadata": {},
     "outputs": []
    },
    {
     "cell_type": "code",
     "collapsed": false,
     "input": [
      "# Sparse method\n",
      "sliding_window_shape = (26, 26)\n",
      "\n",
      "all_X, all_Y = [], []\n",
      "\n",
      "for im in train_images:\n",
      "    X, Y = im.extract_windows(sliding_window_shape)\n",
      "    all_X.append(X)\n",
      "    all_Y.append(Y)\n",
      "    \n",
      "all_X = np.vstack(all_X)\n",
      "all_Y = np.vstack(all_Y)\n",
      "\n",
      "print all_X.shape, all_Y.shape"
     ],
     "language": "python",
     "metadata": {},
     "outputs": []
    },
    {
     "cell_type": "code",
     "collapsed": true,
     "input": [
      "# now run on a test image...\n",
      "np.random.seed(2)\n",
      "test_im = canvas.Canvas.fill_and_render(1, 2)\n",
      "prediction = test_im.predict_from_windows(sliding_window_shape, all_X, all_Y)\n",
      "\n",
      "plt.subplot(131)\n",
      "plt.imshow(test_im.im, interpolation='nearest')\n",
      "plt.subplot(132)\n",
      "plt.imshow(test_im.render_tsdf)\n",
      "plt.subplot(133)\n",
      "plt.imshow(prediction)\n",
      "#plt.plot(test_im.depth_image)"
     ],
     "language": "python",
     "metadata": {},
     "outputs": []
    },
    {
     "cell_type": "code",
     "collapsed": false,
     "input": [
      "# now try to do this but with a gaussian predictor - for the whole canvas!\n",
      "import sys\n",
      "sys.path.append('../../rendered_scenes')\n",
      "import gauss\n",
      "\n",
      "train_X = np.vstack([im.sdf.flatten() for im in train_images])\n",
      "print train_X.shape\n",
      "gs = gauss.GaussImpute()\n",
      "gs.fit(train_X)\n",
      "print gs.mean.shape\n",
      "print gs.cov.shape"
     ],
     "language": "python",
     "metadata": {},
     "outputs": []
    },
    {
     "cell_type": "code",
     "collapsed": false,
     "input": [
      "#plt.imshow(gs.mean.reshape(train_images[0].im.shape))\n",
      "np.random.seed(20000)\n",
      "test_im = canvas.Canvas.fill_and_render(2, 1)\n",
      "test_im.render_canvas()\n",
      "test_X = test_im.tsdf_from_render(100).flatten()\n",
      "test_mask = test_X < -6.0\n",
      "pred, x2_min_mu2, cov_22 = gs.predict(test_X, test_mask)\n",
      "plt.imshow(np.linalg.pinv(np.linalg.pinv(cov_22)))"
     ],
     "language": "python",
     "metadata": {},
     "outputs": []
    },
    {
     "cell_type": "code",
     "collapsed": false,
     "input": [
      "plt.subplot(131)\n",
      "plt.imshow(test_im.im, interpolation='nearest')\n",
      "plt.subplot(132)\n",
      "plt.imshow(test_im.render_tsdf, interpolation='nearest')\n",
      "#plt.colorbar()\n",
      "plt.clim(-9, 9)\n",
      "plt.subplot(133)\n",
      "plt.imshow(pred[0].reshape(test_im.im.shape), interpolation='nearest')\n",
      "#plt.imshow(test_mask.reshape(test_im.im.shape))\n",
      "plt.clim(-20, 20)\n",
      "plt.colorbar()\n",
      "#gs.predict(half_shape)"
     ],
     "language": "python",
     "metadata": {},
     "outputs": []
    },
    {
     "cell_type": "code",
     "collapsed": false,
     "input": [
      "np.random.seed(200001)\n",
      "test_im = canvas.Canvas.fill_and_render(2, 1)\n",
      "test_im.render_canvas()\n",
      "test_X = test_im.tsdf_from_render(100).flatten()\n",
      "\n",
      "nn = gauss.ApproxNN(10)\n",
      "nn.set_X(train_X)\n",
      "test_X = test_im.tsdf_from_render(10).flatten()\n",
      "known_dims = np.logical_and(test_X != 0, test_X < 9)\n",
      "preds = nn.predict(test_X, test_mask)\n",
      "\n",
      "plt.subplot(4, 4, 1)\n",
      "plt.imshow(test_im.tsdf_from_render(10))\n",
      "for count, pred in enumerate(preds):\n",
      "    plt.subplot(4, 4, count+2)\n",
      "    plt.imshow(pred.reshape(test_im.tsdf_from_render(10).shape))"
     ],
     "language": "python",
     "metadata": {},
     "outputs": []
    },
    {
     "cell_type": "code",
     "collapsed": false,
     "input": [
      "a = np.random.rand(10, 20, 10)\n",
      "print a.shape\n",
      "b = a[::5, ::5, ::5]\n",
      "print b.shape\n",
      "print 10000 / 4**3\n",
      "print np.log2(500)"
     ],
     "language": "python",
     "metadata": {},
     "outputs": []
    }
   ],
   "metadata": {}
  }
 ]
}