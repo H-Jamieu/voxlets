{
 "metadata": {
  "name": ""
 },
 "nbformat": 3,
 "nbformat_minor": 0,
 "worksheets": [
  {
   "cells": [
    {
     "cell_type": "code",
     "collapsed": false,
     "input": [
      "%matplotlib inline\n",
      "%load_ext autoreload\n",
      "%autoreload 2\n",
      "\n",
      "import numpy as np\n",
      "import matplotlib.pyplot as plt\n",
      "import canvas\n",
      "np.random.seed(12)\n",
      "plt.rcParams['figure.figsize'] = (10.0, 8.0)"
     ],
     "language": "python",
     "metadata": {},
     "outputs": [],
     "prompt_number": ""
    },
    {
     "cell_type": "code",
     "collapsed": false,
     "input": [
      "num_training = 500\n",
      "train_images = [canvas.Canvas.fill_and_render(2, 2) for i in range(num_training)]\n",
      "\n",
      "plt.subplot(131)\n",
      "plt.imshow(train_images[0].im, interpolation='nearest')\n",
      "plt.subplot(132)\n",
      "plt.imshow(train_images[0].render_tsdf)\n",
      "plt.subplot(133)\n",
      "plt.imshow(train_images[0].sdf)"
     ],
     "language": "python",
     "metadata": {},
     "outputs": [],
     "prompt_number": ""
    },
    {
     "cell_type": "code",
     "collapsed": false,
     "input": [
      "# Sparse method\n",
      "sliding_window_shape = (26, 26)\n",
      "\n",
      "all_X, all_Y = [], []\n",
      "\n",
      "for im in train_images:\n",
      "    X, Y = im.extract_windows(sliding_window_shape)\n",
      "    all_X.append(X)\n",
      "    all_Y.append(Y)\n",
      "    \n",
      "all_X = np.vstack(all_X)\n",
      "all_Y = np.vstack(all_Y)\n",
      "\n",
      "print all_X.shape, all_Y.shape"
     ],
     "language": "python",
     "metadata": {},
     "outputs": [],
     "prompt_number": ""
    },
    {
     "cell_type": "code",
     "collapsed": false,
     "input": [
      "# now run on a test image...\n",
      "np.random.seed(2)\n",
      "test_im = canvas.Canvas.fill_and_render(2, 2)\n",
      "prediction = test_im.predict_from_windows(sliding_window_shape, all_X, all_Y)\n",
      "\n",
      "plt.subplot(131)\n",
      "plt.imshow(test_im.im, interpolation='nearest')\n",
      "plt.subplot(132)\n",
      "plt.imshow(test_im.render_tsdf)\n",
      "plt.subplot(133)\n",
      "plt.imshow(prediction)\n",
      "#plt.plot(test_im.depth_image)"
     ],
     "language": "python",
     "metadata": {},
     "outputs": [],
     "prompt_number": ""
    },
    {
     "cell_type": "code",
     "collapsed": false,
     "input": [],
     "language": "python",
     "metadata": {},
     "outputs": []
    }
   ],
   "metadata": {}
  }
 ]
}