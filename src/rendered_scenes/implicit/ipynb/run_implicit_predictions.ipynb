{
 "nbformat": 3,
 "nbformat_minor": 0,
 "worksheets": [
  {
   "cells": [
    {
     "cell_type": "code",
     "collapsed": false,
     "input": [
      "'''\n",
      "aim is to debug the feature computations.\n",
      "'''\n",
      "%matplotlib inline\n",
      "%load_ext autoreload\n",
      "%autoreload 2\n",
      "\n",
      "import numpy as np\n",
      "import scipy.io\n",
      "import matplotlib.pyplot as plt\n",
      "import sys, os\n",
      "import yaml\n",
      "\n",
      "base_path = '/Users/Michael/projects/shape_sharing/data/'\\\n",
      "    'rendered_arrangements/test_sequences/dm779sgmpnihle9x/'\n",
      "    \n",
      "sys.path.append(os.path.expanduser('~/projects/shape_sharing/src/'))\n",
      "sys.path.append(os.path.expanduser('~/projects/shape_sharing/src/intrinsic/'))\n",
      "from common import carving\n",
      "from common import paths\n",
      "from common import images\n",
      "from common import voxel_data\n",
      "from features import line_casting"
     ]
    },
    {
     "cell_type": "code",
     "collapsed": false,
     "input": [
      "# observing the TSDF grid from the fusion from a few frames...\n",
      "plt.rcParams['figure.figsize'] = (10.0, 8.0)\n",
      "\n",
      "def display_grid(G, number_to_plot):\n",
      "    ''' displays grid in subplots or something '''\n",
      "    idxs = np.linspace(0, G.shape[2]-1, number_to_plot+2)[1:-1]\n",
      "    dims = np.ceil(np.sqrt(number_to_plot))\n",
      "    print dims\n",
      "    for count, idx in enumerate(idxs):\n",
      "        plt.subplot(dims, dims, count+1)\n",
      "        plt.imshow(G[:, :, idx].astype(np.float32))\n",
      "        plt.axis('off')\n",
      "        plt.colorbar()"
     ]
    },
    {
     "cell_type": "code",
     "collapsed": false,
     "input": [
      "# testing the same on the test scene...\n",
      "with open(paths.yaml_test_location, 'r') as f:\n",
      "    test_sequences = yaml.load(f)\n",
      "sequence = test_sequences[0]\n",
      "\n",
      "# this is where to\n",
      "input_data_path = paths.scenes_location + sequence['scene']\n",
      "vid = images.RGBDVideo()\n",
      "vid.load_from_yaml(input_data_path, 'poses.yaml')\n",
      "\n",
      "# load in the ground truth grid for this scene, and converting nans\n",
      "gt_vox = voxel_data.load_voxels(input_data_path + '/voxelgrid.pkl')\n",
      "gt_vox.V[np.isnan(gt_vox.V)] = -0.1#-0.03\n",
      "\n",
      "carver = carving.Fusion()\n",
      "carver.set_video(vid.subvid(sequence['frames']))\n",
      "partial_tsdf = gt_vox.blank_copy()\n",
      "carver.set_voxel_grid(partial_tsdf)\n",
      "partial_tsdf, visible = carver.fuse(0.1)\n"
     ]
    },
    {
     "cell_type": "code",
     "collapsed": false,
     "input": [
      "known_full_voxels = visible\n",
      "known_empty_voxels = partial_tsdf.blank_copy()\n",
      "known_empty_voxels.V = partial_tsdf.V > 0\n",
      "\n",
      "X, Y = line_casting.feature_pairs_3d(\n",
      "        known_empty_voxels, known_full_voxels, gt_vox.V,\n",
      "        samples=-1, base_height=0, autorotate=False)"
     ]
    },
    {
     "cell_type": "code",
     "collapsed": false,
     "input": [
      "import cPickle as pickle\n",
      "rf_path = paths.implicit_models_folder + 'model.pkl'\n",
      "rf = pickle.load(open(rf_path, 'rb'))\n",
      "Y_pred = rf.predict(X.astype(np.float32))"
     ]
    },
    {
     "cell_type": "code",
     "collapsed": false,
     "input": [
      "low_end = Y_pred < -0.09\n",
      "plt.subplot(211)\n",
      "plt.bar(range(52), np.sum(X[low_end, :], axis=0).astype(float) / np.sum(low_end))\n",
      "plt.subplot(212)\n",
      "plt.bar(range(52), np.sum(X[~low_end, :], axis=0).astype(float) / np.sum(~low_end))"
     ]
    },
    {
     "cell_type": "code",
     "collapsed": false,
     "input": [
      "plt.rcParams['figure.figsize'] = (15.0, 10.0)\n",
      "plt.subplot(211)\n",
      "plt.hist(Y, 50)\n",
      "plt.subplot(212)\n",
      "plt.hist(Y_pred, 50)\n",
      "plt.show()"
     ]
    },
    {
     "cell_type": "code",
     "collapsed": false,
     "input": [
      "# now checking the prediction we have made...\n",
      "plt.rcParams['figure.figsize'] = (20.0, 20.0)\n",
      "\n",
      "pred_grid = partial_tsdf.copy() #pred_grid.V.astype(np.float64) + 0.03\n",
      "unknown_voxel_idxs = np.logical_and(\n",
      "        known_empty_voxels.V.flatten() == 0,\n",
      "        known_full_voxels.V.flatten() == 0)\n",
      "\n",
      "pred_grid.set_indicated_voxels(unknown_voxel_idxs == 1, Y_pred)\n",
      "#pred = voxel_data.load_voxels(paths.test_sequences_save_location + 'dm779sgmpnihle9x/prediction.pkl')\n",
      "display_grid(pred_grid.V, 6)"
     ]
    },
    {
     "cell_type": "code",
     "collapsed": false,
     "input": [
      "dists, observed = line_casting.line_features_3d(\n",
      "    known_empty_voxels, known_full_voxels, base_height=0, autorotate=False)"
     ]
    },
    {
     "cell_type": "code",
     "collapsed": false,
     "input": [
      "display_grid(dists[11], 6)"
     ]
    },
    {
     "cell_type": "code",
     "collapsed": false,
     "input": [
      "plt.rcParams['figure.figsize'] = (20.0, 5.0)\n",
      "plt.bar(range(len(rf.feature_importances_)), rf.feature_importances_)\n",
      "plt.show()"
     ]
    },
    {
     "cell_type": "code",
     "collapsed": false,
     "input": [
      "print np.argmax(rf.feature_importances_)\n",
      "plt.hist(X[:, 26], 50)"
     ]
    }
   ],
   "metadata": {}
  }
 ],
 "metadata": {
  "name": ""
 }
}