{
 "nbformat_minor": 0,
 "nbformat": 4,
 "cells": [
  {
   "execution_count": 2,
   "cell_type": "code",
   "source": [
    "%matplotlib inline\n",
    "%load_ext autoreload\n",
    "%autoreload 2\n",
    "\n",
    "import matplotlib.pyplot as plt\n",
    "import numpy as np\n",
    "import sys\n",
    "import os\n",
    "\n",
    "from skimage.morphology import binary_erosion, binary_dilation, disk\n",
    "from skimage.measure import label\n",
    "\n",
    "sys.path.append('/Users/Michael/projects/shape_sharing/src/')\n",
    "from common import paths, voxel_data, images, parameters, scene, mesh"
   ]
  },
  {
   "execution_count": 6,
   "cell_type": "code",
   "source": [
    "ms = mesh.Mesh()\n",
    "ms.vertices = np.random.rand(100, 3)\n",
    "ms.faces = np.random.randint(0, 100, (50, 3))\n",
    "labels = np.random.randint(0, 2, (100))\n",
    "print labels"
   ]
  },
  {
   "execution_count": 9,
   "cell_type": "code",
   "source": [
    "ms.write_to_obj('./coloured_verts.obj', labels)"
   ]
  },
  {
   "execution_count": 15,
   "cell_type": "code",
   "source": [
    "'''\n",
    "make predictions for all of bigbird dataset\n",
    "using my algorhtm\n",
    "saves each prediction to disk\n",
    "'''\n",
    "import numpy as np\n",
    "import matplotlib\n",
    "matplotlib.use('Agg')\n",
    "import matplotlib.pyplot as plt\n",
    "import cPickle as pickle\n",
    "import sys\n",
    "import os\n",
    "sys.path.append(os.path.expanduser(\"~/projects/shape_sharing/src/\"))\n",
    "from time import time\n",
    "import copy\n",
    "\n",
    "from common import paths\n",
    "from common import parameters\n",
    "from common import voxlets\n",
    "from common import scene\n",
    "\n",
    "\n",
    "# loading model\n",
    "with open(paths.RenderedData.voxlet_model_oma_path, 'rb') as f:\n",
    "    model = pickle.load(f)\n",
    "\n",
    "# for count, tree in enumerate(model.forest.trees):\n",
    "#     print count, len(tree.leaf_nodes())\n",
    "#     lengths = np.array([len(leaf.exs_at_node) for leaf in tree.leaf_nodes()])\n",
    "#     print np.sum(lengths<10), np.sum(np.logical_and(lengths>10, lengths<50)), np.sum(lengths>50)\n",
    "\n",
    "\n",
    "test_types = ['oma']\n",
    "\n",
    "print \"Checking results folders exist, creating if not\"\n",
    "for test_type in test_types + ['partial_tsdf', 'visible_voxels']:\n",
    "    print test_type\n",
    "    folder_save_path = \\\n",
    "        paths.RenderedData.voxlet_prediction_path % (test_type, '_')\n",
    "    folder_save_path = os.path.dirname(folder_save_path)\n",
    "    print folder_save_path\n",
    "    if not os.path.exists(folder_save_path):\n",
    "        os.makedirs(folder_save_path)\n",
    "\n",
    "\n",
    "print \"MAIN LOOP\"\n",
    "# Note: if parallelising, should either do here (at top level) or at the\n",
    "# bottom level, where the predictions are accumulated (although this might be)\n",
    "# better off being GPU...)\n",
    "\n",
    "sequence = paths.RenderedData.test_sequence()[0]\n",
    "\n",
    "sc = scene.Scene()\n",
    "sc.load_sequence(sequence, frame_nos=0, segment_with_gt=True, save_grids=False)\n",
    "sc.santity_render(save_folder='/tmp/')\n",
    "\n",
    "\n",
    "test_type = 'oma'\n",
    "\n",
    "print \"-> Reconstructing with oma forest\"\n",
    "rec = voxlets.Reconstructer(\n",
    "    reconstruction_type='kmeans_on_pca', combine_type='modal_vote')\n",
    "rec.set_model(model)\n",
    "rec.set_scene(sc)\n",
    "rec.sample_points(parameters.VoxletPrediction.number_samples)\n",
    "rec.initialise_output_grid(gt_grid=sc.gt_tsdf)\n",
    "\n",
    "blank_rec = copy.deepcopy(rec)\n",
    "\n",
    "# Here just complete one voxlet at a time...\n",
    "sampled_idxs = rec.sampled_idxs\n",
    "for count, idx in enumerate(sampled_idxs[:1]):\n",
    "\n",
    "    rec = copy.deepcopy(blank_rec)\n",
    "\n",
    "    rec.sampled_idxs = [idx]\n",
    "    prediction = rec.fill_in_output_grid_oma( render_type=[], #['matplotlib'],\n",
    "        render_savepath='/tmp/renders/')\n",
    "    prediction_keeping_exisiting = rec.keeping_existing\n",
    "\n",
    "    # Rendering the prediction\n",
    "    renderpath = paths.RenderedData.voxlet_prediction_img_path % \\\n",
    "        (test_type, sequence['name'] + '_voxlet_number_%d' % count)"
   ]
  },
  {
   "execution_count": 18,
   "cell_type": "code",
   "source": [
    "ms1 = mesh.Mesh()\n",
    "ms1.from_volume(prediction, 0)\n",
    "ms1.remove_nan_vertices()\n",
    "\n",
    "ms2 = mesh.Mesh()\n",
    "ms2.from_volume(prediction_keeping_exisiting, 0)\n",
    "ms2.remove_nan_vertices()"
   ]
  },
  {
   "execution_count": 25,
   "cell_type": "code",
   "source": [
    "plt.figure(figsize=(10, 10))\n",
    "plt.plot(ms2.vertices[:, 0], ms2.vertices[:, 1], 'r.')\n",
    "plt.plot(ms1.vertices[:, 0], ms1.vertices[:, 1], 'b.')\n",
    "#plt.axis('equal')\n",
    "plt.xlim((0.4, 0.5))\n",
    "plt.ylim((0.4, 0.5))"
   ]
  }
 ],
 "metadata": {
  "kernelspec": {
   "display_name": "Python 2",
   "name": "python2",
   "language": "python"
  },
  "language_info": {
   "mimetype": "text/x-python",
   "nbconvert_exporter": "python",
   "name": "python",
   "file_extension": ".py",
   "version": "2.7.9",
   "pygments_lexer": "ipython2",
   "codemirror_mode": {
    "version": 2,
    "name": "ipython"
   }
  }
 }
}