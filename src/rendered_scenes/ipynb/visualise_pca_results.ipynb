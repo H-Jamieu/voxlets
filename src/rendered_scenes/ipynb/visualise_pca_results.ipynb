{
 "nbformat_minor": 0,
 "nbformat": 4,
 "cells": [
  {
   "execution_count": 1,
   "cell_type": "code",
   "source": [
    "'''\n",
    "this will show the results of the pca...and possibly the kmeans also?\n",
    "'''\n",
    "%matplotlib inline\n",
    "%load_ext autoreload\n",
    "%autoreload 2\n",
    "\n",
    "import matplotlib.pyplot as plt\n",
    "import numpy as np\n",
    "import cPickle as pickle\n",
    "import sys\n",
    "import os\n",
    "\n",
    "sys.path.append('/Users/Michael/projects/shape_sharing/src/')\n",
    "from common import paths\n",
    "from common import parameters"
   ]
  },
  {
   "execution_count": 2,
   "cell_type": "code",
   "source": [
    "''' Displaying PCA components '''\n",
    "pca_savepath = paths.RenderedData.voxlets_dictionary_path + 'shoeboxes_pca.pkl'\n",
    "with open(pca_savepath, 'r') as f:\n",
    "    pca = pickle.load(f)\n",
    "    \n",
    "plt.rcParams['figure.figsize'] = (10.0, 8.0)\n",
    "\n",
    "def dispf(vec):\n",
    "    temp = vec.reshape(parameters.Voxlet.shape)[5, :, ::-1].T\n",
    "    plt.imshow(temp, interpolation='nearest')\n",
    "    plt.clim([-0.03, 0.03])\n",
    "    plt.colorbar()\n",
    "\n",
    "plt.subplot(4, 3, 1) \n",
    "dispf(pca.mean_)\n",
    "\n",
    "for idx in range(10):\n",
    "    plt.subplot(4, 3, idx+2) \n",
    "    dispf(pca.components_[idx])\n"
   ]
  },
  {
   "execution_count": 3,
   "cell_type": "code",
   "source": [
    "''' Displaying kmeans centers components '''\n",
    "kmeans_savepath = paths.RenderedData.voxlets_dictionary_path + 'shoeboxes_kmean.pkl'\n",
    "with open(kmeans_savepath, 'r') as f:\n",
    "    kmeans = pickle.load(f)\n"
   ]
  },
  {
   "execution_count": 4,
   "cell_type": "code",
   "source": [
    "plt.rcParams['figure.figsize'] = (10.0, 8.0)\n",
    "print parameters.Voxlet.shape\n",
    "h, w = 7, 4\n",
    "for idx in range(h*w):\n",
    "    to_show = kmeans.cluster_centers_[idx].reshape(\n",
    "        parameters.Voxlet.shape)\n",
    "    plt.subplot(h, w, idx+1) \n",
    "    plt.imshow(np.mean(to_show, axis=2), interpolation='nearest')\n",
    "    plt.clim(-0.05, 0.05)\n",
    "    plt.colorbar()"
   ]
  },
  {
   "execution_count": 5,
   "cell_type": "code",
   "source": [
    "''' Displaying kmeans centers components '''\n",
    "kmeans_savepath = paths.RenderedData.voxlets_dictionary_path + 'features_kmean.pkl'\n",
    "with open(kmeans_savepath, 'r') as f:\n",
    "    kmeans = pickle.load(f)\n"
   ]
  },
  {
   "execution_count": 7,
   "cell_type": "code",
   "source": [
    "plt.rcParams['figure.figsize'] = (10.0, 8.0)\n",
    "print parameters.Voxlet.shape\n",
    "h, w = 7, 4\n",
    "for idx in range(h*w):\n",
    "    to_show = kmeans.cluster_centers_[idx].reshape(\n",
    "        parameters.Voxlet.shape)\n",
    "    plt.subplot(h, w, idx+1) \n",
    "    #plt.imshow(np.mean(to_show, axis=2), interpolation='nearest')\n",
    "    plt.imshow(np.mean(to_show, axis=2), interpolation='nearest')\n",
    "    plt.clim(-0.05, 0.05)\n",
    "    plt.colorbar()"
   ]
  },
  {
   "execution_count": null,
   "cell_type": "code",
   "source": []
  }
 ],
 "metadata": {
  "kernelspec": {
   "display_name": "Python 2",
   "name": "python2",
   "language": "python"
  },
  "language_info": {
   "mimetype": "text/x-python",
   "nbconvert_exporter": "python",
   "name": "python",
   "file_extension": ".py",
   "version": "2.7.9",
   "pygments_lexer": "ipython2",
   "codemirror_mode": {
    "version": 2,
    "name": "ipython"
   }
  }
 }
}