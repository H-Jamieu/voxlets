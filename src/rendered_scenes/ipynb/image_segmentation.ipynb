{
 "nbformat_minor": 0,
 "nbformat": 4,
 "cells": [
  {
   "execution_count": 70,
   "cell_type": "code",
   "source": [
    "%matplotlib inline\n",
    "%load_ext autoreload\n",
    "%autoreload 2\n",
    "\n",
    "import matplotlib.pyplot as plt\n",
    "\n",
    "import numpy as np\n",
    "import cPickle as pickle\n",
    "import sys\n",
    "import os\n",
    "import yaml\n",
    "\n",
    "sys.path.append('/Users/Michael/projects/shape_sharing/src/')\n",
    "from common import paths\n",
    "from common import voxel_data\n",
    "from common import images\n",
    "from common import parameters\n",
    "from common import features"
   ]
  },
  {
   "execution_count": 73,
   "cell_type": "code",
   "source": [
    "sequence = paths.RenderedData.train_sequence()[1]\n",
    "\n",
    "# loading the information about this frame\n",
    "frame_data = paths.RenderedData.load_scene_data(\n",
    "    sequence['scene'], sequence['frames'][0])\n",
    "\n",
    "# for now I will just use the first frame of frames as the one to use\n",
    "im = images.RGBDImage.load_from_dict(\n",
    "    paths.RenderedData.scenes_location + sequence['scene'], frame_data)\n",
    "norm_engine = features.Normals()\n",
    "im.normals = norm_engine.compute_normals(im)"
   ]
  },
  {
   "execution_count": 74,
   "cell_type": "code",
   "source": [
    "print im.normals.shape\n",
    "plt.imshow(im.normals[:, 0].reshape(im.depth.shape))\n",
    "norms = im.normals.reshape((480, 640, 3))\n",
    "plt.imshow(norms[:, :, 2])"
   ]
  },
  {
   "execution_count": 128,
   "cell_type": "code",
   "source": [
    "hdiff_n = np.zeros(im.depth.shape)\n",
    "hdiff_n_c = np.zeros(im.depth.shape)\n",
    "\n",
    "xyz = im.reproject_3d().T.reshape((480, 640, 3))\n",
    "#print xyz.shape\n",
    "\n",
    "for i in range(480-1):\n",
    "    temp = np.sum(norms[i, :, :] * norms[i+1, :, :], axis=1)\n",
    "    temp[temp<0] = 0\n",
    "    if i < 480 - 10:\n",
    "        temp_dir = np.sum((xyz[i, :, :] - xyz[i+5, :, :]) * norms[i, :, :], axis=1)\n",
    "    hdiff_n_c[i, :] = temp_dir > 0\n",
    "    hdiff_n[i, temp_dir>=0] = (1 - temp[temp_dir>=0])**2\n",
    "    hdiff_n[i, temp_dir<0] = (1 - temp[temp_dir<0])\n",
    "\n",
    "vdiff_n = np.zeros(im.depth.shape)\n",
    "vdiff_n_c = np.zeros(im.depth.shape)\n",
    "for i in range(640-1):\n",
    "    temp = np.sum(norms[:, i, :] * norms[:, i+1, :], axis=1)\n",
    "    temp[temp<0] = 0\n",
    "    if i < 640 - 10:\n",
    "        temp_dir = np.sum((xyz[:, i, :] - xyz[:, i+5, :]) * norms[:, i, :], axis=1)\n",
    "    vdiff_n_c[:, i] = temp_dir > 0\n",
    "    vdiff_n[temp_dir>=0, i] = (1 - temp[temp_dir>=0])**2\n",
    "    vdiff_n[temp_dir<0, i] = (1 - temp[temp_dir<0])\n",
    "\n",
    "plt.rcParams['figure.figsize'] = (10, 10)\n",
    "plt.imshow(~(hdiff_n**2 + vdiff_n**2 > 0.1) & (temp_mask))\n",
    "plt.clim((0, 1))\n",
    "plt.colorbar()\n",
    "print hdiff_n_c"
   ]
  },
  {
   "execution_count": 7,
   "cell_type": "code",
   "source": [
    "# but actually want to segment on the graph.. using skimage? sklearn?\n",
    "import scipy.sparse as sps\n",
    "dists = sps.lil_matrix((640*480, 640*480), dtype=np.float16)\n"
   ]
  },
  {
   "execution_count": 12,
   "cell_type": "code",
   "source": [
    "H = im.get_world_xyz()[:, 2]\n",
    "ground_plane = np.abs(H.reshape(im.mask.shape)) < 0.01\n",
    "\n",
    "temp_mask = ~ground_plane & im.mask\n",
    "plt.imshow(temp_mask)"
   ]
  },
  {
   "execution_count": 66,
   "cell_type": "code",
   "source": [
    "hdiff = np.zeros(im.depth.shape)\n",
    "for i in range(480-1):\n",
    "    hdiff[i, :] = im.depth[i, :] - im.depth[i+1, :]\n",
    "\n",
    "vdiff = np.zeros(im.depth.shape)\n",
    "for i in range(640-1):\n",
    "    vdiff[:, i] = im.depth[:, i] - im.depth[:, i+1]\n",
    "\n",
    "ddiff = np.sqrt(hdiff**2 + vdiff**2)\n",
    "plt.imshow(ddiff)"
   ]
  },
  {
   "execution_count": 65,
   "cell_type": "code",
   "source": [
    "seg = ~((ddiff > 0.05) | ~temp_mask)\n",
    "plt.imshow(seg)\n",
    "\n",
    "from skimage.morphology import watershed\n",
    "from skimage.measure import label\n",
    "from skimage.feature import peak_local_max\n",
    "from scipy import ndimage\n",
    "\n",
    "distance = ndimage.distance_transform_edt(seg)\n",
    "plt.imshow(distance)\n",
    "local_maxi = peak_local_max(distance, indices=False, footprint=np.ones((60, 60)),labels=seg)\n",
    "markers = label(local_maxi)\n",
    "labels_ws = watershed(-distance, markers, mask=seg)\n",
    "\n",
    "plt.imshow(labels_ws)"
   ]
  }
 ],
 "metadata": {
  "kernelspec": {
   "display_name": "Python 2",
   "name": "python2",
   "language": "python"
  },
  "language_info": {
   "mimetype": "text/x-python",
   "nbconvert_exporter": "python",
   "name": "python",
   "file_extension": ".py",
   "version": "2.7.9",
   "pygments_lexer": "ipython2",
   "codemirror_mode": {
    "version": 2,
    "name": "ipython"
   }
  }
 }
}