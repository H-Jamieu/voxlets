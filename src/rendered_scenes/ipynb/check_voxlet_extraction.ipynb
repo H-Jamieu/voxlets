{
 "nbformat": 3,
 "nbformat_minor": 0,
 "worksheets": [
  {
   "cells": [
    {
     "cell_type": "code",
     "collapsed": false,
     "input": [
      "%matplotlib inline\n",
      "%load_ext autoreload\n",
      "%autoreload 2\n",
      "\n",
      "import matplotlib.pyplot as plt\n",
      "import numpy as np\n",
      "import cPickle as pickle\n",
      "import sys\n",
      "import os\n",
      "import yaml\n",
      "import scipy.io\n",
      "\n",
      "sys.path.append('/Users/Michael/projects/shape_sharing/src/')\n",
      "from common import paths\n",
      "from common import voxel_data\n",
      "from common import images\n",
      "from common import parameters\n",
      "from common import features\n",
      "from common import mesh"
     ]
    },
    {
     "cell_type": "code",
     "collapsed": false,
     "input": [
      "with open('/tmp/grid.pkl', 'rb') as f:\n",
      "    grid = pickle.load(f)\n",
      "with open('/tmp/im.pkl', 'rb') as f:\n",
      "    im = pickle.load(f)"
     ]
    },
    {
     "cell_type": "code",
     "collapsed": false,
     "input": [
      "plt.subplot(121)\n",
      "plt.imshow(im.depth)\n",
      "plt.subplot(122)\n",
      "plt.imshow(im.mask)"
     ]
    },
    {
     "cell_type": "code",
     "collapsed": false,
     "input": [
      "grid.V[np.isnan(grid.V)] = 0\n",
      "\n",
      "ms = mesh.Mesh()\n",
      "ms.from_volume(grid)\n",
      "world_xyz = im.get_world_xyz()\n",
      "\n",
      "idxs = im.random_sample_from_mask(2000)\n",
      "pidxs = np.array([idx[0] * im.mask.shape[1] + idx[1] for idx in idxs])"
     ]
    },
    {
     "cell_type": "code",
     "collapsed": false,
     "input": [
      "#plt.imshow(np.median(grid.V, axis=2))\n",
      "plt.rcParams['figure.figsize'] = (10.0, 10.0)\n",
      "plt.plot(ms.vertices[:, 0], ms.vertices[:, 1], '.g')\n",
      "plt.hold(True)\n",
      "plt.plot(world_xyz[pidxs, 0], world_xyz[pidxs, 1], '.')\n",
      "plt.plot(world_xyz[pidxs[0], 0], world_xyz[pidxs[0], 1], 'ro')\n",
      "plt.hold(False)\n",
      "#plt.axis('equal')"
     ]
    },
    {
     "cell_type": "code",
     "collapsed": false,
     "input": [
      "# now need to... check that the voxlets are being extracted properly...\n",
      "point_idx = pidxs[0]\n",
      "world_norms = im.get_world_normals()\n",
      "\n",
      "shoebox = voxel_data.ShoeBox(parameters.Voxlet.shape, np.float32)\n",
      "shoebox.V *= 0\n",
      "shoebox.V -= parameters.RenderedVoxelGrid.mu  # set the outside area to mu\n",
      "shoebox.set_p_from_grid_origin(parameters.Voxlet.centre)  # m\n",
      "shoebox.set_voxel_size(parameters.Voxlet.size)  # m\n",
      "\n",
      "start_x = world_xyz[point_idx, 0]\n",
      "start_y = world_xyz[point_idx, 1]\n",
      "start_z = 0.375\n",
      "shoebox.initialise_from_point_and_normal(\n",
      "    np.array([start_x, start_y, start_z]),\n",
      "    world_norms[point_idx],\n",
      "    np.array([0, 0, 1]))\n",
      "\n",
      "# convert the indices to world xyz space\n",
      "shoebox.fill_from_grid(grid)\n"
     ]
    },
    {
     "cell_type": "code",
     "collapsed": false,
     "input": [
      "print shoebox.V.min(), shoebox.V.max()\n",
      "plt.imshow(np.median(shoebox.V, axis=2), interpolation='nearest')\n",
      "plt.colorbar()"
     ]
    },
    {
     "cell_type": "code",
     "collapsed": false,
     "input": []
    }
   ],
   "metadata": {}
  }
 ],
 "metadata": {
  "name": ""
 }
}