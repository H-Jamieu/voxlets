{
 "nbformat_minor": 0,
 "nbformat": 4,
 "cells": [
  {
   "execution_count": "",
   "cell_type": "code",
   "source": [
    "'''\n",
    "thiss will show the results of the pca...and possibly the kmeans also?\n",
    "'''\n",
    "%matplotlib inline\n",
    "%load_ext autoreload\n",
    "%autoreload 2\n",
    "\n",
    "import matplotlib.pyplot as plt\n",
    "import numpy as np\n",
    "import cPickle as pickle\n",
    "import sys\n",
    "import os\n",
    "\n",
    "sys.path.append('/Users/Michael/projects/shape_sharing/src/')\n",
    "from common import paths\n",
    "from common import parameters\n",
    "from common import voxel_data"
   ]
  },
  {
   "execution_count": "",
   "cell_type": "code",
   "source": [
    "toload = os.path.expanduser('~/projects/shape_sharing/data/rendered_arrangements/voxlets/predictions/oma/38p4z5b6189kyfv7.pkl')\n",
    "pred = voxel_data.load_voxels(toload)"
   ]
  },
  {
   "execution_count": 1,
   "cell_type": "code",
   "source": [
    "plt.imshow(np.mean(pred.V, axis=1).T)\n",
    "plt.clim(-0.1, 0.1)\n",
    "plt.colorbar()"
   ]
  },
  {
   "execution_count": null,
   "cell_type": "code",
   "source": []
  }
 ],
 "metadata": {
  "kernelspec": {
   "display_name": "Python 2",
   "name": "python2",
   "language": "python"
  },
  "language_info": {
   "mimetype": "text/x-python",
   "nbconvert_exporter": "python",
   "name": "python",
   "file_extension": ".py",
   "version": "2.7.9",
   "pygments_lexer": "ipython2",
   "codemirror_mode": {
    "version": 2,
    "name": "ipython"
   }
  }
 }
}