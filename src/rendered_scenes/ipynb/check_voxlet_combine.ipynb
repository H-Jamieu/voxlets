{
 "nbformat": 3,
 "nbformat_minor": 0,
 "worksheets": [
  {
   "cells": [
    {
     "cell_type": "code",
     "collapsed": false,
     "input": [
      "'''\n",
      "thiss will show the results of the pca...and possibly the kmeans also?\n",
      "'''\n",
      "%matplotlib inline\n",
      "%load_ext autoreload\n",
      "%autoreload 2\n",
      "\n",
      "import matplotlib.pyplot as plt\n",
      "import numpy as np\n",
      "import cPickle as pickle\n",
      "import sys\n",
      "import os\n",
      "\n",
      "sys.path.append('/Users/Michael/projects/shape_sharing/src/')\n",
      "from common import paths\n",
      "from common import parameters\n",
      "from common import voxel_data"
     ]
    },
    {
     "cell_type": "code",
     "collapsed": false,
     "input": [
      "toload = os.path.expanduser('~/projects/shape_sharing/data/rendered_arrangements/voxlets/predictions/oma/38p4z5b6189kyfv7.pkl')\n",
      "pred = voxel_data.load_voxels(toload)"
     ]
    },
    {
     "cell_type": "code",
     "collapsed": false,
     "input": [
      "plt.imshow(np.mean(pred.V, axis=1).T)\n",
      "plt.clim(-0.1, 0.1)\n",
      "plt.colorbar()"
     ]
    }
   ],
   "metadata": {}
  }
 ],
 "metadata": {
  "name": ""
 }
}