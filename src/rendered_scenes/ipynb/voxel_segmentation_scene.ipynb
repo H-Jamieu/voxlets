{
 "nbformat_minor": 0,
 "nbformat": 4,
 "cells": [
  {
   "execution_count": 12,
   "cell_type": "code",
   "source": [
    "%matplotlib inline\n",
    "%load_ext autoreload\n",
    "%autoreload 2\n",
    "\n",
    "import matplotlib.pyplot as plt\n",
    "import numpy as np\n",
    "import sys\n",
    "import os\n",
    "\n",
    "from skimage.morphology import binary_erosion, binary_dilation, disk\n",
    "from skimage.measure import label\n",
    "\n",
    "sys.path.append('/Users/Michael/projects/shape_sharing/src/')\n",
    "from common import paths, voxel_data, images, parameters, scene"
   ]
  },
  {
   "execution_count": 15,
   "cell_type": "code",
   "source": [
    "sequence = paths.RenderedData.test_sequence()[0]\n",
    "\n",
    "sc = scene.Scene()\n",
    "sc.load_sequence(sequence, frame_nos=0, segment_with_gt=True, save_grids=False)\n"
   ]
  },
  {
   "execution_count": 24,
   "cell_type": "code",
   "source": [
    "plt.figure(figsize=(12, 10))\n",
    "plt.subplot(1, 3, 1)\n",
    "plt.imshow(sc.im.rgb)\n",
    "plt.title('View from camera')\n",
    "plt.subplot(1, 3, 2)\n",
    "plt.imshow(sc.gt_labels.V[:, :, 13])\n",
    "plt.title('Top-down view, segmented')\n",
    "plt.subplot(1, 3, 3)\n",
    "plt.imshow(sc.visible_im_label)\n",
    "plt.title('Segmentation projected \\nback into camera')\n",
    "\n",
    "plt.savefig('/tmp/views.pdf')"
   ]
  },
  {
   "execution_count": null,
   "cell_type": "code",
   "source": []
  }
 ],
 "metadata": {
  "kernelspec": {
   "display_name": "Python 2",
   "name": "python2",
   "language": "python"
  },
  "language_info": {
   "mimetype": "text/x-python",
   "nbconvert_exporter": "python",
   "name": "python",
   "file_extension": ".py",
   "version": "2.7.9",
   "pygments_lexer": "ipython2",
   "codemirror_mode": {
    "version": 2,
    "name": "ipython"
   }
  }
 }
}