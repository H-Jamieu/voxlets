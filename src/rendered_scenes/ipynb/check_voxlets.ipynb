{
 "metadata": {
  "name": ""
 },
 "nbformat": 3,
 "nbformat_minor": 0,
 "worksheets": [
  {
   "cells": [
    {
     "cell_type": "code",
     "collapsed": false,
     "input": [
      "%matplotlib inline\n",
      "%load_ext autoreload\n",
      "%autoreload 2\n",
      "\n",
      "import matplotlib.pyplot as plt\n",
      "import numpy as np\n",
      "import cPickle as pickle\n",
      "import sys\n",
      "import os\n",
      "import yaml\n",
      "import scipy.io\n",
      "\n",
      "sys.path.append('/Users/Michael/projects/shape_sharing/src/')\n",
      "from common import paths\n",
      "from common import voxel_data\n",
      "from common import images\n",
      "from common import parameters\n",
      "from common import features"
     ],
     "language": "python",
     "metadata": {},
     "outputs": []
    },
    {
     "cell_type": "code",
     "collapsed": false,
     "input": [
      "sequence = paths.RenderedData.train_sequence()[0]\n",
      "matpath = paths.RenderedData.voxlets_dict_data_path + \\\n",
      "        sequence['name'] + '.mat'\n",
      "    \n",
      "scene_folder = paths.scenes_location + sequence['scene']\n",
      "gt_vox = voxel_data.load_voxels(scene_folder + '/voxelgrid.pkl')\n",
      "gt_vox.V[np.isnan(gt_vox.V)] = -0.1\n",
      "gt_vox.set_origin(gt_vox.origin)"
     ],
     "language": "python",
     "metadata": {},
     "outputs": []
    },
    {
     "cell_type": "code",
     "collapsed": false,
     "input": [
      "# loading this frame\n",
      "frame_data = paths.RenderedData.load_scene_data(\n",
      "    sequence['scene'], sequence['frames'][0])\n",
      "im = images.RGBDImage.load_from_dict(\n",
      "    paths.scenes_location + sequence['scene'], frame_data)\n",
      "\n",
      "# computing normals...\n",
      "norm_engine = features.Normals()\n",
      "im.normals = norm_engine.compute_normals(im)\n",
      "\n",
      "world_xyz = im.get_world_xyz()\n",
      "world_norms = im.get_world_normals()\n",
      "\n",
      "floor_plane = np.abs(im.get_world_xyz()[:, 2] - 0) < 3e-3\n",
      "im.mask = np.logical_and(im.mask, ~floor_plane.reshape(im.mask.shape))\n",
      "\n",
      "#plt.imshow(floor_plane.reshape(im.mask.shape))\n",
      "plt.imshow(im.mask)"
     ],
     "language": "python",
     "metadata": {},
     "outputs": []
    },
    {
     "cell_type": "code",
     "collapsed": false,
     "input": [
      "# computing normals...\n",
      "norm_engine = features.Normals()\n",
      "im.normals = norm_engine.compute_normals(im)\n",
      "\n",
      "\"Sampling from image\"\n",
      "index = im.random_sample_from_mask(1)[0]\n",
      "print index\n",
      "\n",
      "# getting the 3d point\n",
      "world_xyz = im.get_world_xyz()\n",
      "world_norms = im.get_world_normals()\n",
      "\n",
      "# convert to linear idx\n",
      "point_idx = index[0] * im.mask.shape[1] + index[1]\n",
      "\n",
      "shoebox = voxel_data.ShoeBox(parameters.Voxlet.shape, np.float32)  # grid size\n",
      "shoebox.set_p_from_grid_origin(parameters.Voxlet.centre)  # m\n",
      "shoebox.set_voxel_size(parameters.Voxlet.size)  # m\n",
      "shoebox.initialise_from_point_and_normal(\n",
      "    world_xyz[point_idx], world_norms[point_idx], np.array([0, 0, 1]))"
     ],
     "language": "python",
     "metadata": {},
     "outputs": []
    },
    {
     "cell_type": "code",
     "collapsed": false,
     "input": [
      "plt.rcParams['figure.figsize'] = (10.0, 8.0)\n",
      "\n",
      "sbox_ms = shoebox.world_meshgrid()\n",
      "\n",
      "plt.plot(world_xyz[:, 0], world_xyz[:, 1], '.')\n",
      "plt.hold(True)\n",
      "plt.plot(sbox_ms[:, 0], sbox_ms[:, 1], 'c.')\n",
      "plt.plot(world_xyz[point_idx, 0], world_xyz[point_idx, 1], '.r')\n",
      "plt.plot(shoebox.origin[0], shoebox.origin[1], 'og')\n",
      "\n",
      "plt.xlim(-0.75, 0.75)\n",
      "plt.ylim(-0.75, 0.75)\n",
      "\n",
      "plt.hold(False)\n",
      "#plt.axis('equal')"
     ],
     "language": "python",
     "metadata": {},
     "outputs": []
    },
    {
     "cell_type": "code",
     "collapsed": false,
     "input": [
      "shoebox.V *= 0\n",
      "shoebox.fill_from_grid(gt_vox)\n",
      "print np.sum(np.abs(shoebox.V))"
     ],
     "language": "python",
     "metadata": {},
     "outputs": []
    },
    {
     "cell_type": "code",
     "collapsed": false,
     "input": [],
     "language": "python",
     "metadata": {},
     "outputs": []
    },
    {
     "cell_type": "code",
     "collapsed": false,
     "input": [
      "\n",
      "idx = im.random_sample_from_mask(200)\n",
      "plt.imshow(im.mask)\n",
      "plt.hold(True)\n",
      "plt.plot(idx[:, 1], idx[:, 0], '.')\n",
      "plt.hold(False)"
     ],
     "language": "python",
     "metadata": {},
     "outputs": []
    }
   ],
   "metadata": {}
  }
 ]
}