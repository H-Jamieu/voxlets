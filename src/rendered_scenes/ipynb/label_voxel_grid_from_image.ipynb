{
 "nbformat_minor": 0,
 "nbformat": 4,
 "cells": [
  {
   "execution_count": 1,
   "cell_type": "code",
   "source": [
    "%matplotlib inline\n",
    "%load_ext autoreload\n",
    "\n",
    "import matplotlib.pyplot as plt\n",
    "import numpy as np\n",
    "import cPickle as pickle\n",
    "import sys\n",
    "import os\n",
    "import copy\n",
    "\n",
    "sys.path.append('/Users/Michael/projects/shape_sharing/src/')\n",
    "from common import paths\n",
    "from common import parameters"
   ]
  },
  {
   "execution_count": 2,
   "cell_type": "code",
   "source": [
    "with open('/tmp/partial_segmented.pkl', 'r') as f:\n",
    "    grids = pickle.load(f)"
   ]
  },
  {
   "execution_count": 3,
   "cell_type": "code",
   "source": [
    "partial_tsdf = grids['partial_tsdf']\n",
    "im = grids['image']\n",
    "\n",
    "partial_tsdf_nonan = copy.deepcopy(partial_tsdf)\n",
    "partial_tsdf_nonan.V[\n",
    "    np.isnan(partial_tsdf_nonan.V)] = np.nanmin(partial_tsdf_nonan.V)\n",
    "\n",
    "plt.subplot(121)\n",
    "plt.imshow(partial_tsdf_nonan.V[:, :, 15])\n",
    "plt.subplot(122)\n",
    "plt.imshow(im.depth);"
   ]
  },
  {
   "execution_count": 5,
   "cell_type": "code",
   "source": [
    "# def project_unobserved_voxels(im, grid):\n",
    "#     # project the nan voxels from grid into the image...\n",
    "#     to_project_idxs = np.where(grid.V.flatten() != np.nanmax(grid.V))[0]\n",
    "#     nan_xyz = grid.world_meshgrid()[to_project_idxs]\n",
    "#     return im.cam.project_points(nan_xyz).astype(np.int32), to_project_idxs\n",
    "\n",
    "uv, to_project_idxs = partial_tsdf.project_unobserved_voxels(im)\n",
    "inside_image = im.find_points_inside_image(uv)\n",
    "\n",
    "# labels of all the non-nan voxels inside the image...\n",
    "vox_labels = im.labels[uv[inside_image, 1], uv[inside_image, 0]]\n",
    "print \"Labels present in image are \", np.unique(vox_labels)\n",
    "\n",
    "# now propograte these labels back to the main grid\n",
    "temp = to_project_idxs[inside_image]\n",
    "partial_tsdf.labels.ravel()[temp] = vox_labels\n",
    "\n",
    "plt.imshow(partial_tsdf.labels[:, :, 25]);"
   ]
  },
  {
   "execution_count": 20,
   "cell_type": "code",
   "source": [
    "def separate_binary_grids(vox_labels, flatten_labels_down):\n",
    "    '''\n",
    "    takes a 3D array of labels, and returns a dict\n",
    "    where keys are labels and values are a 3D boolean\n",
    "    array with one where that label is true\n",
    "    If flatten_labels_down == True, then cumsums along\n",
    "    the -ve z axis.\n",
    "    '''    \n",
    "    each_label_region = {}\n",
    "\n",
    "    for idx in np.unique(vox_labels):\n",
    "        label_temp = partial_tsdf.labels == idx\n",
    "\n",
    "        if flatten_labels_down:\n",
    "            label_temp = np.cumsum(\n",
    "                label_temp[:, :, ::-1], axis=2)[:, :, ::-1]\n",
    "\n",
    "        each_label_region[idx] = label=label_temp > 0\n",
    "        \n",
    "    return each_label_region\n",
    "\n",
    "\n",
    "def label_grids_to_tsdf_grids(tsdf, binary_grids):\n",
    "    '''\n",
    "    extracts the tsdf corresponding to each of the binary grids\n",
    "    '''\n",
    "    tsdf_grids = {}\n",
    "    for idx, reg in binary_grids.iteritems():\n",
    "        temp = tsdf.copy()\n",
    "        temp.V[~reg] = np.nanmax(tsdf.V)\n",
    "        tsdf_grids[idx] = temp\n",
    "        \n",
    "    return tsdf_grids\n",
    "\n",
    "labels_grids = separate_binary_grids(vox_labels, True)\n",
    "tsdf_grids = \\\n",
    "    label_grids_to_tsdf_grids(partial_tsdf_nonan, labels_grids)\n",
    "\n",
    "plt.figure(figsize=(10, 10))\n",
    "for idx, reg in tsdf_grids.iteritems():\n",
    "\n",
    "    plt.subplot(3, 3, idx+1)\n",
    "    plt.imshow(reg.V[:, :, 10])\n"
   ]
  },
  {
   "execution_count": null,
   "cell_type": "code",
   "source": []
  },
  {
   "execution_count": null,
   "cell_type": "code",
   "source": [
    "# I think I will have to project all the nan voxels into the camera\n",
    "# and then find out which voxels lie in the image mask defined\n",
    "# by this segment... This is quite complex but I think neccesary,\n",
    "# and it only needs to be done once per segment\n"
   ]
  }
 ],
 "metadata": {
  "kernelspec": {
   "display_name": "Python 2",
   "name": "python2",
   "language": "python"
  },
  "language_info": {
   "mimetype": "text/x-python",
   "nbconvert_exporter": "python",
   "name": "python",
   "file_extension": ".py",
   "version": "2.7.9",
   "pygments_lexer": "ipython2",
   "codemirror_mode": {
    "version": 2,
    "name": "ipython"
   }
  }
 }
}