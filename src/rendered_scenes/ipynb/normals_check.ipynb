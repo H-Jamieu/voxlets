{
 "nbformat": 3,
 "nbformat_minor": 0,
 "worksheets": [
  {
   "cells": [
    {
     "cell_type": "code",
     "collapsed": false,
     "input": [
      "%matplotlib inline\n",
      "%load_ext autoreload\n",
      "%autoreload 2\n",
      "\n",
      "\n",
      "import numpy as np\n",
      "import cPickle as pickle\n",
      "import sys\n",
      "import os\n",
      "import yaml\n",
      "\n",
      "sys.path.append('/Users/Michael/projects/shape_sharing/src/')\n",
      "from common import paths\n",
      "from common import voxel_data\n",
      "from common import images\n",
      "from common import parameters\n",
      "from common import features"
     ]
    },
    {
     "cell_type": "code",
     "collapsed": false,
     "input": [
      "sequence = paths.RenderedData.train_sequence()[0]\n",
      "\n",
      "# loading the information about this frame\n",
      "frame_data = paths.RenderedData.load_scene_data(\n",
      "    sequence['scene'], sequence['frames'][0])\n",
      "\n",
      "# for now I will just use the first frame of frames as the one to use\n",
      "im = images.RGBDImage.load_from_dict(\n",
      "    paths.scenes_location + sequence['scene'], frame_data)\n",
      "norm_engine = features.Normals()\n",
      "norm_engine.set_image(im)\n",
      "im.normals = norm_engine.compute_normals()\n",
      "\n"
     ]
    },
    {
     "cell_type": "code",
     "collapsed": false,
     "input": [
      "plt.rcParams['figure.figsize'] = (14.0, 12.0)\n",
      "import matplotlib.pyplot as plt\n",
      "\n",
      "plt.subplot(2, 2, 1)\n",
      "plt.imshow(im.depth)\n",
      "\n",
      "norms = im.get_world_normals()\n",
      "\n",
      "for idx in range(3):\n",
      "    temp = norms[:, idx].reshape(im.depth.shape)\n",
      "    plt.subplot(2, 2, idx + 2)\n",
      "    plt.imshow(temp)\n",
      "    plt.clim(-1, 1)\n",
      "    plt.colorbar()"
     ]
    },
    {
     "cell_type": "code",
     "collapsed": false,
     "input": []
    }
   ],
   "metadata": {}
  }
 ],
 "metadata": {
  "name": ""
 }
}