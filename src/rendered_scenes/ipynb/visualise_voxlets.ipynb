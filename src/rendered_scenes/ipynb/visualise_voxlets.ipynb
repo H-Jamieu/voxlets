{
 "metadata": {
  "name": "",
  "signature": ""
 },
 "nbformat": 3,
 "nbformat_minor": 0,
 "worksheets": [
  {
   "cells": [
    {
     "cell_type": "code",
     "collapsed": false,
     "input": [
      "%matplotlib inline\n",
      "%load_ext autoreload\n",
      "%autoreload 2\n",
      "\n",
      "import matplotlib.pyplot as plt\n",
      "import numpy as np\n",
      "import cPickle as pickle\n",
      "import sys\n",
      "import os\n",
      "import yaml\n",
      "import scipy.io\n",
      "\n",
      "sys.path.append(os.path.expanduser('~/projects/shape_sharing/src/'))\n",
      "from common import paths\n",
      "from common import voxel_data\n",
      "from common import images\n",
      "from common import parameters\n",
      "from common import features"
     ],
     "outputs": []
    },
    {
     "cell_type": "code",
     "collapsed": false,
     "input": [
      "data_path = os.path.expanduser('~/projects/shape_sharing/data/rendered_arrangements/voxlets/dictionary/kmean.pkl')\n",
      "with open(data_path, 'r') as f:\n",
      "    sboxes = pickle.load(f)\n"
     ],
     "outputs": []
    },
    {
     "cell_type": "code",
     "collapsed": false,
     "input": [
      "plt.rcParams['figure.figsize'] = (10.0, 8.0)\n",
      "print parameters.Voxlet.shape\n",
      "for idx, c in enumerate(sboxes.cluster_centers_[12:]):\n",
      "    plt.subplot(4, 3, idx+1)\n",
      "    XX = np.median(c.reshape(parameters.Voxlet.shape), axis=0)\n",
      "    plt.imshow(XX)\n",
      "    plt.colorbar()\n",
      "    if idx >= 4*3 - 1:\n",
      "        break"
     ],
     "outputs": []
    },
    {
     "cell_type": "code",
     "collapsed": false,
     "input": [],
     "outputs": []
    }
   ],
   "metadata": {}
  }
 ]
}