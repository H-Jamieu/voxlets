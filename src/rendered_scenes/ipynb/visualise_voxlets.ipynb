{
 "metadata": {
  "name": ""
 },
 "nbformat": 3,
 "nbformat_minor": 0,
 "worksheets": [
  {
   "cells": [
    {
     "cell_type": "code",
     "collapsed": false,
     "input": [
      "%matplotlib inline\n",
      "%load_ext autoreload\n",
      "%autoreload 2\n",
      "\n",
      "import matplotlib.pyplot as plt\n",
      "import numpy as np\n",
      "import cPickle as pickle\n",
      "import sys\n",
      "import os\n",
      "import yaml\n",
      "import scipy.io\n",
      "\n",
      "sys.path.append('/Users/Michael/projects/shape_sharing/src/')\n",
      "from common import paths\n",
      "from common import voxel_data\n",
      "from common import images\n",
      "from common import parameters\n",
      "from common import features"
     ],
     "language": "python",
     "metadata": {},
     "outputs": [],
     "prompt_number": ""
    },
    {
     "cell_type": "code",
     "collapsed": false,
     "input": [
      "data_path = '/Users/Michael/projects/shape_sharing/data/rendered_arrangements/voxlets/dictionary/dict_data/'\n",
      "seq_name= '4funve1df38poijw'\n",
      "\n",
      "loadpath = data_path + seq_name + '.mat'\n",
      "sboxes = scipy.io.loadmat(loadpath)['shoeboxes']\n"
     ],
     "language": "python",
     "metadata": {},
     "outputs": [],
     "prompt_number": ""
    },
    {
     "cell_type": "code",
     "collapsed": false,
     "input": [
      "plt.rcParams['figure.figsize'] = (10.0, 8.0)\n",
      "print parameters.Voxlet.shape\n",
      "for idx, sbox in enumerate(sboxes[:8*3]):\n",
      "    this_sbox = sbox.reshape(parameters.Voxlet.shape)\n",
      "    plt.subplot(8, 3, idx+1)\n",
      "    plt.imshow(np.mean(this_sbox, axis=2))\n",
      "#    plt.imshow(this_sbox[:, :, 7])\n",
      "    plt.clim(-0.1, 0.1)\n",
      "    plt.colorbar()"
     ],
     "language": "python",
     "metadata": {},
     "outputs": [],
     "prompt_number": ""
    },
    {
     "cell_type": "code",
     "collapsed": false,
     "input": [],
     "language": "python",
     "metadata": {},
     "outputs": []
    }
   ],
   "metadata": {}
  }
 ]
}