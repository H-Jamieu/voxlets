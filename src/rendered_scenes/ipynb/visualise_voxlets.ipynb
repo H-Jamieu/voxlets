{
 "metadata": {
  "name": "",
  "signature": ""
 },
 "nbformat": 3,
 "nbformat_minor": 0,
 "worksheets": [
  {
   "cells": [
    {
     "cell_type": "code",
     "collapsed": false,
     "input": [
      "%matplotlib inline\n",
      "%load_ext autoreload\n",
      "%autoreload 2\n",
      "\n",
      "import matplotlib.pyplot as plt\n",
      "import numpy as np\n",
      "import cPickle as pickle\n",
      "import sys\n",
      "import os\n",
      "import yaml\n",
      "import scipy.io\n",
      "\n",
      "sys.path.append(os.path.expanduser('~/projects/shape_sharing/src/'))\n",
      "from common import paths\n",
      "from common import voxel_data\n",
      "from common import images\n",
      "from common import parameters\n",
      "from common import features"
     ],
     "language": "python",
     "metadata": {},
     "outputs": []
    },
    {
     "cell_type": "code",
     "collapsed": false,
     "input": [
      "data_path = os.path.expanduser('~/projects/shape_sharing/data/rendered_arrangements/voxlets/dictionary/kmean.pkl')\n",
      "with open(data_path, 'r') as f:\n",
      "    sboxes = pickle.load(f)\n"
     ],
     "language": "python",
     "metadata": {},
     "outputs": []
    },
    {
     "cell_type": "code",
     "collapsed": false,
     "input": [
      "plt.rcParams['figure.figsize'] = (10.0, 8.0)\n",
      "print parameters.Voxlet.shape\n",
      "for idx, c in enumerate(sboxes.cluster_centers_[12:]):\n",
      "    print c.shape, parameters.Voxlet.shape\n",
      "    plt.subplot(4, 3, idx+1)\n",
      "    XX = np.median(c.reshape(parameters.Voxlet.shape), axis=0)\n",
      "    plt.imshow(XX)\n",
      "    plt.colorbar()\n",
      "    if idx >= 4*3 - 1:\n",
      "        break"
     ],
     "language": "python",
     "metadata": {},
     "outputs": []
    },
    {
     "cell_type": "code",
     "collapsed": false,
     "input": [
      "fname = '/Users/Michael/projects/shape_sharing/data/rendered_arrangements/renders/5AK5T4Y6TJ2Q_SCN/ground_truth_tsdf.pkl'\n",
      "with open(fname, 'rb') as f:\n",
      "    gt = pickle.load(f)\n",
      "    \n",
      "    fname = '/Users/Michael/projects/shape_sharing/data/rendered_arrangements/renders/5AK5T4Y6TJ2Q_SCN/ground_truth_tsdf.pkl'\n",
      "with open(fname, 'rb') as f:\n",
      "    gt = pickle.load(f) "
     ],
     "language": "python",
     "metadata": {},
     "outputs": []
    },
    {
     "cell_type": "code",
     "collapsed": false,
     "input": [
      "def sliceplot(S):\n",
      "    S[np.isnan(S)] = np.nanmin(S)\n",
      "    plt.imshow(S)\n",
      "\n",
      "plt.subplot(121)\n",
      "sliceplot(a.V[:, :, 10])\n",
      "plt.subplot(122)\n"
     ],
     "language": "python",
     "metadata": {},
     "outputs": []
    }
   ],
   "metadata": {}
  }
 ]
}