{
 "nbformat_minor": 0,
 "nbformat": 4,
 "cells": [
  {
   "execution_count": 2,
   "cell_type": "code",
   "source": [
    "%matplotlib inline\n",
    "%load_ext autoreload\n",
    "%autoreload 2\n",
    "\n",
    "import matplotlib.pyplot as plt\n",
    "import numpy as np\n",
    "import sys\n",
    "import os\n",
    "\n",
    "from skimage.morphology import binary_erosion, binary_dilation, disk\n",
    "from skimage.measure import label\n",
    "\n",
    "sys.path.append('/Users/Michael/projects/shape_sharing/src/')\n",
    "from common import paths, voxel_data, images, parameters"
   ]
  },
  {
   "execution_count": 4,
   "cell_type": "code",
   "source": [
    "sequence = paths.RenderedData.test_sequence()[10]\n",
    "\n",
    "vox_dir = paths.RenderedData.ground_truth_voxels(sequence['scene'])\n",
    "gt_vox = voxel_data.load_voxels(vox_dir)\n",
    "gt_vox.V[np.isnan(gt_vox.V)] = -parameters.RenderedVoxelGrid.mu\n",
    "gt_vox.set_origin(gt_vox.origin)\n",
    "\n",
    "plt.imshow(gt_vox.V[:, :, 10]);"
   ]
  },
  {
   "execution_count": 25,
   "cell_type": "code",
   "source": [
    "#  really want to just segment in the x-y direction for now...\n",
    "# make it very simple and quick\n",
    "gt_vox.segment_project_2d(z_threshold=2, floor_height=4)\n",
    "\n",
    "plt.imshow(gt_vox.labels[:, :, 10]);\n",
    "plt.colorbar()"
   ]
  },
  {
   "execution_count": 14,
   "cell_type": "code",
   "source": [
    "# now need to propgate these labels to the image itself...\n",
    "frame_data = paths.RenderedData.load_scene_data(\n",
    "        sequence['scene'], sequence['frames'][0])\n",
    "im = images.RGBDImage.load_from_dict(\n",
    "    paths.RenderedData.scene_dir(sequence['scene']),\n",
    "    frame_data)\n",
    "plt.imshow(im.depth);"
   ]
  },
  {
   "execution_count": 24,
   "cell_type": "code",
   "source": [
    "im.label_from_grid(gt_vox)\n",
    "plt.imshow(im.labels)"
   ]
  },
  {
   "execution_count": 69,
   "cell_type": "code",
   "source": [
    "plt.figure(figsize=(8, 15))\n",
    "sp_u, sp_v = 7, 3\n",
    "\n",
    "for idx, sequence in enumerate(paths.RenderedData.train_sequence()):\n",
    "\n",
    "    vox_dir = paths.RenderedData.ground_truth_voxels(sequence['scene'])\n",
    "    gt_vox = voxel_data.load_voxels(vox_dir)\n",
    "    gt_vox.V[np.isnan(gt_vox.V)] = -parameters.RenderedVoxelGrid.mu\n",
    "    gt_vox.set_origin(gt_vox.origin)\n",
    "\n",
    "    gt_vox.segment_project_2d(z_threshold=2, floor_height=4)\n",
    "\n",
    "    sequence = {'frames': [25, 26, 27, 28, 29], 'name': '27h08gup95ah4us3_SEQ', 'scene': 'O2OOU0UM3XWN_SCN'}\n",
    "    # now need to propgate these labels to the image itself...\n",
    "    frame_data = paths.RenderedData.load_scene_data(\n",
    "            sequence['scene'], sequence['frames'][0])\n",
    "    im = images.RGBDImage.load_from_dict(\n",
    "        paths.RenderedData.scene_dir(sequence['scene']),\n",
    "        frame_data)\n",
    "\n",
    "    im.label_from_grid(gt_vox)\n",
    "    plt.subplot(sp_u, sp_v, 3*idx+1)\n",
    "    plt.imshow(im.depth)\n",
    "    plt.subplot(sp_u, sp_v, 3*idx+2)\n",
    "    plt.imshow(gt_vox.temp_2d_labels)\n",
    "    plt.subplot(sp_u, sp_v, 3*idx+3)\n",
    "    plt.imshow(im.labels)\n",
    "    if idx >= (sp_u*sp_v)/3.0 -2 :\n",
    "        break"
   ]
  },
  {
   "execution_count": 67,
   "cell_type": "code",
   "source": [
    "# Now am going to attempt to isolate a single label in the grid...\n",
    "# By dilating the item label\n",
    "label_to_use = 1\n",
    "from copy import deepcopy\n",
    "\n",
    "mu = parameters.RenderedVoxelGrid.mu\n",
    "extracted_V = deepcopy(gt_vox.V)\n",
    "extracted_V[gt_vox.labels !=label_to_use] = mu\n",
    "\n",
    "plt.figure(figsize=(10, 5))\n",
    "plt.subplot(131)\n",
    "plt.imshow(gt_vox.V[:, :, 10])\n",
    "plt.clim((-mu, mu))\n",
    "plt.subplot(132)\n",
    "plt.imshow(gt_vox.labels[:, :, 10] == label_to_use)\n",
    "plt.subplot(133)\n",
    "plt.imshow(extracted_V[:, :, 10])\n",
    "plt.clim((-mu, mu))"
   ]
  },
  {
   "execution_count": 68,
   "cell_type": "code",
   "source": [
    "for f in paths.RenderedData.train_sequence():\n",
    "    print f\n",
    "#27h08gup95ah4us3_SEQ"
   ]
  }
 ],
 "metadata": {
  "kernelspec": {
   "display_name": "Python 2",
   "name": "python2",
   "language": "python"
  },
  "language_info": {
   "mimetype": "text/x-python",
   "nbconvert_exporter": "python",
   "name": "python",
   "file_extension": ".py",
   "version": "2.7.9",
   "pygments_lexer": "ipython2",
   "codemirror_mode": {
    "version": 2,
    "name": "ipython"
   }
  }
 }
}