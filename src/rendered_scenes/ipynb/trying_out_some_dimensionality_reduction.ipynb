{
 "nbformat_minor": 0,
 "nbformat": 4,
 "cells": [
  {
   "execution_count": 1,
   "cell_type": "code",
   "source": [
    "import numpy as np\n",
    "import cPickle as pickle\n",
    "import scipy.io\n",
    "import sys\n",
    "import os\n",
    "sys.path.append(os.path.expanduser('~/projects/shape_sharing/src/'))\n",
    "\n",
    "from sklearn.decomposition import RandomizedPCA\n",
    "from sklearn.cluster import MiniBatchKMeans\n",
    "\n",
    "from common import paths\n",
    "from common import parameters\n",
    "if parameters.small_sample:\n",
    "    print \"WARNING: Just computing on a small sample\"\n",
    "\n",
    "\n",
    "def pca_randomized(X_in, local_subsample_length, num_pca_dims):\n",
    "\n",
    "    # take subsample\n",
    "    rand_exs = np.sort(np.random.choice(\n",
    "        X_in.shape[0],\n",
    "        np.minimum(local_subsample_length, X_in.shape[0]),\n",
    "        replace=False))\n",
    "    X = X_in.take(rand_exs, 0)\n",
    "\n",
    "    pca = RandomizedPCA(n_components=num_pca_dims)\n",
    "    pca.fit(X)\n",
    "    return pca\n",
    "\n",
    "\n",
    "def cluster_data(X, local_subsample_length, num_clusters):\n",
    "\n",
    "    # take subsample\n",
    "    if local_subsample_length > X.shape[0]:\n",
    "        X_subset = X\n",
    "    else:\n",
    "        to_use_for_clustering = \\\n",
    "            np.random.randint(0, X.shape[0], size=(local_subsample_length))\n",
    "        X_subset = X[to_use_for_clustering, :]\n",
    "\n",
    "    print X.shape\n",
    "    print X_subset.shape\n",
    "\n",
    "    # doing clustering\n",
    "    km = MiniBatchKMeans(n_clusters=num_clusters)\n",
    "    km.fit(X_subset)\n",
    "    return km\n",
    "\n",
    "# save path (open here so if an error is thrown I can catch it early...)\n",
    "\n",
    "# initialise lists\n",
    "shoeboxes = []\n",
    "features = []\n",
    "\n",
    "for count, sequence in enumerate(paths.RenderedData.train_sequence()):\n",
    "\n",
    "    print \"Processing \" + sequence['name']\n",
    "\n",
    "    # loading the data\n",
    "    loadpath = paths.RenderedData.voxlets_dict_data_path + \\\n",
    "        sequence['name'] + '.mat'\n",
    "    print \"Loading from \" + loadpath\n",
    "\n",
    "    D = scipy.io.loadmat(loadpath)\n",
    "    shoeboxes.append(D['shoeboxes'].astype(np.float16))\n",
    "    features.append(D['features'].astype(np.float16))\n",
    "\n",
    "    if count > parameters.max_sequences:\n",
    "        print \"SMALL SAMPLE: Stopping\"\n",
    "        break\n",
    "\n",
    "np_all_sboxes = np.concatenate(shoeboxes, axis=0)\n",
    "np_all_features = np.concatenate(features, axis=0)\n",
    "print \"All sboxes shape is \" + str(np_all_sboxes.shape)\n",
    "print \"Features shape is \" + str(np_all_features.shape)"
   ]
  },
  {
   "execution_count": 4,
   "cell_type": "code",
   "source": [
    "from sklearn.manifold import Isomap\n",
    "iso = Isomap()\n",
    "iso.fit(np_all_sboxes)"
   ]
  },
  {
   "execution_count": 34,
   "cell_type": "code",
   "source": [
    "from sklearn.decomposition import KernelPCA\n",
    "kpca = KernelPCA(kernel='rbf')\n",
    "kpca.fit(np_all_sboxes)"
   ]
  },
  {
   "execution_count": 25,
   "cell_type": "code",
   "source": [
    "#iso.training_data_ = []\n",
    "from sklearn.cluster import FeatureAgglomeration\n",
    "fa = FeatureAgglomeration(n_clusters=50)\n",
    "fa.fit(np_all_sboxes)\n",
    "#iso.transform(np_all_sboxes[10:12, :])"
   ]
  },
  {
   "execution_count": 19,
   "cell_type": "code",
   "source": [
    "from sklearn.decomposition import RandomizedPCA\n",
    "rpca = RandomizedPCA()\n",
    "rpca.fit(np_all_sboxes)"
   ]
  },
  {
   "execution_count": 36,
   "cell_type": "code",
   "source": [
    "%matplotlib inline\n",
    "import matplotlib.pyplot as plt\n",
    "X = rpca.transform(np_all_sboxes)\n",
    "X2 = fa.transform(np_all_sboxes)\n",
    "X_kpca = kpca.transform(np_all_sboxes)"
   ]
  },
  {
   "execution_count": 41,
   "cell_type": "code",
   "source": [
    "plt.figure(figsize=(10, 10))\n",
    "plt.subplot(121)\n",
    "plt.plot(X[:, 9], X[:, 1], 'r.')\n",
    "#plt.subplot(122)\n",
    "#plt.plot(X2[:, 2], X2[:, 1], 'b.')\n",
    "plt.subplot(122)\n",
    "plt.plot(X_kpca[:, 9], X_kpca[:, 1], 'b.')\n",
    "\n",
    "#pickle.dump(iso, open('/tmp/iso.pkl', 'w'), protocol=pickle.HIGHEST_PROTOCOL)"
   ]
  }
 ],
 "metadata": {
  "kernelspec": {
   "display_name": "Python 2",
   "name": "python2",
   "language": "python"
  },
  "language_info": {
   "mimetype": "text/x-python",
   "nbconvert_exporter": "python",
   "name": "python",
   "file_extension": ".py",
   "version": "2.7.9",
   "pygments_lexer": "ipython2",
   "codemirror_mode": {
    "version": 2,
    "name": "ipython"
   }
  }
 }
}