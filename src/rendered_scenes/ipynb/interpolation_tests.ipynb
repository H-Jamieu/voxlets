{
 "nbformat": 3,
 "nbformat_minor": 0,
 "worksheets": [
  {
   "cells": [
    {
     "cell_type": "code",
     "collapsed": false,
     "input": [
      "'''trying out interpolatiing using scipy\n",
      "'''\n",
      "%matplotlib inline\n",
      "%load_ext autoreload\n",
      "%autoreload 2\n",
      "\n",
      "import matplotlib.pyplot as plt\n",
      "import numpy as np\n",
      "import scipy.interpolate\n",
      "import scipy\n",
      "import skimage"
     ]
    },
    {
     "cell_type": "code",
     "collapsed": false,
     "input": [
      "bw = scipy.misc.imread('/Users/Michael/Desktop/bw.jpg')[:, :, 0]\n",
      "plt.imshow(bw)"
     ]
    },
    {
     "cell_type": "code",
     "collapsed": false,
     "input": [
      "bw[:100, :100] = np.nan\n",
      "plt.imshow(bw)"
     ]
    },
    {
     "cell_type": "code",
     "collapsed": false,
     "input": [
      "scipy.interpolate.interpnd"
     ]
    },
    {
     "cell_type": "code",
     "collapsed": false,
     "input": []
    }
   ],
   "metadata": {}
  }
 ],
 "metadata": {
  "name": ""
 }
}