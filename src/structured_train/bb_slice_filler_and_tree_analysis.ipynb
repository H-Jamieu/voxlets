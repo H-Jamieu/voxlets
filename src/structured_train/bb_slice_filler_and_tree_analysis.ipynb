{
 "metadata": {
  "name": ""
 },
 "nbformat": 3,
 "nbformat_minor": 0,
 "worksheets": [
  {
   "cells": [
    {
     "cell_type": "code",
     "collapsed": false,
     "input": [
      "# loads in the prediction data from disk, and then fills in the voxel grid...\n",
      "%matplotlib inline\n",
      "%load_ext autoreload\n",
      "%autoreload 2\n",
      "\n",
      "import numpy as np\n",
      "from thickness import voxel_data\n",
      "from thickness import paths\n",
      "from thickness import images\n",
      "import scipy.io\n",
      "import matplotlib.pyplot as plt"
     ],
     "language": "python",
     "metadata": {},
     "outputs": [],
     "prompt_number": ""
    },
    {
     "cell_type": "code",
     "collapsed": false,
     "input": [
      "# here the plan is to load in the prediction image\n",
      "# this is what I was considering having as a class or something...\n",
      "# will probably want this a bit in a few different places\n",
      "modelname = 'pop_tarts_strawberry'\n",
      "view = paths.views[10]\n",
      "\n",
      "prediction_path = paths.base_path + \"bigbird_dense/\" + modelname + \"/\" + view + \".mat\"\n",
      "D = scipy.io.loadmat(prediction_path)\n",
      "for K in D.keys():\n",
      "    print K\n",
      "    try:\n",
      "        print D[K].shape\n",
      "    except:\n",
      "        pass\n",
      "\n",
      "im = images.CroppedRGBD()\n",
      "im.load_bigbird_from_mat(modelname, view)\n"
     ],
     "language": "python",
     "metadata": {},
     "outputs": [],
     "prompt_number": ""
    },
    {
     "cell_type": "code",
     "collapsed": false,
     "input": [
      "grid = voxel_data.FrustumGrid()\n",
      "grid.set_params(mask.shape, 0.6, 1.2, 530)\n",
      "print grid.V.shape"
     ],
     "language": "python",
     "metadata": {},
     "outputs": [],
     "prompt_number": ""
    },
    {
     "cell_type": "code",
     "collapsed": false,
     "input": [
      "plt.rcParams['figure.figsize'] = (20.0, 20.0)\n",
      "# recreating the back display images\n",
      "from thickness import displaying as disp\n",
      "\n",
      "idxs = np.array(np.nonzero(mask))\n",
      "\n",
      "prediction_images = []\n",
      "for idx, tree_pred in enumerate(D['tree_predictions']):\n",
      "    temp = disp.reconstruct_image(idxs, tree_pred, im.mask.shape)\n",
      "    prediction_images.append(temp)\n",
      "    \n",
      "    if idx < 25:\n",
      "        plt.subplot(5, 5, idx)\n",
      "        plt.imshow(temp)"
     ],
     "language": "python",
     "metadata": {},
     "outputs": [],
     "prompt_number": ""
    },
    {
     "cell_type": "code",
     "collapsed": false,
     "input": [
      "im.frontrender\n",
      "back_loc = np.array(prediction_images)+ im.frontrender\n",
      "print back_loc.shape\n",
      "grid.populate(im.frontrender, np.array(prediction_images))\n",
      "#min(9, 2)\n",
      "#plt.imshow(im.frontrender)\n",
      "#im.frontrender[50, 104]"
     ],
     "language": "python",
     "metadata": {},
     "outputs": [],
     "prompt_number": ""
    },
    {
     "cell_type": "code",
     "collapsed": false,
     "input": [
      "plt.imshow(grid.V[100, :, :].T)"
     ],
     "language": "python",
     "metadata": {},
     "outputs": [],
     "prompt_number": ""
    },
    {
     "cell_type": "code",
     "collapsed": false,
     "input": [
      "plt.rcParams['figure.figsize'] = (20.0, 20.0)\n",
      "#plt.imshow(grid.V[100, :, :].T)\n",
      "prediction_array = np.array(prediction_images)\n",
      "plt.imshow(np.median(prediction_array, axis=0))\n",
      "#edge = \n",
      "TT = im.frontrender\n",
      "TT[np.isnan(TT)] = 0\n",
      "plt.imshow(im.depth + TT)\n",
      "\n",
      "## need to inspect spider and cobweb featres...\n",
      "# what is going on here?\n",
      "# how can I find out?\n",
      "for idx in range(24):\n",
      "    plt.subplot(4, 6, idx)\n",
      "    plt.imshow(im.spider_channels[:, :, idx])"
     ],
     "language": "python",
     "metadata": {},
     "outputs": [],
     "prompt_number": ""
    },
    {
     "cell_type": "code",
     "collapsed": false,
     "input": [
      "import cPickle as pickle\n",
      "plt.imshow(im.mask)\n"
     ],
     "language": "python",
     "metadata": {},
     "outputs": [],
     "prompt_number": ""
    }
   ],
   "metadata": {}
  }
 ]
}