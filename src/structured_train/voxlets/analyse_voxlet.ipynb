{
 "metadata": {
  "name": ""
 },
 "nbformat": 3,
 "nbformat_minor": 0,
 "worksheets": [
  {
   "cells": [
    {
     "cell_type": "code",
     "collapsed": false,
     "input": [
      "# script to load the shoeboxes in and analyse them, with the aim \n",
      "# of clustering or pca or similar\n",
      "\n",
      "%matplotlib inline\n",
      "%load_ext autoreload\n",
      "%autoreload 2\n",
      "\n",
      "import numpy as np\n",
      "import matplotlib.pyplot as plt \n",
      "import sys\n",
      "import cPickle as pickle\n",
      "sys.path.append('/Users/Michael/projects/shape_sharing/src/structured_train/')\n",
      "\n",
      "from thickness import paths\n",
      "from thickness import voxel_data\n",
      "from thickness import mesh"
     ],
     "language": "python",
     "metadata": {},
     "outputs": [],
     "prompt_number": ""
    },
    {
     "cell_type": "code",
     "collapsed": false,
     "input": [
      "shoebox_kmeans_path = paths.base_path + \"voxlets/shoebox_dictionary.pkl\"\n",
      "km = pickle.load(open(shoebox_kmeans_path, 'rb'))\n",
      "centers = km.cluster_centers_"
     ],
     "language": "python",
     "metadata": {},
     "outputs": [],
     "prompt_number": ""
    },
    {
     "cell_type": "code",
     "collapsed": false,
     "input": [
      "print centers.shape\n",
      "\n",
      "# save the middle slice through all the cluster centers to disk...\n",
      "for idx, center in enumerate(centers):\n",
      "    plt.clf()\n",
      "    for count, slice_idx in enumerate(range(20)):\n",
      "        plt.subplot(4, 5, count+1)\n",
      "        plt.imshow(center.reshape((20, 20, 20))[:, :, slice_idx], interpolation='Nearest')\n",
      "        plt.clim([0, 1])\n",
      "        plt.title(str(slice_idx))\n",
      "    plt.savefig('./plots/kmeans_centres/%d.png' % idx)\n",
      "    \n"
     ],
     "language": "python",
     "metadata": {},
     "outputs": [],
     "prompt_number": ""
    },
    {
     "cell_type": "code",
     "collapsed": false,
     "input": [
      "# analysing the clustering - eg size of each cluster\n",
      "print km.labels_\n",
      "#counts = [np.sum(km.labels_==idx) for idx in range(km.cluster_centers_.shape[0])]\n",
      "plt.plot(np.sort(counts))\n",
      "print np.nonzero(np.array(counts) > 70)"
     ],
     "language": "python",
     "metadata": {},
     "outputs": [],
     "prompt_number": ""
    },
    {
     "cell_type": "code",
     "collapsed": false,
     "input": [
      "idxs = km.predict(all_shoeboxes.astype(np.float16))\n",
      "n = np.zeros((10, 50))\n",
      "\n",
      "object_idxs = (np.arange(500)/50).astype(int)\n",
      "\n",
      "for i in range(500):\n",
      "    n[object_idxs[i], idxs[i]] += 1\n",
      "\n",
      "plt.rcParams['figure.figsize'] = (10.0, 8.0)\n",
      "plt.imshow(n.T, interpolation='nearest')\n",
      "print paths.modelnames[7]\n",
      "#from thickness import displaying as disp\n",
      "#disp.display_mesh_of_vol(centers[50].reshape((20, 20, 20)), 0.5)"
     ],
     "language": "python",
     "metadata": {},
     "outputs": [],
     "prompt_number": ""
    },
    {
     "cell_type": "code",
     "collapsed": false,
     "input": [
      "# how about PCA?\n",
      "from sklearn.decomposition import PCA\n",
      "pca = PCA(n_components=8)\n",
      "pca.fit(all_shoeboxes.astype(np.float16))"
     ],
     "language": "python",
     "metadata": {},
     "outputs": [],
     "prompt_number": ""
    },
    {
     "cell_type": "code",
     "collapsed": false,
     "input": [
      "for idx, component in enumerate(pca.components_):\n",
      "    plt.imshow(component.reshape((20, 20, 20))[:, :, 10], interpolation='Nearest')\n",
      "    plt.savefig('./plots/pca_comp/%d.png' % idx)"
     ],
     "language": "python",
     "metadata": {},
     "outputs": [],
     "prompt_number": ""
    },
    {
     "cell_type": "code",
     "collapsed": false,
     "input": [
      "import scipy\n",
      "this_box = all_shoeboxes[200]\n",
      "\n",
      "trans = scipy.ndimage.morphology.distance_transform_edt(this_box.reshape((20, 20, 20)).astype(float))\n",
      "trans2 = scipy.ndimage.morphology.distance_transform_edt(1-this_box.reshape((20, 20, 20)).astype(float))\n",
      "\n",
      "plt.subplot(131)\n",
      "plt.imshow(trans[:, :, 2], interpolation='Nearest')\n",
      "plt.subplot(132)\n",
      "plt.imshow(trans2[:, :, 2], interpolation='Nearest')\n",
      "plt.subplot(133)\n",
      "plt.imshow(this_box.reshape((20, 20, 20))[:, :, 2], interpolation='Nearest')\n",
      "plt.show()"
     ],
     "language": "python",
     "metadata": {},
     "outputs": [],
     "prompt_number": ""
    },
    {
     "cell_type": "code",
     "collapsed": false,
     "input": [
      "this_box = all_shoeboxes[20]\n",
      "\n",
      "plt.rcParams['figure.figsize'] = (10.0, 8.0)\n",
      "\n",
      "grid = voxel_data.Voxels((20, 20, 20), np.int8)\n",
      "grid.V = this_box.reshape((20, 20, 20))\n",
      "t_out, t_in, trans = grid.compute_sdt()\n",
      "\n",
      "def plot_slice(V, slice_idx):\n",
      "    plt.imshow(V[:, :, slice_idx], interpolation='Nearest')\n",
      "    plt.colorbar()\n",
      "    \n",
      "slice_idx = 5\n",
      "plt.subplot(221)\n",
      "plot_slice(t_out, slice_idx)\n",
      "plt.subplot(222)\n",
      "plot_slice(t_in, slice_idx)\n",
      "plt.subplot(223)\n",
      "plot_slice(trans, slice_idx)\n",
      "plt.subplot(224)\n",
      "plot_slice(grid.V, slice_idx)"
     ],
     "language": "python",
     "metadata": {},
     "outputs": [],
     "prompt_number": ""
    },
    {
     "cell_type": "code",
     "collapsed": false,
     "input": [
      "import yaml\n",
      "path = '/Users/Michael/projects/shape_sharing/data/bigbird_meshes/advil_liqui_gels/meshes/voxelised.yaml'\n",
      "path2 = '/Users/Michael/projects/shape_sharing/data/bigbird_meshes/advil_liqui_gels/meshes/voxelised.txt'\n",
      "T = yaml.load(open(path, 'r'), Loader=yaml.CLoader)\n",
      "print T.keys()"
     ],
     "language": "python",
     "metadata": {},
     "outputs": [],
     "prompt_number": ""
    },
    {
     "cell_type": "code",
     "collapsed": false,
     "input": [
      "path2 = '/Users/Michael/projects/shape_sharing/data/bigbird_meshes/3m_high_tack_spray_adhesive/meshes/voxelised.vox'\n",
      "f = open(path2, 'r')\n",
      "f.readline()\n",
      "origin = np.array(f.readline().split(\" \")).astype(float)\n",
      "f.readline()\n",
      "extents = np.array(f.readline().split(\" \")).astype(int)\n",
      "f.readline()\n",
      "voxel_size = float(f.readline().strip())\n",
      "f.readline()\n",
      "xyz = np.array([line.split() for line in f]).astype(int)\n",
      "f.close()\n",
      "print xyz.shape, origin, extents, voxel_size\n",
      "print np.max(xyz, axis=0)"
     ],
     "language": "python",
     "metadata": {},
     "outputs": [],
     "prompt_number": ""
    }
   ],
   "metadata": {}
  }
 ]
}