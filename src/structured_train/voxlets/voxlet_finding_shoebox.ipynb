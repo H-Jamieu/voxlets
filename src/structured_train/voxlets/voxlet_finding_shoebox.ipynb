{
 "metadata": {
  "name": ""
 },
 "nbformat": 3,
 "nbformat_minor": 0,
 "worksheets": [
  {
   "cells": [
    {
     "cell_type": "markdown",
     "metadata": {},
     "source": [
      "Aim is to find some shoeboxes from a voxelised mesh..."
     ]
    },
    {
     "cell_type": "code",
     "collapsed": false,
     "input": [
      "%matplotlib inline\n",
      "%load_ext autoreload\n",
      "%autoreload 2\n",
      "\n",
      "import numpy as np\n",
      "import matplotlib.pyplot as plt\n",
      "import sys\n",
      "\n",
      "sys.path.append('/Users/Michael/projects/shape_sharing/src/structured_train/')\n",
      "\n",
      "from thickness import voxel_data\n",
      "from thickness import paths\n",
      "from thickness import mesh"
     ],
     "language": "python",
     "metadata": {},
     "outputs": [],
     "prompt_number": ""
    },
    {
     "cell_type": "code",
     "collapsed": false,
     "input": [
      "modelname = paths.modelnames[10]\n",
      "\n",
      "# loading the mesh and computing the vertex normals\n",
      "ms = mesh.BigbirdMesh()\n",
      "ms.load_bigbird(modelname)\n",
      "ms.compute_vertex_normals()\n",
      "\n",
      "# loading the voxel grid\n",
      "vgrid = voxel_data.BigBirdVoxels()\n",
      "vgrid.load_bigbird(modelname)"
     ],
     "language": "python",
     "metadata": {},
     "outputs": [],
     "prompt_number": ""
    },
    {
     "cell_type": "code",
     "collapsed": false,
     "input": [
      "# checking the voxel grid is in the same world location as the mesh\n",
      "grid_locs = vgrid.world_to_idx(ms.vertices)\n",
      "\n",
      "# plotting image and grid on top\n",
      "plt.imshow(vgrid.V[:, 100, :])\n",
      "plt.hold(True)\n",
      "plt.plot(grid_locs[:, 2], grid_locs[:, 1])\n",
      "plt.hold(False)\n",
      "\n",
      "print ms.vertices.shape\n",
      "print vgrid.V.shape\n",
      "\n",
      "# NOTE: Be careful! Plotting V[:, :, 100] plots (y, x)"
     ],
     "language": "python",
     "metadata": {},
     "outputs": [],
     "prompt_number": ""
    },
    {
     "cell_type": "code",
     "collapsed": false,
     "input": [
      "# For each normal, create a shoebox\n",
      "shoeboxes = []\n",
      "\n",
      "for point_idx in range(0, ms.vertices.shape[0], 10):\n",
      "    \n",
      "    # first, create a single shoebox \u2013\u00a0setting the parameters here\n",
      "    shoebox = voxel_data.ShoeBox((20, 20, 20)) # grid size\n",
      "    shoebox.set_p_from_grid_origin(np.array((0.1, 0.15, 0.1))) #m\n",
      "    shoebox.set_voxel_size(0.2/20.0) #m\n",
      "\n",
      "    shoebox.initialise_from_point_and_normal(ms.vertices[point_idx], \n",
      "                                             ms.norms[point_idx], \n",
      "                                             np.array([0, 0, 1]))\n",
      "    \n",
      "    # convert the indices to world xyz space\n",
      "    shoebox_xyz_in_world = shoebox.world_meshgrid()\n",
      "    shoebox_xyx_in_world_idx, valid = vgrid.world_to_idx(shoebox_xyz_in_world, True)\n",
      "    \n",
      "    idxs = shoebox_xyx_in_world_idx[valid, :]\n",
      "    occupied_values = vgrid.extract_from_indices(idxs)\n",
      "    shoebox.set_indicated_voxels(valid, occupied_values)\n",
      "    \n",
      "    shoeboxes.append(shoebox)\n",
      "    "
     ],
     "language": "python",
     "metadata": {},
     "outputs": [],
     "prompt_number": ""
    },
    {
     "cell_type": "code",
     "collapsed": false,
     "input": [
      "#plt.imshow(shoebox.V[:, :, 12], interpolation='Nearest')\n",
      "from thickness import displaying as disp\n",
      "idx = 100\n",
      "disp.display_mesh_of_vol(shoeboxes[idx].V, 0.5, \"sds\", 1)"
     ],
     "language": "python",
     "metadata": {},
     "outputs": [],
     "prompt_number": ""
    },
    {
     "cell_type": "code",
     "collapsed": false,
     "input": [
      "all_V = np.array([box.V for box in shoeboxes])\n",
      "print all_V.shape\n",
      "\n",
      "mean_V = np.mean(all_V, axis=0).reshape((20, 20, 20))\n",
      "plt.imshow(np.mean(mean_V, axis=2), interpolation='Nearest')\n"
     ],
     "language": "python",
     "metadata": {},
     "outputs": [],
     "prompt_number": ""
    },
    {
     "cell_type": "code",
     "collapsed": false,
     "input": [
      "disp.display_mesh_of_vol(mean_V, 0.5, \"sds\", 1)"
     ],
     "language": "python",
     "metadata": {},
     "outputs": [],
     "prompt_number": ""
    },
    {
     "cell_type": "code",
     "collapsed": false,
     "input": [],
     "language": "python",
     "metadata": {},
     "outputs": []
    }
   ],
   "metadata": {}
  }
 ]
}