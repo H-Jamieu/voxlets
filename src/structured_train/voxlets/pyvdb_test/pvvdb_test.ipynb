{
 "metadata": {
  "name": ""
 },
 "nbformat": 3,
 "nbformat_minor": 0,
 "worksheets": [
  {
   "cells": [
    {
     "cell_type": "code",
     "collapsed": false,
     "input": [
      "'''\n",
      "this is a pyopenvdb test\n",
      "aim is to create a grid, then transform it, before finally merging\n",
      "it with an existing grid.\n",
      "'''\n",
      "%matplotlib inline\n",
      "%load_ext autoreload\n",
      "%autoreload 2\n",
      "\n",
      "import sys\n",
      "sys.path.append('/Users/Michael/builds/openvdb_etc/openvdb')\n",
      "import pyopenvdb as vdb\n",
      "import numpy as np\n",
      "import matplotlib.pyplot as plt \n",
      "\n",
      "#cube"
     ],
     "language": "python",
     "metadata": {},
     "outputs": [],
     "prompt_number": ""
    },
    {
     "cell_type": "code",
     "collapsed": false,
     "input": [
      "cube = vdb.FloatGrid()\n",
      "cube.fill(min=(100, 100, 100), max=(199, 109, 199), value=1.0)\n",
      "\n",
      "e = np.zeros((200, 200, 200))\n",
      "cube.copyToArray(e)\n",
      "\n",
      "print e.shape\n",
      "plt.imshow(np.mean(e, axis=2))"
     ],
     "language": "python",
     "metadata": {},
     "outputs": [],
     "prompt_number": ""
    },
    {
     "cell_type": "code",
     "collapsed": false,
     "input": [
      "'''great. Would now like to transform one grid into the space of another...'''\n",
      "sbox = vdb.FloatGrid()\n",
      "sbox_input = np.random.rand(1, 20, 20)\n",
      "sbox.copyFromArray(sbox_input)\n",
      "print sbox.getIndexRange()\n",
      "# seems that by default grid go up to 4096\n",
      "\n",
      "print sbox.transform.info()\n",
      "print sbox.transform.isLinear\n",
      "\n",
      "# creating the transform for the grid\n",
      "sbox.transform.rotate(0.3, axis=vdb.Axis.Z)\n",
      "print sbox.transform.info()\n",
      "sbox.zeroValue\n",
      "# now filling the output cube with the transformed array\n",
      "#sbox.fill(min=(0, , 100), max=(199, 109, 199), value=1.0)\n",
      "cube+sbox\n",
      "cube.combine(sbox)\n",
      "\n",
      "# printing the output grid to screen\n",
      "e = np.zeros((200, 200, 200))\n",
      "cube.copyToArray(e)\n",
      "plt.imshow(np.mean(e, axis=2))"
     ],
     "language": "python",
     "metadata": {},
     "outputs": [],
     "prompt_number": ""
    },
    {
     "cell_type": "code",
     "collapsed": false,
     "input": [
      "filename = '../combined.vdb'\n",
      "grids = vdb.readAllGridMetadata(filename)\n",
      "\n",
      "for grid in grids:\n",
      "    print grid.name\n",
      "\n",
      "A = vdb.read(filename, 'output')\n",
      "npA = np.zeros((30, 30, 30))\n",
      "A.copyToArray(npA)\n",
      "plt.imshow(np.mean(npA, axis=1), interpolation='Nearest')\n",
      "np.sum(npA)"
     ],
     "language": "python",
     "metadata": {},
     "outputs": [],
     "prompt_number": ""
    },
    {
     "cell_type": "code",
     "collapsed": false,
     "input": [
      "# now would like to write a yaml file of all the relevant transforms, then use cpp_test to combine them\n",
      "ls"
     ],
     "language": "python",
     "metadata": {},
     "outputs": [],
     "prompt_number": ""
    }
   ],
   "metadata": {}
  }
 ]
}