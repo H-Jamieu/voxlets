{
 "metadata": {
  "name": ""
 },
 "nbformat": 3,
 "nbformat_minor": 0,
 "worksheets": [
  {
   "cells": [
    {
     "cell_type": "code",
     "collapsed": false,
     "input": [
      "'''\n",
      "idea is to load a depth image, and for each pixel work out the dictionary item which belongs to it\n",
      "the ultimate aim is to be able to create a training set based on the dictionary\n",
      "'''\n",
      "%matplotlib inline\n",
      "%load_ext autoreload\n",
      "%autoreload 2\n",
      "\n",
      "import numpy as np\n",
      "import matplotlib.pyplot as plt \n",
      "import cPickle as pickle\n",
      "import sys\n",
      "sys.path.append('/Users/Michael/projects/shape_sharing/src/structured_train/')\n",
      "\n",
      "from thickness import paths\n",
      "from thickness import voxel_data\n",
      "from thickness import mesh\n",
      "from thickness import images"
     ],
     "language": "python",
     "metadata": {},
     "outputs": [],
     "prompt_number": ""
    },
    {
     "cell_type": "code",
     "collapsed": false,
     "input": [
      "# load in an image, a mesh, a voxel grid etc.\n",
      "modelname = paths.modelnames[10]\n",
      "view = paths.views[25]\n",
      "\n",
      "im = images.CroppedRGBD()\n",
      "im.load_bigbird_from_mat(modelname, view)\n",
      "im.disp_channels()\n",
      "\n",
      "cam = mesh.Camera()\n",
      "cam.load_bigbird_matrices(modelname, view)\n",
      "cam.adjust_intrinsic_scale(0.5) # as the image is half-sized\n",
      "\n",
      "im.set_camera(cam)"
     ],
     "language": "python",
     "metadata": {},
     "outputs": [],
     "prompt_number": ""
    },
    {
     "cell_type": "code",
     "collapsed": false,
     "input": [
      "# projecting the depth points from the camera out into world space\n",
      "world_xyz = im.get_world_xyz()\n",
      "world_normals = im.get_world_normals()\n",
      "\n",
      "plt.subplot(221)\n",
      "plt.imshow(im.normals[:, 1].reshape(im.mask.shape))\n",
      "plt.subplot(222)\n",
      "plt.imshow(im.xyz[:, 1].reshape(im.mask.shape))\n",
      "plt.subplot(223)\n",
      "plt.imshow(world_normals[:, 2].reshape(im.mask.shape))\n",
      "plt.colorbar()\n",
      "plt.subplot(224)\n",
      "plt.imshow(world_xyz[:,2].reshape(im.mask.shape))\n",
      "plt.show()"
     ],
     "language": "python",
     "metadata": {},
     "outputs": [],
     "prompt_number": ""
    },
    {
     "cell_type": "code",
     "collapsed": false,
     "input": [
      "# can do a proper check of this by... reprojecting the masked xyz points through the camera\n",
      "# these should reproject to the correct place\n",
      "# will do all xyz to start with\n",
      "uv = cam.project_points(world_xyz)\n",
      "inliers = im.mask.flatten()\n",
      "\n",
      "plt.imshow(im.rgb)\n",
      "plt.hold(True)\n",
      "plt.plot(uv[inliers, 0] - im.aabb[0], uv[inliers, 1] - im.aabb[2], '.')\n",
      "plt.hold(False)"
     ],
     "language": "python",
     "metadata": {},
     "outputs": [],
     "prompt_number": ""
    }
   ],
   "metadata": {}
  }
 ]
}