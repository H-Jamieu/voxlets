{
 "metadata": {
  "name": ""
 },
 "nbformat": 3,
 "nbformat_minor": 0,
 "worksheets": [
  {
   "cells": [
    {
     "cell_type": "code",
     "collapsed": false,
     "input": [
      "# stupid simple version of voxlet finding to sort out the transformations\n",
      "%matplotlib inline\n",
      "%load_ext autoreload\n",
      "%autoreload 2\n",
      "\n",
      "import numpy as np\n",
      "import matplotlib.pyplot as plt\n",
      "import sys\n",
      "\n",
      "sys.path.append('/Users/Michael/projects/shape_sharing/src/structured_train/')\n",
      "sys.path.append('/Users/Michael/projects/shape_sharing/src/preprocess/bigbird/render_front_back//')\n",
      "\n",
      "from thickness import paths\n",
      "from thickness import voxel_data\n",
      "from thickness import mesh\n",
      "import render"
     ],
     "language": "python",
     "metadata": {},
     "outputs": [],
     "prompt_number": ""
    },
    {
     "cell_type": "code",
     "collapsed": false,
     "input": [
      "# set up a camera with its intrinsics\n",
      "cam = mesh.Camera()\n",
      "K = np.array([[50, 0, 25], [0, 50, 25], [0, 0, 1]])\n",
      "cam.set_intrinsics(K)\n",
      "H = np.array([[1, 0, 0, 1.5], [0, 1, 0, 1.5], [0, 0, 1, -1.5], [0, 0, 0, 1]])\n",
      "cam.set_extrinsics(H)"
     ],
     "language": "python",
     "metadata": {},
     "outputs": [],
     "prompt_number": ""
    },
    {
     "cell_type": "code",
     "collapsed": false,
     "input": [
      "# parameters of the camera frustum grid\n",
      "focal_length = cam.K[0][0] # original image is (1280x840)\n",
      "imsize = (50, 50)\n",
      "closest_point, farthest_point = [1.5, 4.5]\n",
      "\n",
      "# set up the frustum grid\n",
      "cam_grid = voxel_data.FrustumGrid()\n",
      "cam_grid.set_params(imsize, closest_point, farthest_point, focal_length)"
     ],
     "language": "python",
     "metadata": {},
     "outputs": [],
     "prompt_number": ""
    },
    {
     "cell_type": "code",
     "collapsed": false,
     "input": [
      "# getting the uvd locations of all the points in the camera frustum grid\n",
      "uvd = cam_grid.vox_locations_in_camera_coords()\n",
      "plt.plot(uvd[0, :], uvd[2, :], '.')"
     ],
     "language": "python",
     "metadata": {},
     "outputs": [],
     "prompt_number": ""
    },
    {
     "cell_type": "code",
     "collapsed": false,
     "input": [
      "# now finding out where those camera frustum grid locations are in world coordinates\n",
      "cam_vox_locations_in_world_coords = cam.inv_project_points(uvd.T)[0]\n",
      "plt.plot(cam_vox_locations_in_world_coords[:, 1], cam_vox_locations_in_world_coords[:, 2], '.')"
     ],
     "language": "python",
     "metadata": {},
     "outputs": [],
     "prompt_number": ""
    },
    {
     "cell_type": "code",
     "collapsed": false,
     "input": [
      "# creating the world grid, with a sphere in the middle...\n",
      "world = voxel_data.WorldVoxels()\n",
      "world.V = np.zeros((100, 100, 100), np.uint8)\n",
      "for i in range(100):\n",
      "    for j in range(100):\n",
      "        for k in range(100):\n",
      "            if (i-50)**2 + (j-50)**2 + (k-50)**2 < 50**2:\n",
      "                world.V[i, j, k] = 1       \n",
      "world.set_voxel_size(0.03)"
     ],
     "language": "python",
     "metadata": {},
     "outputs": [],
     "prompt_number": ""
    },
    {
     "cell_type": "code",
     "collapsed": false,
     "input": [
      "# looking up camera frustum values in world coordinates\n",
      "cam_vox_locations_in_index_coords = (cam_vox_locations_in_world_coords / world.vox_size).astype(int)\n",
      "print np.max(cam_vox_locations_in_index_coords, axis=0)\n",
      "print np.min(cam_vox_locations_in_index_coords, axis=0)"
     ],
     "language": "python",
     "metadata": {},
     "outputs": [],
     "prompt_number": ""
    },
    {
     "cell_type": "code",
     "collapsed": false,
     "input": [
      "# strip out points not in the grid\n",
      "valid = np.logical_and.reduce((cam_vox_locations_in_index_coords[:, 0] < world.V.shape[0],\n",
      "                              cam_vox_locations_in_index_coords[:, 0] >= 0,\n",
      "                              cam_vox_locations_in_index_coords[:, 1] < world.V.shape[1],\n",
      "                              cam_vox_locations_in_index_coords[:, 1] >= 0,\n",
      "                              cam_vox_locations_in_index_coords[:, 2] < world.V.shape[2],\n",
      "                              cam_vox_locations_in_index_coords[:, 2] >= 0))\n",
      "\n",
      "# now doing the lookups - treat valid and invalid separately\n",
      "valid_locs = cam_vox_locations_in_index_coords[valid, :]\n",
      "valid_loc_values = world.V[valid_locs[:, 0], valid_locs[:, 1], valid_locs[:, 2]]\n",
      "cam_grid.V[valid.reshape(cam_grid.V.shape)] = valid_loc_values\n",
      "\n",
      "plt.imshow(cam_grid.V[2, :, :])"
     ],
     "language": "python",
     "metadata": {},
     "outputs": [],
     "prompt_number": ""
    },
    {
     "cell_type": "code",
     "collapsed": false,
     "input": [
      "plt.imshow(cam_grid.extract_warped_slice(20, 1000))"
     ],
     "language": "python",
     "metadata": {},
     "outputs": [],
     "prompt_number": ""
    }
   ],
   "metadata": {}
  }
 ]
}