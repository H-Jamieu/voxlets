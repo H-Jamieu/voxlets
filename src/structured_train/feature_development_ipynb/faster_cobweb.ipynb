{
 "metadata": {
  "name": ""
 },
 "nbformat": 3,
 "nbformat_minor": 0,
 "worksheets": [
  {
   "cells": [
    {
     "cell_type": "code",
     "collapsed": false,
     "input": [
      "%matplotlib inline\n",
      "%load_ext autoreload\n",
      "%autoreload 2\n",
      "\n",
      "import numpy as np\n",
      "import matplotlib.pyplot as plt\n",
      "\n",
      "from thickness import features\n",
      "from thickness import paths\n",
      "from thickness import images"
     ],
     "language": "python",
     "metadata": {},
     "outputs": [],
     "prompt_number": ""
    },
    {
     "cell_type": "code",
     "collapsed": false,
     "input": [
      "im = images.CADRender()\n",
      "im.load_from_cad_set(paths.modelnames[1], 2)\n",
      "im.compute_edges_and_angles()\n",
      "plt.imshow(im.depth)"
     ],
     "language": "python",
     "metadata": {},
     "outputs": [],
     "prompt_number": ""
    },
    {
     "cell_type": "code",
     "collapsed": false,
     "input": [
      "row = 100\n",
      "col = 120\n",
      "fe = features.SlowerCobwebEngine(t=7, fixed_patch_size=False)\n",
      "fe.set_image(im)\n",
      "a1 = fe.extract_patches(((row, col), (row, col)))\n",
      "\n",
      "fe2 = features.CobwebEngine(t=7, fixed_patch_size=False)\n",
      "fe2.set_image(im)\n",
      "a2 = fe2.extract_patches(((row, col), (row, col)))\n",
      "\n",
      "print a1\n",
      "print a2\n",
      "print a1[0]-a2[0]\n",
      "print a1[1]-a2[1]"
     ],
     "language": "python",
     "metadata": {},
     "outputs": [],
     "prompt_number": ""
    },
    {
     "cell_type": "code",
     "collapsed": false,
     "input": [
      "%timeit a1 = fe.get_cobweb((row, col))"
     ],
     "language": "python",
     "metadata": {},
     "outputs": [],
     "prompt_number": ""
    },
    {
     "cell_type": "code",
     "collapsed": false,
     "input": [
      "%timeit a2 = fe2.get_cobweb((row, col))"
     ],
     "language": "python",
     "metadata": {},
     "outputs": [],
     "prompt_number": ""
    },
    {
     "cell_type": "code",
     "collapsed": false,
     "input": [
      "cobweb = np.nan * np.zeros((1, 24))\n",
      "print cobweb\n"
     ],
     "language": "python",
     "metadata": {},
     "outputs": [],
     "prompt_number": ""
    },
    {
     "cell_type": "code",
     "collapsed": false,
     "input": [],
     "language": "python",
     "metadata": {},
     "outputs": [],
     "prompt_number": ""
    },
    {
     "cell_type": "code",
     "collapsed": false,
     "input": [],
     "language": "python",
     "metadata": {},
     "outputs": []
    }
   ],
   "metadata": {}
  }
 ]
}