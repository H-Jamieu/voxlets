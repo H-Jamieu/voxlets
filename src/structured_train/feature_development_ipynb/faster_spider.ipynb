{
 "metadata": {
  "name": ""
 },
 "nbformat": 3,
 "nbformat_minor": 0,
 "worksheets": [
  {
   "cells": [
    {
     "cell_type": "code",
     "collapsed": false,
     "input": [
      "%matplotlib inline\n",
      "%load_ext autoreload\n",
      "%autoreload 2\n",
      "import sys\n",
      "sys.path.append('..')\n",
      "from thickness import compute_data\n",
      "import numpy as np\n",
      "import matplotlib.pyplot as plt"
     ],
     "language": "python",
     "metadata": {},
     "outputs": [],
     "prompt_number": ""
    },
    {
     "cell_type": "code",
     "collapsed": false,
     "input": [
      "from thickness import images\n",
      "from thickness import paths\n",
      "\n",
      "im = images.CADRender()\n",
      "im.load_from_cad_set(paths.modelnames[2], 2)\n",
      "im.compute_edges_and_angles(20.0)\n",
      "plt.imshow(np.isnan(im.depth))"
     ],
     "language": "python",
     "metadata": {},
     "outputs": [],
     "prompt_number": ""
    },
    {
     "cell_type": "code",
     "collapsed": false,
     "input": [
      "import scipy.misc\n",
      "\n",
      "# doing padding\n",
      "H, W = im.depth.shape\n",
      "r = 0.5 * np.sqrt(H**2 + W**2)\n",
      "p0 = r - H/2 + 5\n",
      "p1 = r - W/2 + 5\n",
      "\n",
      "angle = 50\n",
      "\n",
      "t_depth = im.depth\n",
      "t_depth[np.isnan(t_depth)] = 0\n",
      "padded_edges = np.pad(im.depth, ((p0, p0), (p1, p1)), mode='constant', constant_values=0).astype(float)\n",
      "\n",
      "rotated_edges = scipy.ndimage.interpolation.rotate(padded_edges, angle, reshape=False, order=1)\n",
      "#rotated_edges2 = scipy.misc.imrotate(padded_edges, angle, interp='bilinear')\n",
      "\n",
      "unrotated = scipy.ndimage.interpolation.rotate(rotated_edges, -angle, reshape=False, order=1)\n",
      "\n",
      "#print rotated_edges[200, 200]\n",
      "print np.min(rotated_edges.flatten())\n",
      "#print np.min(rotated_edges2.flatten())\n",
      "plt.subplot(131)\n",
      "plt.imshow(im.depth)\n",
      "plt.subplot(132)\n",
      "plt.imshow(rotated_edges)\n",
      "plt.subplot(133)\n",
      "plt.imshow(unrotated[p0:p0+H, p1:p1+W])"
     ],
     "language": "python",
     "metadata": {},
     "outputs": [],
     "prompt_number": ""
    },
    {
     "cell_type": "code",
     "collapsed": false,
     "input": [
      "# now getting back from the rotated image\n",
      "unrotated_edges = scipy.misc.imrotate(rotated_edges, -angle, interp='bilinear')\n",
      "unrotated_uncropped_edges = unrotated_edges[p0:p0+H, p1:p1+W]\n",
      "\n",
      "plt.subplot(133)\n",
      "plt.imshow(unrotated_uncropped_edges.astype(float)/255 - im.edges.astype(float))\n",
      "\n",
      "print unrotated_uncropped_edges.shape\n",
      "print im.edges.shape"
     ],
     "language": "python",
     "metadata": {},
     "outputs": [],
     "prompt_number": ""
    },
    {
     "cell_type": "code",
     "collapsed": false,
     "input": [
      "im.depth[im.depth==0] = np.nan\n",
      "dt = features.DistanceTransforms(im)\n",
      "T = dt.get_compass_images()\n",
      "\n",
      "for idx, tt in enumerate(T):\n",
      "    plt.subplot(4, 4, idx+1)\n",
      "    plt.imshow(tt)\n",
      "    plt.colorbar()"
     ],
     "language": "python",
     "metadata": {},
     "outputs": [],
     "prompt_number": ""
    }
   ],
   "metadata": {}
  }
 ]
}