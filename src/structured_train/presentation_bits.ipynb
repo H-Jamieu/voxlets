{
 "metadata": {
  "name": ""
 },
 "nbformat": 3,
 "nbformat_minor": 0,
 "worksheets": [
  {
   "cells": [
    {
     "cell_type": "code",
     "collapsed": false,
     "input": [
      "%matplotlib inline\n",
      "%load_ext autoreload\n",
      "%autoreload 2\n",
      "import numpy as np\n",
      "import matplotlib.pyplot as plt\n",
      "from thickness import compute_data"
     ],
     "language": "python",
     "metadata": {},
     "outputs": [],
     "prompt_number": ""
    },
    {
     "cell_type": "code",
     "collapsed": false,
     "input": [
      "# plot for a presentation \u2013 showing the window size\n",
      "# (ultimately move this to some other section!)\n",
      "def plot_rect(top_left, size):\n",
      "    X = top_left[0] + np.array([0, 0, size[0], size[0], 0])\n",
      "    Y = top_left[1] + np.array([0, size[1], size[1], 0, 0])\n",
      "    plt.plot(X, Y, 'k-', lw=2)\n",
      "    \n",
      "im = compute_data.load_frontrender('109d55a137c042f5760315ac3bf2c13e', 10)\n",
      "plt.rcParams['figure.figsize'] = (9.0, 8.0)\n",
      "plt.imshow(im)\n",
      "plt.hold(True)\n",
      "plot_rect([150, 130], [15, 15])\n",
      "plt.hold(False)\n",
      "plt.xlim([0, im.shape[1]])\n",
      "plt.ylim([im.shape[0], 0])"
     ],
     "language": "python",
     "metadata": {},
     "outputs": [],
     "prompt_number": ""
    },
    {
     "cell_type": "code",
     "collapsed": false,
     "input": [
      "# Spider features\n",
      "def crop_concatenate(im1, im2, padding=0):\n",
      "    '''\n",
      "    puts im1 and im2 next to each other, and crops each of them for better display\n",
      "    '''\n",
      "    mask = ~np.isnan(im1)\n",
      "    left = compute_data.findfirst(np.any(mask, axis=0)) - padding\n",
      "    right = mask.shape[1] - compute_data.findfirst(np.any(mask, axis=0)[::-1]) + padding\n",
      "    top = compute_data.findfirst(np.any(mask, axis=1)) - padding\n",
      "    bottom = mask.shape[0] - compute_data.findfirst(np.any(mask, axis=1)[::-1]) + padding\n",
      "    return np.concatenate((im1[top:bottom, left:right], im2[top:bottom, left:right]), axis=1)\n",
      "\n",
      "plt.imshow(crop_concatenate(im, compute_data.depth_edges(im, 0.1), 10))"
     ],
     "language": "python",
     "metadata": {},
     "outputs": [],
     "prompt_number": ""
    },
    {
     "cell_type": "code",
     "collapsed": false,
     "input": [
      "import matplotlib.pyplot as plt\n",
      "from thickness import loadsave\n",
      "\n",
      "# plotting feature importances\n",
      "rf = loadsave.load_model('patch_spider_1M_10trees')"
     ],
     "language": "python",
     "metadata": {},
     "outputs": [],
     "prompt_number": ""
    },
    {
     "cell_type": "code",
     "collapsed": false,
     "input": [
      "plt.plot(rf.feature_importances_)\n",
      "plt.show()"
     ],
     "language": "python",
     "metadata": {},
     "outputs": [],
     "prompt_number": ""
    },
    {
     "cell_type": "code",
     "collapsed": false,
     "input": [
      "%matplotlib inline\n",
      "%load_ext autoreload\n",
      "%autoreload 2\n",
      "plt.rcParams['figure.figsize'] = (15.0, 12.0)\n",
      "import numpy as np\n",
      "\n",
      "plt.clf()\n",
      "count = 0\n",
      "for multiplier in [1, 2, 3, 4, 7]:\n",
      "    for offset_angle in range(0, 360, 45):\n",
      "        row = -multiplier * np.sin(np.deg2rad(offset_angle))\n",
      "        col = multiplier * np.cos(np.deg2rad(offset_angle))\n",
      "        scale = rf.feature_importances_[count] * 5000\n",
      "        if multiplier < 5: # cobweb features\n",
      "            plt.scatter(col, row, s=scale, c='b', marker='o')\n",
      "        elif multiplier > 5: # spider features\n",
      "            plt.scatter(col, row, s=scale, c='r', marker='o')\n",
      "        plt.hold(True)\n",
      "        #        print \n",
      "        count +=1 \n",
      "plt.axis('equal')\n",
      "plt.show()"
     ],
     "language": "python",
     "metadata": {},
     "outputs": [],
     "prompt_number": ""
    },
    {
     "cell_type": "code",
     "collapsed": false,
     "input": [],
     "language": "python",
     "metadata": {},
     "outputs": []
    }
   ],
   "metadata": {}
  }
 ]
}