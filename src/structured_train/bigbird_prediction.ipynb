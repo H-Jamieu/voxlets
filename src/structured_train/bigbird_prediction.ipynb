{
 "metadata": {
  "name": ""
 },
 "nbformat": 3,
 "nbformat_minor": 0,
 "worksheets": [
  {
   "cells": [
    {
     "cell_type": "code",
     "collapsed": false,
     "input": [
      "%matplotlib inline\n",
      "%load_ext autoreload\n",
      "%autoreload 2\n",
      "\n",
      "import numpy as np\n",
      "import matplotlib.pyplot as plt\n",
      "from sklearn.ensemble import RandomForestRegressor\n",
      "from sklearn import neighbors\n",
      "import cPickle as pickle\n",
      "import scipy.io\n",
      "\n",
      "from thickness import compute_data\n",
      "from thickness import combine_data\n",
      "from thickness import voxel_data\n",
      "from thickness import paths\n",
      "from thickness import images"
     ],
     "language": "python",
     "metadata": {},
     "outputs": [],
     "prompt_number": ""
    },
    {
     "cell_type": "code",
     "collapsed": false,
     "input": [
      "modelname = paths.modelnames[0]\n",
      "\n",
      "# loading in the training data from disk\n",
      "features_path = paths.base_path + 'bigbird_features/'+ modelname + '.mat'\n",
      "training_data = scipy.io.loadmat(features_path)"
     ],
     "language": "python",
     "metadata": {},
     "outputs": [],
     "prompt_number": ""
    },
    {
     "cell_type": "code",
     "collapsed": false,
     "input": [
      "# train the forest\n",
      "def extract_training_X(features):\n",
      "    spider = features['spider_features']\n",
      "    spider = combine_data.replace_nans_with_col_means(spider)\n",
      "    patch = features['patch_features']\n",
      "    return np.concatenate([spider, patch], axis=1)\n",
      "\n",
      "train_X = extract_training_X(training_data)\n",
      "train_Y = np.squeeze(training_data['depth_diffs'])\n",
      "\n",
      "rf = RandomForestRegressor(n_estimators=20,n_jobs=4,random_state=1,max_depth=20)\n",
      "rf.fit(train_X, train_Y)"
     ],
     "language": "python",
     "metadata": {},
     "outputs": [],
     "prompt_number": ""
    },
    {
     "cell_type": "code",
     "collapsed": false,
     "input": [
      "# now loading a specific view and computing features\n",
      "view_idx = paths.views[70]\n",
      "\n",
      "im = images.CroppedRGBD()\n",
      "im.load_bigbird_from_mat(modelname, view_idx)\n",
      "\n",
      "engine = compute_data.DepthFeatureEngine()\n",
      "engine.set_image(im)\n",
      "engine.dense_sample_from_mask()\n",
      "engine.compute_features_and_depths(features=['spider', 'cobweb'])\n",
      "\n",
      "all_features = engine.features_and_depths_as_dict()\n",
      "test_X = extract_training_X(all_features)"
     ],
     "language": "python",
     "metadata": {},
     "outputs": [],
     "prompt_number": ""
    },
    {
     "cell_type": "code",
     "collapsed": false,
     "input": [
      "# doing prediction\n",
      "Y_pred = rf.predict(test_X)\n",
      "print Y_pred.shape"
     ],
     "language": "python",
     "metadata": {},
     "outputs": [],
     "prompt_number": ""
    },
    {
     "cell_type": "code",
     "collapsed": false,
     "input": [
      "plt.rcParams['figure.figsize'] = (20.0, 8.0)\n",
      "\n",
      "# reconstructing prediction image\n",
      "from thickness import displaying as disp\n",
      "\n",
      "im_idxs = np.array(np.nonzero(im.mask))\n",
      "print im_idxs.shape\n",
      "print Y_pred.shape\n",
      "predictions = disp.reconstruct_image(im_idxs, Y_pred, im.mask.shape)\n",
      "\n",
      "GT_image = disp.reconstruct_image(im_idxs, np.array(all_features['depth_diffs']), im.mask.shape)\n",
      "\n",
      "out = disp.crop_concatenate((GT_image, predictions), 10)\n",
      "plt.imshow(out, interpolation='none')\n",
      "plt.clim(0., 0.4)\n",
      "plt.colorbar()\n",
      "plt.show()"
     ],
     "language": "python",
     "metadata": {},
     "outputs": [],
     "prompt_number": ""
    }
   ],
   "metadata": {}
  }
 ]
}