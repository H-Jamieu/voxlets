{
 "metadata": {
  "name": ""
 },
 "nbformat": 3,
 "nbformat_minor": 0,
 "worksheets": [
  {
   "cells": [
    {
     "cell_type": "code",
     "collapsed": false,
     "input": [
      "%matplotlib inline\n",
      "%load_ext autoreload\n",
      "%autoreload 2\n",
      "\n",
      "import numpy as np\n",
      "import matplotlib.pyplot as plt\n",
      "from sklearn.ensemble import RandomForestRegressor\n",
      "from sklearn import neighbors\n",
      "import cPickle as pickle\n",
      "import scipy.io\n",
      "\n",
      "from thickness import compute_data\n",
      "from thickness import combine_data\n",
      "from thickness import voxel_data\n",
      "from thickness import paths\n",
      "from thickness import images"
     ],
     "language": "python",
     "metadata": {},
     "outputs": [],
     "prompt_number": ""
    },
    {
     "cell_type": "code",
     "collapsed": false,
     "input": [
      "train_idx = range(50)\n",
      "train_modelnames = [paths.modelnames[idx] for idx in train_idx]\n",
      "\n",
      "# loading in the training data from disk\n",
      "def features_path(modelname):\n",
      "    return paths.base_path + 'bigbird_features/'+ modelname + '.mat'\n",
      "\n",
      "training_data = [scipy.io.loadmat(features_path(name)) for name in train_modelnames]"
     ],
     "language": "python",
     "metadata": {},
     "outputs": [],
     "prompt_number": ""
    },
    {
     "cell_type": "code",
     "collapsed": false,
     "input": [
      "# train the forest\n",
      "def extract_training_X(features):\n",
      "    spider = []\n",
      "    patch = []\n",
      "    for f in features:\n",
      "        spider.append(combine_data.replace_nans_with_col_means(f['spider_features']))\n",
      "        patch.append(combine_data.replace_nans_with_col_means(np.array(f['patch_features'])))\n",
      "    spider = np.array(spider)\n",
      "    patch = np.array(patch)\n",
      "    spider = np.array(spider).reshape((-1, spider[0].shape[1]))\n",
      "    patch = np.array(patch).reshape((-1, patch[0].shape[1]))\n",
      "    return np.concatenate([spider, patch], axis=1)"
     ],
     "language": "python",
     "metadata": {},
     "outputs": [],
     "prompt_number": ""
    },
    {
     "cell_type": "code",
     "collapsed": false,
     "input": [
      "train_X = extract_training_X(training_data)\n",
      "train_Y = np.array([f['depth_diffs'] for f in training_data]).reshape(-1, 1).squeeze()\n",
      "print train_X.shape\n",
      "print train_Y.shape\n",
      "print np.sum(np.isnan(train_X))\n",
      "print np.sum(np.isnan(train_Y))"
     ],
     "language": "python",
     "metadata": {},
     "outputs": [],
     "prompt_number": ""
    },
    {
     "cell_type": "code",
     "collapsed": false,
     "input": [
      "rf = RandomForestRegressor(n_estimators=10,n_jobs=1,random_state=1,max_depth=10)\n",
      "rf.fit(train_X, train_Y)"
     ],
     "language": "python",
     "metadata": {},
     "outputs": [],
     "prompt_number": ""
    },
    {
     "cell_type": "code",
     "collapsed": false,
     "input": [
      "# now loading a specific model and view and get the features for it\n",
      "test_modelname = paths.modelnames[55]\n",
      "test_view_idx = paths.views[20]\n",
      "\n",
      "im = images.CroppedRGBD()\n",
      "im.load_bigbird_from_mat(test_modelname, test_view_idx)\n",
      "\n",
      "engine = compute_data.DepthFeatureEngine()\n",
      "engine.set_image(im)\n",
      "#engine.random_sample_from_mask(2000)\n",
      "engine.dense_sample_from_mask()\n",
      "engine.compute_features_and_depths(features=['spider', 'cobweb'])\n",
      "\n",
      "all_features = engine.features_and_depths_as_dict()\n",
      "test_X = extract_training_X([all_features])"
     ],
     "language": "python",
     "metadata": {},
     "outputs": [],
     "prompt_number": ""
    },
    {
     "cell_type": "code",
     "collapsed": false,
     "input": [
      "# checking for nana\n",
      "print np.sum(np.isnan(test_X), axis=0)\n",
      "print test_X.shape"
     ],
     "language": "python",
     "metadata": {},
     "outputs": [],
     "prompt_number": ""
    },
    {
     "cell_type": "code",
     "collapsed": false,
     "input": [
      "# doing prediction\n",
      "Y_pred = rf.predict(test_X)\n",
      "plt.hist(Y_pred, 100)\n",
      "plt.show()"
     ],
     "language": "python",
     "metadata": {},
     "outputs": [],
     "prompt_number": ""
    },
    {
     "cell_type": "code",
     "collapsed": false,
     "input": [
      "plt.rcParams['figure.figsize'] = (20.0, 8.0)\n",
      "\n",
      "# reconstructing prediction image\n",
      "from thickness import displaying as disp\n",
      "\n",
      "im_idxs = engine.indices.T # np.array(np.nonzero(im.mask))\n",
      "print im_idxs.shape\n",
      "print Y_pred.shape\n",
      "print im.mask.shape\n",
      "print np.array(np.nonzero(im.mask)).shape\n"
     ],
     "language": "python",
     "metadata": {},
     "outputs": [],
     "prompt_number": ""
    },
    {
     "cell_type": "code",
     "collapsed": false,
     "input": [
      "predictions = disp.reconstruct_image(im_idxs, Y_pred, im.mask.shape)"
     ],
     "language": "python",
     "metadata": {},
     "outputs": [],
     "prompt_number": ""
    },
    {
     "cell_type": "code",
     "collapsed": false,
     "input": [
      "GT_image = disp.reconstruct_image(im_idxs, np.array(all_features['depth_diffs']).T, im.mask.shape)"
     ],
     "language": "python",
     "metadata": {},
     "outputs": [],
     "prompt_number": ""
    },
    {
     "cell_type": "code",
     "collapsed": false,
     "input": [
      "out = disp.crop_concatenate((GT_image, predictions), 10)\n",
      "#plt.imshow(im.depth, interpolation='none')\n",
      "plt.imshow(out)\n",
      "#plt.clim(0., 0.4)\n",
      "plt.colorbar()\n",
      "plt.show()"
     ],
     "language": "python",
     "metadata": {},
     "outputs": [],
     "prompt_number": ""
    },
    {
     "cell_type": "code",
     "collapsed": false,
     "input": [],
     "language": "python",
     "metadata": {},
     "outputs": []
    }
   ],
   "metadata": {}
  }
 ]
}