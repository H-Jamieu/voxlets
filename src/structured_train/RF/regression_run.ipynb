{
 "metadata": {
  "name": ""
 },
 "nbformat": 3,
 "nbformat_minor": 0,
 "worksheets": [
  {
   "cells": [
    {
     "cell_type": "code",
     "collapsed": false,
     "input": [
      "%matplotlib inline\n",
      "%load_ext autoreload\n",
      "%autoreload 2\n",
      "import numpy as np\n",
      "import matplotlib.pyplot as plt\n",
      "from sklearn.ensemble import RandomForestRegressor\n",
      "from sklearn.datasets import load_boston\n",
      "import sklearn"
     ],
     "language": "python",
     "metadata": {},
     "outputs": [],
     "prompt_number": ""
    },
    {
     "cell_type": "code",
     "collapsed": false,
     "input": [
      "# generate training data\n",
      "train_X = np.linspace(0, 2*np.pi, 10000)\n",
      "train_Y = 4*(train_X**2) + np.random.randn(train_X.shape[0])*5\n",
      "train_X = train_X[:, np.newaxis]\n",
      "plt.plot(train_X, train_Y)\n"
     ],
     "language": "python",
     "metadata": {},
     "outputs": [],
     "prompt_number": ""
    },
    {
     "cell_type": "code",
     "collapsed": false,
     "input": [
      "# this is the \n",
      "rf = RandomForestRegressor(n_estimators=20,n_jobs=1,random_state=1,max_depth=10)\n",
      "rf.fit(train_X, train_Y)\n",
      "\n",
      "test_X = np.linspace(-1, 2.3*np.pi, 600)[:, np.newaxis]\n",
      "test_Y  = rf.predict(test_X)\n",
      "\n",
      "plt.plot(test_X, test_Y)"
     ],
     "language": "python",
     "metadata": {},
     "outputs": [],
     "prompt_number": ""
    },
    {
     "cell_type": "code",
     "collapsed": false,
     "input": [
      "# OMA one\n",
      "import random_forest\n",
      "params = random_forest.ForestParams()\n",
      "omaf = random_forest.Forest(params)\n",
      "omaf.train(train_X, train_Y)"
     ],
     "language": "python",
     "metadata": {},
     "outputs": [],
     "prompt_number": ""
    },
    {
     "cell_type": "code",
     "collapsed": false,
     "input": [
      "OMA_Y = omaf.test(test_X)\n",
      "plt.plot(test_X, OMA_Y)\n",
      "print omaf.trees[0].root.impurity\n",
      "np.var(train_Y)"
     ],
     "language": "python",
     "metadata": {},
     "outputs": [],
     "prompt_number": ""
    },
    {
     "cell_type": "code",
     "collapsed": false,
     "input": [
      "%lprun -f random_forest.Tree.optimize_node omaf.train(train_X, train_Y)\n",
      "#%timeit omaf.train(train_X, train_Y)"
     ],
     "language": "python",
     "metadata": {},
     "outputs": [],
     "prompt_number": ""
    }
   ],
   "metadata": {}
  }
 ]
}