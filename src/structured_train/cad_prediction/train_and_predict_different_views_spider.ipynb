{
 "metadata": {
  "name": ""
 },
 "nbformat": 3,
 "nbformat_minor": 0,
 "worksheets": [
  {
   "cells": [
    {
     "cell_type": "code",
     "collapsed": false,
     "input": [
      "%matplotlib inline\n",
      "%load_ext autoreload\n",
      "%autoreload 2\n",
      "\n",
      "import numpy as np\n",
      "import matplotlib.pyplot as plt\n",
      "from sklearn.ensemble import RandomForestRegressor\n",
      "from sklearn import neighbors\n",
      "import cPickle as pickle\n",
      "\n",
      "from thickness import compute_data\n",
      "from thickness import voxel_data\n",
      "from thickness import paths\n",
      "\n",
      "def nan_to_value(X, newval):\n",
      "\tX[np.isnan(X)] = newval\n",
      "\treturn X"
     ],
     "language": "python",
     "metadata": {},
     "outputs": [],
     "prompt_number": ""
    },
    {
     "cell_type": "code",
     "collapsed": false,
     "input": [
      "modelname = '109d55a137c042f5760315ac3bf2c13e'\n",
      "view_idx = 12\n",
      "\n",
      "# loading in all data for this object\n",
      "features_per_view = 1000\n",
      "\n",
      "def compute_features(idx, rotated, fixed_patch_size=True):\n",
      "    engine = compute_data.DepthFeatureEngine(modelname, idx+1)\n",
      "    engine.sample_from_mask(features_per_view)\n",
      "    if not rotated: engine.patch_extractor.set_angles_to_zero()\n",
      "    engine.patch_extractor.fixed_patch_size = fixed_patch_size\n",
      "    engine.compute_features_and_depths()\n",
      "    print str(idx),\n",
      "    return engine.features_and_depths_as_dict()\n",
      "\n",
      "all_features = [compute_features(idx, rotated=True, fixed_patch_size=False) for idx in range(42)]"
     ],
     "language": "python",
     "metadata": {},
     "outputs": [],
     "prompt_number": ""
    },
    {
     "cell_type": "code",
     "collapsed": false,
     "input": [
      "plt.plot(np.nanmean(all_features[0]['spider_features'], axis=0))\n",
      "plt.show()"
     ],
     "language": "python",
     "metadata": {},
     "outputs": [],
     "prompt_number": ""
    },
    {
     "cell_type": "code",
     "collapsed": false,
     "input": [
      "# extracting training data\n",
      "def extract_training_X_one_feature(featureset, feature_to_use, view_idx):\n",
      "    print feature_to_use\n",
      "    all_X = [feature[feature_to_use] for feature in featureset]\n",
      "    del all_X[view_idx-1]\n",
      "    all_X = np.array(all_X).reshape((41*features_per_view, -1))\n",
      "    all_X[np.isnan(all_X)] = 5\n",
      "    return all_X\n",
      "\n",
      "def extract_training_X(featureset, features_to_use, view_idx):\n",
      "    all_X = [extract_training_X_one_feature(featureset, feat, view_idx) for feat in features_to_use]\n",
      "    all_X = np.concatenate(all_X, axis=1).reshape((41*features_per_view, -1))\n",
      "    return all_X\n",
      "\n",
      "def extract_training_Y(featureset, view_idx):\n",
      "    train_Y = [feature['depth_diffs'] for feature in featureset]    \n",
      "    del train_Y[view_idx-1]\n",
      "    return np.array(train_Y).flatten()\n",
      "    \n",
      "features = [['patch_features'], ['spider_features'], ['patch_features', 'spider_features']]\n",
      "train_X = [extract_training_X(all_features, features_to_use, view_idx) for features_to_use in features]\n",
      "train_Y = [extract_training_Y(all_features, view_idx) for features_to_use in features]"
     ],
     "language": "python",
     "metadata": {},
     "outputs": [],
     "prompt_number": ""
    },
    {
     "cell_type": "code",
     "collapsed": false,
     "input": [
      "# Training and fitting the forest\n",
      "def train_forest(X, Y):\n",
      "    rf = RandomForestRegressor(n_estimators=20,n_jobs=4,random_state=1,max_depth=20)\n",
      "    rf.fit(X, Y)\n",
      "    print \"Done\"\n",
      "    return rf\n",
      "\n",
      "rfs = [train_forest(X, Y) for X, Y in zip(train_X, train_Y)]"
     ],
     "language": "python",
     "metadata": {},
     "outputs": [],
     "prompt_number": ""
    },
    {
     "cell_type": "code",
     "collapsed": false,
     "input": [
      "# extracting test data\n",
      "test_model = '4aa5279ac390695f88d29413a3dd87fd'#modelname\n",
      "engine = compute_data.DepthFeatureEngine(test_model, view_idx)\n",
      "engine.sample_from_mask(-1)\n",
      "engine.compute_features_and_depths()\n",
      "all_test_data = engine.features_and_depths_as_dict()\n",
      "\n",
      "test_idxs = all_test_data['indices'].T"
     ],
     "language": "python",
     "metadata": {},
     "outputs": [],
     "prompt_number": ""
    },
    {
     "cell_type": "code",
     "collapsed": false,
     "input": [
      "def get_test_data(feature_list):\n",
      "    test_X = [np.array(all_test_data[feat]) for feat in feature_list]\n",
      "    test_X = np.concatenate(test_X, axis=1)\n",
      "    return nan_to_value(test_X, 5)\n",
      "\n",
      "test_X = [get_test_data(feat) for feat in features]\n",
      "test_Y_gt = all_test_data['depth_diffs']"
     ],
     "language": "python",
     "metadata": {},
     "outputs": [],
     "prompt_number": ""
    },
    {
     "cell_type": "code",
     "collapsed": false,
     "input": [
      "# doing prediction\n",
      "Y_pred = [rf.predict(X) for X, rf in zip(test_X, rfs)]"
     ],
     "language": "python",
     "metadata": {},
     "outputs": [],
     "prompt_number": ""
    },
    {
     "cell_type": "code",
     "collapsed": false,
     "input": [
      "plt.rcParams['figure.figsize'] = (20.0, 8.0)\n",
      "\n",
      "# reconstructing prediction image\n",
      "import displaying as disp\n",
      "\n",
      "predictions = [disp.reconstruct_image(test_idxs, Y, (240, 320)) for Y in Y_pred]\n",
      "GT_image = disp.reconstruct_image(test_idxs, np.array(test_Y_gt), (240, 320))\n",
      "\n",
      "out = disp.crop_concatenate((GT_image, predictions[0], predictions[1], predictions[2]), 10)\n",
      "plt.imshow(out, interpolation='none')\n",
      "#plt.clim(0, 0.9)\n",
      "plt.colorbar()\n",
      "plt.show()"
     ],
     "language": "python",
     "metadata": {},
     "outputs": [],
     "prompt_number": ""
    },
    {
     "cell_type": "code",
     "collapsed": false,
     "input": [
      "print np.max(train_X[1][1000:1200, :], axis=0)"
     ],
     "language": "python",
     "metadata": {},
     "outputs": [],
     "prompt_number": ""
    },
    {
     "cell_type": "code",
     "collapsed": false,
     "input": [
      "plt.rcParams['figure.figsize'] = (10.0, 8.0)\n",
      "plt.matshow(np.reshape(rfs[0].feature_importances_, (15, 15)))\n",
      "plt.colorbar()"
     ],
     "language": "python",
     "metadata": {},
     "outputs": []
    },
    {
     "cell_type": "code",
     "collapsed": false,
     "input": [
      "# want to show all the other views\n",
      "for idx in range(42):\n",
      "    engine = compute_data.depth_feature_engine(modelname, idx+1)\n",
      "    plt.subplot(6, 7, idx)\n",
      "    plt.imshow(engine.frontrender)\n",
      "#    plt.axes(False)\n",
      "plt.show()"
     ],
     "language": "python",
     "metadata": {},
     "outputs": []
    },
    {
     "cell_type": "code",
     "collapsed": false,
     "input": [
      "#med = np.median(train_X, axis=0)\n",
      "plt.rcParams['figure.figsize'] = (10.0, 7.0)\n",
      "to_use = np.sum(np.isnan(train_X[1]), axis=1) == 0\n",
      "print np.sum(to_use)\n",
      "mean = np.mean(train_X[0][to_use, :], axis=0)\n",
      "var = np.var(train_X[0][to_use, :], axis=0)\n",
      "#suma = np.sum(np.abs(train_X), axis=0)\u2020wa\n",
      "plt.subplot(131)\n",
      "plt.imshow(mean.reshape((15, 15)), interpolation='none')\n",
      "plt.colorbar()\n",
      "plt.subplot(132)\n",
      "plt.imshow(var.reshape((15, 15)), interpolation='none')\n",
      "plt.colorbar()\n",
      "plt.subplot(133)\n",
      "#plt.imshow(np.sum(np.isnan(train_X), axis=0).reshape((15, 15)), interpolation='none')\n",
      "plt.colorbar()\n",
      "#plt.clf()\n"
     ],
     "language": "python",
     "metadata": {},
     "outputs": []
    },
    {
     "cell_type": "code",
     "collapsed": false,
     "input": [
      "engine = compute_data.DepthFeatureEngine(modelname, idx+1)\n",
      "temp = engine.frontrender.flatten()\n",
      "temp = temp[~np.isnan(temp)]\n",
      "plt.hist(temp, 100)\n",
      "plt.show()\n",
      "print temp.shape"
     ],
     "language": "python",
     "metadata": {},
     "outputs": []
    },
    {
     "cell_type": "code",
     "collapsed": false,
     "input": [
      "print np.min(temp)\n",
      "print temp.shape"
     ],
     "language": "python",
     "metadata": {},
     "outputs": []
    },
    {
     "cell_type": "code",
     "collapsed": false,
     "input": [],
     "language": "python",
     "metadata": {},
     "outputs": []
    }
   ],
   "metadata": {}
  }
 ]
}