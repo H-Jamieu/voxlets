{
 "metadata": {
  "name": ""
 },
 "nbformat": 3,
 "nbformat_minor": 0,
 "worksheets": [
  {
   "cells": [
    {
     "cell_type": "code",
     "collapsed": false,
     "input": [
      "'''\n",
      "create a voxel output which is just full of the observed pixels\n",
      "'''\n",
      "%matplotlib inline\n",
      "%load_ext autoreload\n",
      "%autoreload 2\n",
      "\n",
      "import numpy as np\n",
      "import matplotlib.pyplot as plt \n",
      "import cPickle as pickle\n",
      "import sys\n",
      "sys.path.append('/Users/Michael/projects/shape_sharing/src/common')\n",
      "\n",
      "import paths\n",
      "import voxel_data\n",
      "import mesh\n",
      "import images\n",
      "import features\n",
      "#from thickness_regress import combine_data"
     ],
     "language": "python",
     "metadata": {},
     "outputs": [],
     "prompt_number": ""
    },
    {
     "cell_type": "code",
     "collapsed": false,
     "input": [
      "import scipy.io\n",
      "# loop over all models and view\n",
      "f = open('./names.txt', 'r')\n",
      "for fline in f:\n",
      "    name = fline.strip()\n",
      "    name = 'frame_20141120T185954.959422_'\n",
      "    \n",
      "    # load in the\n",
      "#    osdsavefolder = paths.base_path + #\"other_3D/osd/OSD-0.2-depth/troll_predictions/\"\n",
      "    osdsavefolder = paths.base_path + \"other_3D/from_biryani/troll_predictions/\"\n",
      "\n",
      "    loadpath = osdsavefolder + name + \".pkl\"\n",
      "    accum = pickle.load(open(loadpath, 'rb'))\n",
      "    accum.V *= 0\n",
      "    \n",
      "    # load the image and convert to world space\n",
      "    im = images.RealRGBD()\n",
      "    im.load_from_mat(paths.base_path + 'other_3D/from_biryani/mdf/' + name)\n",
      "    world_xyz = im.get_world_xyz()\n",
      "    print im.cam.H\n",
      "    \n",
      "    # fill the voxel grid\n",
      "    idx = accum.world_to_idx(world_xyz)\n",
      "    valid = accum.find_valid_idx(idx)\n",
      "    accum.set_idxs(idx[valid, :], 1)\n",
      "    plt.imshow(np.mean(accum.V, axis=2))\n",
      "\n",
      "    # save to file\n",
      "    #savepath = paths.base_path + 'other_3D/osd/OSD-0.2-depth/observed_voxels/' + name + '.mat'\n",
      "    savepath = paths.base_path + \"other_3D/from_biryani/observed_voxels/\" + name + '.mat'\n",
      "    D = dict(prediction=accum.V)\n",
      "    scipy.io.savemat(savepath, D, do_compression=True)\n",
      "    \n",
      "    print \"Done \" + name\n",
      "    break"
     ],
     "language": "python",
     "metadata": {},
     "outputs": [],
     "prompt_number": ""
    },
    {
     "cell_type": "code",
     "collapsed": false,
     "input": [
      "print im.cam.H\n",
      "print im.cam.H.flatten()\n",
      "plt.imshow(im.rgb)"
     ],
     "language": "python",
     "metadata": {},
     "outputs": [],
     "prompt_number": ""
    },
    {
     "cell_type": "code",
     "collapsed": false,
     "input": [
      "print savepath"
     ],
     "language": "python",
     "metadata": {},
     "outputs": [],
     "prompt_number": ""
    }
   ],
   "metadata": {}
  }
 ]
}