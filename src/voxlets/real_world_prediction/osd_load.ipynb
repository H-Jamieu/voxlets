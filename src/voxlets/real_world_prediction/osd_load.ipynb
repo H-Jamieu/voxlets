{
 "metadata": {
  "name": ""
 },
 "nbformat": 3,
 "nbformat_minor": 0,
 "worksheets": [
  {
   "cells": [
    {
     "cell_type": "code",
     "collapsed": false,
     "input": [
      "'''\n",
      "aim here is to load in some of the OSD dataset and check everything is set up correctly\n",
      "'''"
     ],
     "language": "python",
     "metadata": {},
     "outputs": [],
     "prompt_number": ""
    },
    {
     "cell_type": "code",
     "collapsed": false,
     "input": [
      "%matplotlib inline\n",
      "%load_ext autoreload\n",
      "%autoreload 2\n",
      "\n",
      "import numpy as np\n",
      "import matplotlib.pyplot as plt \n",
      "import cPickle as pickle\n",
      "import sys\n",
      "sys.path.append('/Users/Michael/projects/shape_sharing/src/')\n",
      "sys.path.append('../bigbird_images3/')\n",
      "\n",
      "from common import paths\n",
      "from common import voxel_data\n",
      "from common import mesh\n",
      "from common import images\n",
      "from common import features\n",
      "from thickness_regress import combine_data\n",
      "import reconstructer"
     ],
     "language": "python",
     "metadata": {},
     "outputs": [],
     "prompt_number": ""
    },
    {
     "cell_type": "code",
     "collapsed": false,
     "input": [
      "im = images.RealRGBD()\n",
      "im.load_from_mat(\"learn1\")\n",
      "im.disp_channels()"
     ],
     "language": "python",
     "metadata": {},
     "outputs": [],
     "prompt_number": ""
    },
    {
     "cell_type": "code",
     "collapsed": false,
     "input": [
      "# can now check world up direction\n",
      "world_xyz = im.get_world_xyz()\n",
      "world_normals = im.get_world_normals()\n",
      "plt.rcParams['figure.figsize'] = (7.0, 7.0)\n",
      "plt.subplot(221)\n",
      "plt.imshow(im.normals[:, 1].reshape(im.mask.shape))\n",
      "plt.subplot(222)\n",
      "plt.imshow(im.xyz[:, 1].reshape(im.mask.shape))\n",
      "plt.subplot(223)\n",
      "plt.imshow(world_normals[:, 2].reshape(im.mask.shape))\n",
      "plt.colorbar()\n",
      "plt.subplot(224)\n",
      "#plt.imshow(world_xyz[:,0].reshape(im.mask.shape)<0)\n",
      "plt.imshow(np.abs(world_xyz[:,2].reshape(im.mask.shape)) < 0.01)\n",
      "plt.colorbar()\n",
      "plt.show()\n"
     ],
     "language": "python",
     "metadata": {},
     "outputs": [],
     "prompt_number": ""
    },
    {
     "cell_type": "code",
     "collapsed": false,
     "input": [
      "# top down view of the point data\n",
      "plt.rcParams['figure.figsize'] = (7.0, 7.0)\n",
      "inliers =  im.get_world_xyz()[im.mask.flatten()==1, :]\n",
      "plt.plot(inliers[:, 0], inliers[:, 2], '.')\n",
      "#plt.axis('equal')"
     ],
     "language": "python",
     "metadata": {},
     "outputs": [],
     "prompt_number": ""
    },
    {
     "cell_type": "code",
     "collapsed": false,
     "input": [
      "# loading clusters and forest\n",
      "print \"Loading OMA forest\"\n",
      "oma_forest = pickle.load(open(paths.voxlet_model_oma_path, 'rb'))\n",
      "\n",
      "# parameters\n",
      "max_points = 200\n",
      "number_samples = 2000\n",
      "padding_value = 0.15 # in future pass this in\n",
      "\n",
      "print \"Reconstructing with oma forest\"\n",
      "rec = reconstructer.Reconstructer(reconstruction_type='kmeans_on_pca', combine_type='modal_vote')\n",
      "rec.set_forest(oma_forest)\n",
      "rec.set_test_im(im)\n",
      "rec.sample_points(number_samples)\n",
      "rec.initialise_output_grid(method='from_image')\n",
      "accum = rec.fill_in_output_grid_oma(max_points=max_points)\n",
      "prediction = accum.compute_average(nan_value=0.03)"
     ],
     "language": "python",
     "metadata": {},
     "outputs": [],
     "prompt_number": ""
    },
    {
     "cell_type": "code",
     "collapsed": false,
     "input": [
      "# Filling in the voxels below the line...\n",
      "padding_value = 0.15 # in future pass this in\n",
      "base_height = padding_value / accum.vox_size\n",
      "prediction[:, :, :base_height] = 0.0"
     ],
     "language": "python",
     "metadata": {},
     "outputs": [],
     "prompt_number": ""
    },
    {
     "cell_type": "code",
     "collapsed": false,
     "input": [
      "# Showing from different directions\n",
      "plt.subplot(221)\n",
      "plt.imshow(np.mean(prediction, axis=2))\n",
      "plt.subplot(223)\n",
      "plt.imshow(np.flipud(np.mean(prediction, axis=0).T))\n",
      "plt.subplot(224)\n",
      "plt.imshow(np.flipud(np.mean(prediction, axis=1).T))"
     ],
     "language": "python",
     "metadata": {},
     "outputs": [],
     "prompt_number": ""
    },
    {
     "cell_type": "code",
     "collapsed": false,
     "input": [
      "# great now want to show this in 3D\n",
      "\n",
      "# get middle of voxel grid\n",
      "voxgrid_middle = accum.idx_to_world(np.array(accum.V.shape)[np.newaxis, :] / 2)\n",
      "\n",
      "# find the camera position"
     ],
     "language": "python",
     "metadata": {},
     "outputs": [],
     "prompt_number": ""
    }
   ],
   "metadata": {}
  }
 ]
}