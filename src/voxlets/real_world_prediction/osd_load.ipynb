{
 "metadata": {
  "name": ""
 },
 "nbformat": 3,
 "nbformat_minor": 0,
 "worksheets": [
  {
   "cells": [
    {
     "cell_type": "code",
     "collapsed": false,
     "input": [
      "'''\n",
      "aim here is to load in some of the OSD dataset and check everything is set up correctly\n",
      "'''"
     ],
     "language": "python",
     "metadata": {},
     "outputs": [],
     "prompt_number": ""
    },
    {
     "cell_type": "code",
     "collapsed": false,
     "input": [
      "%matplotlib inline\n",
      "%load_ext autoreload\n",
      "%autoreload 2\n",
      "\n",
      "import numpy as np\n",
      "import matplotlib.pyplot as plt \n",
      "import cPickle as pickle\n",
      "import sys\n",
      "sys.path.append('/Users/Michael/projects/shape_sharing/src/')\n",
      "sys.path.append('../bigbird_images3/')\n",
      "\n",
      "from common import paths\n",
      "from common import voxel_data\n",
      "from common import mesh\n",
      "from common import images\n",
      "from common import features\n",
      "from thickness_regress import combine_data\n",
      "import reconstructer"
     ],
     "language": "python",
     "metadata": {},
     "outputs": [],
     "prompt_number": ""
    },
    {
     "cell_type": "code",
     "collapsed": false,
     "input": [
      "im = images.RealRGBD()\n",
      "im.load_from_mat(\"learn1\")\n",
      "im.disp_channels()"
     ],
     "language": "python",
     "metadata": {},
     "outputs": [],
     "prompt_number": ""
    },
    {
     "cell_type": "code",
     "collapsed": false,
     "input": [
      "# can now check world up direction\n",
      "world_xyz = im.get_world_xyz()\n",
      "world_normals = im.get_world_normals()\n",
      "plt.rcParams['figure.figsize'] = (7.0, 7.0)\n",
      "plt.subplot(221)\n",
      "plt.imshow(im.normals[:, 1].reshape(im.mask.shape))\n",
      "plt.subplot(222)\n",
      "plt.imshow(im.xyz[:, 1].reshape(im.mask.shape))\n",
      "plt.subplot(223)\n",
      "plt.imshow(world_normals[:, 2].reshape(im.mask.shape))\n",
      "plt.colorbar()\n",
      "plt.subplot(224)\n",
      "#plt.imshow(world_xyz[:,0].reshape(im.mask.shape)<0)\n",
      "plt.imshow(np.abs(world_xyz[:,2].reshape(im.mask.shape)) < 0.01)\n",
      "plt.colorbar()\n",
      "plt.show()\n"
     ],
     "language": "python",
     "metadata": {},
     "outputs": [],
     "prompt_number": ""
    },
    {
     "cell_type": "code",
     "collapsed": false,
     "input": [
      "# top down view of the point data\n",
      "plt.rcParams['figure.figsize'] = (7.0, 7.0)\n",
      "inliers =  im.get_world_xyz()#[im.mask.flatten()==1, :]\n",
      "plt.plot(inliers[:, 1], inliers[:, 2], '.')\n",
      "plt.axis('equal')"
     ],
     "language": "python",
     "metadata": {},
     "outputs": [],
     "prompt_number": ""
    },
    {
     "cell_type": "code",
     "collapsed": false,
     "input": [
      "print paths.voxlet_model_oma_path"
     ],
     "language": "python",
     "metadata": {},
     "outputs": [],
     "prompt_number": ""
    },
    {
     "cell_type": "code",
     "collapsed": false,
     "input": [
      "# loading clusters and forest\n",
      "print \"Loading OMA forest\"\n",
      "oma_forest = pickle.load(open(paths.voxlet_model_oma_path, 'rb'))\n",
      "\n",
      "# parameters\n",
      "max_points = 200\n",
      "number_samples = 2000\n",
      "padding_value = 0.15 # in future pass this in\n",
      "\n",
      "print \"Reconstructing with oma forest\"\n",
      "rec = reconstructer.Reconstructer(reconstruction_type='kmeans_on_pca', combine_type='modal_vote')\n",
      "rec.set_forest(oma_forest)\n",
      "rec.set_test_im(im)\n",
      "rec.sample_points(number_samples)\n",
      "rec.initialise_output_grid(method='from_image')\n",
      "accum = rec.fill_in_output_grid_oma(max_points=max_points)\n",
      "prediction = accum.compute_average(nan_value=0.03)"
     ],
     "language": "python",
     "metadata": {},
     "outputs": [],
     "prompt_number": ""
    },
    {
     "cell_type": "code",
     "collapsed": false,
     "input": [
      "# Filling in the voxels below the line...\n",
      "padding_value = 0.15 # in future pass this in\n",
      "base_height = padding_value / accum.vox_size\n",
      "#prediction[:, :, :base_height] = 0.0"
     ],
     "language": "python",
     "metadata": {},
     "outputs": [],
     "prompt_number": ""
    },
    {
     "cell_type": "code",
     "collapsed": false,
     "input": [
      "# Showing from different directions\n",
      "plt.subplot(221)\n",
      "plt.imshow(np.min(prediction, axis=2))\n",
      "plt.colorbar()\n",
      "plt.subplot(223)\n",
      "plt.imshow(np.flipud(np.mean(prediction, axis=0).T))\n",
      "plt.subplot(224)\n",
      "plt.imshow(np.flipud(np.mean(prediction, axis=1).T))"
     ],
     "language": "python",
     "metadata": {},
     "outputs": [],
     "prompt_number": ""
    },
    {
     "cell_type": "code",
     "collapsed": false,
     "input": [
      "# great now want to show this in 3D\n",
      "\n",
      "# get middle of voxel grid\n",
      "voxgrid_middle = accum.idx_to_world(np.array(accum.V.shape)[np.newaxis, :] / 2).flatten()\n",
      "\n",
      "# find the camera position in world coords\n",
      "camera_location = -im.m\n",
      "\n",
      "# now cam location relative to vogrid\n",
      "relative_cam_loc = camera_location - voxgrid_middle\n",
      "\n",
      "# now compute the elevation and azimuth\n",
      "distance = np.sqrt(relative_cam_loc[0]**2 + relative_cam_loc[1]**2)\n",
      "height = relative_cam_loc[2]\n",
      "elevation_angle = np.rad2deg(np.arctan2(height, distance))\n",
      "azimuth_angle = np.rad2deg(np.arctan2(relative_camera_location[1], relative_camera_location[0]))\n",
      "\n",
      "print elevation_angle, azimuth_angle\n"
     ],
     "language": "python",
     "metadata": {},
     "outputs": [],
     "prompt_number": ""
    },
    {
     "cell_type": "code",
     "collapsed": false,
     "input": [
      "# Doing a 3D plot\n",
      "from mpl_toolkits.mplot3d.art3d import Poly3DCollection\n",
      "scaling = 1\n",
      "from skimage import measure\n",
      "verts, faces = measure.marching_cubes(prediction, level=0, spacing = (scaling, scaling, scaling))\n",
      "print verts.shape\n",
      "print faces.shape"
     ],
     "language": "python",
     "metadata": {},
     "outputs": [],
     "prompt_number": ""
    },
    {
     "cell_type": "code",
     "collapsed": false,
     "input": [
      "fig = plt.figure(figsize=(10, 12))\n",
      "ax = fig.add_subplot(111, projection='3d')\n",
      "\n",
      "# Fancy indexing: `verts[faces]` to generate a collection of triangles\n",
      "mesh = Poly3DCollection(verts[faces])\n",
      "ax.add_collection3d(mesh)\n",
      "\n",
      "ax.set_xlabel(\"x-axis\")\n",
      "ax.set_ylabel(\"y-axis\")\n",
      "ax.set_zlabel(\"z-axis\")\n",
      "\n",
      "ax.set_xlim(0, scaling*prediction.shape[0])\n",
      "ax.set_ylim(0, scaling*prediction.shape[1])\n",
      "ax.set_zlim(0, scaling*prediction.shape[2])\n",
      "\n",
      "#ax.view_init(elev=elevation_angle/2, azim=azimuth_angle)\n",
      "ax.view_init(elev=elevation_angle/2, azim=azimuth_angle) \n",
      "\n",
      "plt.show()"
     ],
     "language": "python",
     "metadata": {},
     "outputs": [],
     "prompt_number": ""
    },
    {
     "cell_type": "code",
     "collapsed": false,
     "input": [
      "# now try to instead project the mesh vertices back into the camera\n",
      "# projected_mesh = im.cam.project_points(accum.idx_to_world(verts))\n",
      "# plt.imshow(im.rgb)\n",
      "# plt.hold(True)\n",
      "# plt.plot(projected_mesh[:, 0], projected_mesh[:, 1])\n",
      "# plt.hold(False)\n",
      "\n",
      "def apply_homo_transformation(xyz, trans):\n",
      "    '''\n",
      "    apply a 4x4 transformation matrix to the vertices\n",
      "    '''\n",
      "    n = xyz.shape[0]\n",
      "    temp = np.concatenate((xyz, np.ones((n, 1))), axis=1).T\n",
      "    temp_transformed = trans.dot(temp).T\n",
      "    return temp_transformed[:, :3] / temp_transformed[:, 3][:, np.newaxis]\n",
      "\n",
      "# actual chain is:\n",
      "temp = np.vstack((np.hstack((accum.R, accum.origin[:, np.newaxis])), np.array([0, 0, 0, 1])))\n",
      "final_transform = np.dot(im.cam.inv_H, temp)\n",
      "print final_transform\n",
      "final_points = apply_homo_transformation(verts, final_transform)\n",
      "\n",
      "print final_points_world.shape\n",
      "print im.cam.K.shape\n",
      "final_points = np.dot(im.cam.K, final_points_world.T).T\n",
      "\n",
      "plt.imshow(im.rgb)\n",
      "plt.hold(True)\n",
      "plt.plot(final_points[:, 0], final_points[:, 1])\n",
      "plt.hold(False)\n",
      "\n",
      "#projected_mesh2 = im.cam.K * im.cam.H * np.dot(accum.R, verts.T).T + accum.origin"
     ],
     "language": "python",
     "metadata": {},
     "outputs": [],
     "prompt_number": ""
    }
   ],
   "metadata": {}
  }
 ]
}