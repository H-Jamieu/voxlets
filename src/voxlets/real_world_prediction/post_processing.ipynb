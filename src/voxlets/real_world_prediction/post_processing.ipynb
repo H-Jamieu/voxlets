{
 "metadata": {
  "name": ""
 },
 "nbformat": 3,
 "nbformat_minor": 0,
 "worksheets": [
  {
   "cells": [
    {
     "cell_type": "code",
     "collapsed": false,
     "input": [
      "%matplotlib inline\n",
      "%load_ext autoreload\n",
      "%autoreload 2\n",
      "\n",
      "import numpy as np\n",
      "import matplotlib.pyplot as plt \n",
      "import cPickle as pickle\n",
      "import sys, os\n",
      "sys.path.append(os.path.expanduser('~/projects/shape_sharing/src/'))\n",
      "sys.path.append('../bigbird_images3/')\n",
      "\n",
      "from common import paths\n",
      "from common import voxel_data\n",
      "from common import mesh\n",
      "from common import images\n",
      "from common import features\n",
      "from thickness_regress import combine_data\n",
      "import reconstructer"
     ],
     "language": "python",
     "metadata": {},
     "outputs": [],
     "prompt_number": ""
    },
    {
     "cell_type": "code",
     "collapsed": false,
     "input": [
      "# a script to post process some data from e.g. the OSD dataset\n",
      "\n",
      "#f = open('./names.txt', 'r')\n",
      "#for fline in f:\n",
      "#    name = fline.strip()\n",
      "name = 'learn1'\n",
      "print \"Loading image \" + name\n",
      "'''\n",
      "im = images.RealRGBD()\n",
      "im.load_from_mat(name)\n",
      "im.disp_channels()\n",
      "'''"
     ],
     "language": "python",
     "metadata": {},
     "outputs": [],
     "prompt_number": ""
    },
    {
     "cell_type": "code",
     "collapsed": false,
     "input": [
      "print \"loading results from troll data\"\n",
      "import scipy.io\n",
      "osd_base = os.path.expanduser('~/projects/shape_sharing/data/other_3D/osd/OSD-0.2-depth/troll_predictions/')\n",
      "D = scipy.io.loadmat(osd_base + name + '.mat')\n",
      "\n",
      "# get the parameters of the image\n",
      "def init_grid(image):\n",
      "    world_xyz = image.get_world_xyz()[image.mask.flatten()==1, :]\n",
      "    grid_origin = np.percentile(world_xyz, 5, axis=0) - 0.15\n",
      "    grid_end = np.percentile(world_xyz, 95, axis=0) + 0.15\n",
      "    voxlet_size = paths.voxlet_size/2.0\n",
      "    grid_dims_in_real_world = grid_end - grid_origin\n",
      "    V_shape = (grid_dims_in_real_world / (voxlet_size)).astype(int)\n",
      "    print \"Output grid will have shape \" + str(V_shape)\n",
      "    \n",
      "    accum = voxel_data.UprightAccumulator(V_shape)\n",
      "    accum.set_origin(grid_origin)\n",
      "    accum.set_voxel_size(voxlet_size)\n",
      "    return accum\n",
      "    \n",
      "# set up the voxel grid and populate using d\n",
      "vgrid = init_grid(im)\n",
      "vgrid.V = D['prediction']"
     ],
     "language": "python",
     "metadata": {},
     "outputs": [],
     "prompt_number": ""
    },
    {
     "cell_type": "code",
     "collapsed": false,
     "input": [
      "'''\n",
      "print vgrid.V.shape\n",
      "plt.imshow(np.mean(vgrid.V, axis=2))\n",
      "'''"
     ],
     "language": "python",
     "metadata": {},
     "outputs": [],
     "prompt_number": ""
    },
    {
     "cell_type": "code",
     "collapsed": false,
     "input": [
      "# get the world meshgrid from the grid and project into the camera\n",
      "grid_in_world = vgrid.world_meshgrid()#[vgrid.V.flatten() < 0, :]\n",
      "projected_voxels = im.cam.project_points(grid_in_world)\n",
      "\n",
      "# now work out which voxels are in front of or behind the depth image\n",
      "print projected_voxels.shape\n",
      "\n",
      "# working out location in camera image of each voxel\n",
      "uv = np.round(projected_voxels[:, :2]).astype(int)\n",
      "inside_image = np.logical_and.reduce((uv[:, 0] >= 0, uv[:, 1] >= 0, uv[:, 1] < im.mask.shape[0], uv[:, 0] < im.mask.shape[1]))\n",
      "all_observed_depths = im.depth[uv[inside_image, 1], uv[inside_image, 0]]\n",
      "is_observed = all_observed_depths > projected_voxels[inside_image, 2]\n",
      "\n",
      "# reconstructing original voxel grid\n",
      "import copy\n",
      "observed_V = copy.deepcopy(vgrid)\n",
      "observed_V.V *= 0\n",
      "\n",
      "#inliers = np.nonzero(inside_image)\n",
      "observed_V.set_indicated_voxels(inside_image, is_observed)\n",
      "\n",
      "# now resave\n",
      "osd_base2 = os.path.expanduser('~/projects/shape_sharing/data/other_3D/osd/OSD-0.2-depth/troll_predictions_plus_observed/')\n",
      "save_path = osd_base2 + name + '.mat'\n",
      "plt.subplot(121)\n",
      "plt.imshow(np.mean(observed_V.V, axis=0))\n",
      "plt.subplot(122)\n",
      "plt.imshow(np.mean(vgrid.V, axis=0))\n",
      "#level_set = -observed_V.compute_tsdf(0.03)\n",
      "D2 = dict(prediction=D['prediction'], observed=observed_V.V)\n",
      "scipy.io.savemat(save_path, D2)\n",
      "\n",
      "print np.unique(observed_V.V)\n"
     ],
     "language": "python",
     "metadata": {},
     "outputs": [],
     "prompt_number": ""
    },
    {
     "cell_type": "code",
     "collapsed": false,
     "input": [
      "to_fill = observed_V.V == 1\n",
      "vgrid.set_indicated_voxels(to_fill, level_set[to_fill])\n",
      "print vgrid.V.shape\n",
      "#plt.imshow(np.mean(vgrid.V, axis=2))\n",
      "plt.imshow(vgrid.V[:, :, 80])\n",
      "plt.colorbar()"
     ],
     "language": "python",
     "metadata": {},
     "outputs": [],
     "prompt_number": ""
    }
   ],
   "metadata": {}
  }
 ]
}