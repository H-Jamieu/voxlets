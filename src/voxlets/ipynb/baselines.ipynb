{
 "metadata": {
  "name": ""
 },
 "nbformat": 3,
 "nbformat_minor": 0,
 "worksheets": [
  {
   "cells": [
    {
     "cell_type": "code",
     "collapsed": false,
     "input": [
      "'''\n",
      "the aim is to do shoebox extraction, clustering, assignment and feature extracted and forest training\n",
      "All in one notebook file\n",
      "for one object\n",
      "'''\n",
      "%matplotlib inline\n",
      "%load_ext autoreload\n",
      "%autoreload 2\n",
      "\n",
      "import numpy as np\n",
      "import matplotlib.pyplot as plt \n",
      "import cPickle as pickle\n",
      "import sys\n",
      "sys.path.append('/Users/Michael/projects/shape_sharing/src/')\n",
      "sys.path.append('../bigbird_images3/')\n",
      "\n",
      "from common import paths\n",
      "from common import voxel_data\n",
      "from common import mesh\n",
      "from common import images\n",
      "from common import features\n",
      "from thickness_regress import combine_data\n",
      "import reconstructer"
     ],
     "language": "python",
     "metadata": {},
     "outputs": [],
     "prompt_number": ""
    },
    {
     "cell_type": "code",
     "collapsed": false,
     "input": [
      "# now will use this prediction to reconstruct one of the original objects from an image\n",
      "test_view = paths.views[10]\n",
      "modelname = paths.train_names[0]"
     ],
     "language": "python",
     "metadata": {},
     "outputs": [],
     "prompt_number": ""
    },
    {
     "cell_type": "code",
     "collapsed": false,
     "input": [
      "# loading ground truth voxel grid\n",
      "vgrid = voxel_data.BigBirdVoxels()\n",
      "vgrid.load_bigbird(modelname)"
     ],
     "language": "python",
     "metadata": {},
     "outputs": [],
     "prompt_number": ""
    },
    {
     "cell_type": "code",
     "collapsed": false,
     "input": [
      "test_im = images.CroppedRGBD()\n",
      "test_im.load_bigbird_from_mat(modelname, test_view)"
     ],
     "language": "python",
     "metadata": {},
     "outputs": [],
     "prompt_number": ""
    },
    {
     "cell_type": "code",
     "collapsed": false,
     "input": [
      "plt.rcParams['figure.figsize'] = (12.0, 12.0)\n",
      "\n",
      "# baseline - minimum  bounding box, suing the gt\n",
      "import baselines\n",
      "\n",
      "accum = voxel_data.expanded_grid_accum(vgrid)\n",
      "accum.fill_from_grid(vgrid)\n",
      "\n",
      "bb = baselines.SimpleBbBaseline()\n",
      "bb.set_gt_vgrid(accum)\n",
      "bb.set_image(test_im)\n",
      "out_grid = bb.compute_min_bb()\n",
      "\n",
      "#plt.imshow(np.any(tV.V, axis=2))\n",
      "plt.subplot(131)\n",
      "plt.imshow(np.any(out_grid.V, axis=2))\n",
      "plt.hold(True)\n",
      "plt.plot(bb.all_idx[:, 1], bb.all_idx[:, 0])\n",
      "plt.hold(False)\n",
      "\n",
      "plt.subplot(132)\n",
      "plt.imshow(np.any(vgrid.V, axis=2))\n",
      "plt.subplot(133)\n",
      "plt.imshow(np.any(vgrid.V, axis=0))"
     ],
     "language": "python",
     "metadata": {},
     "outputs": [],
     "prompt_number": ""
    },
    {
     "cell_type": "code",
     "collapsed": false,
     "input": [],
     "language": "python",
     "metadata": {},
     "outputs": []
    }
   ],
   "metadata": {}
  }
 ]
}