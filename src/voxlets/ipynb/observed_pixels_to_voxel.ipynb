{
 "metadata": {
  "name": ""
 },
 "nbformat": 3,
 "nbformat_minor": 0,
 "worksheets": [
  {
   "cells": [
    {
     "cell_type": "code",
     "collapsed": false,
     "input": [
      "'''\n",
      "create a voxel output which is just full of the observed pixels\n",
      "'''\n",
      "%matplotlib inline\n",
      "%load_ext autoreload\n",
      "%autoreload 2\n",
      "\n",
      "import numpy as np\n",
      "import matplotlib.pyplot as plt \n",
      "import cPickle as pickle\n",
      "import sys\n",
      "sys.path.append('/Users/Michael/projects/shape_sharing/src/')\n",
      "\n",
      "from common import paths\n",
      "from common import voxel_data\n",
      "from common import mesh\n",
      "from common import images\n",
      "from common import features\n",
      "from thickness_regress import combine_data"
     ],
     "language": "python",
     "metadata": {},
     "outputs": [],
     "prompt_number": ""
    },
    {
     "cell_type": "code",
     "collapsed": false,
     "input": [
      "modelname = paths.modelnames[0]"
     ],
     "language": "python",
     "metadata": {},
     "outputs": [],
     "prompt_number": ""
    },
    {
     "cell_type": "code",
     "collapsed": false,
     "input": [
      "# load in the ground truth voxel grid \n",
      "gt_grid = voxel_data.BigBirdVoxels()\n",
      "gt_grid.load_bigbird(modelname)"
     ],
     "language": "python",
     "metadata": {},
     "outputs": [],
     "prompt_number": ""
    },
    {
     "cell_type": "code",
     "collapsed": false,
     "input": [
      "accum = voxel_data.expanded_grid_accum(gt_grid)\n",
      "accum.fill_from_grid(gt_grid)\n",
      "plt.imshow(np.mean(accum.V, axis=2))"
     ],
     "language": "python",
     "metadata": {},
     "outputs": [],
     "prompt_number": ""
    },
    {
     "cell_type": "code",
     "collapsed": false,
     "input": [
      "# now load the image\n",
      "im = images.CroppedRGBD()\n",
      "view_idx = paths.views[10]\n",
      "im.load_bigbird_from_mat(modelname, view_idx)\n",
      "world_xyz = im.get_world_xyz()"
     ],
     "language": "python",
     "metadata": {},
     "outputs": [],
     "prompt_number": ""
    },
    {
     "cell_type": "code",
     "collapsed": false,
     "input": [
      "# populate the output grid\n",
      "accum.V *= 0\n",
      "idx = accum.world_to_idx(world_xyz)\n",
      "valid = accum.find_valid_idx(idx)\n",
      "accum.set_idxs(idx[valid, :], 1)\n",
      "plt.imshow(np.mean(accum.V, axis=2))"
     ],
     "language": "python",
     "metadata": {},
     "outputs": [],
     "prompt_number": ""
    },
    {
     "cell_type": "code",
     "collapsed": false,
     "input": [
      "# Now doing this in a loop\n",
      "import scipy.io\n",
      "import os\n",
      "\n",
      "for modelname in paths.test_names:\n",
      "    \n",
      "    # load in the ground truth voxel grid \n",
      "    gt_grid = voxel_data.BigBirdVoxels()\n",
      "    gt_grid.load_bigbird(modelname)\n",
      "    \n",
      "    accum = voxel_data.expanded_grid_accum(gt_grid)\n",
      "    accum.fill_from_grid(gt_grid)\n",
      "    \n",
      "    for this_view_idx in [0, 5, 10, 15, 20, 25, 30, 35, 40, 45]:\n",
      "\n",
      "        view_idx = paths.views[this_view_idx]\n",
      "        \n",
      "        savepath = paths.voxlet_prediction_path % ('visible_pixels', modelname, view_idx)\n",
      "        if os.path.isfile(savepath):\n",
      "            print \"Skp \" + view_idx\n",
      "            continue\n",
      "            \n",
      "        # now load the image\n",
      "        im = images.CroppedRGBD()\n",
      "        im.load_bigbird_from_mat(modelname, view_idx)\n",
      "        world_xyz = im.get_world_xyz()\n",
      "        \n",
      "        # populate the grid\n",
      "        accum.V *= 0\n",
      "        idx = accum.world_to_idx(world_xyz)\n",
      "        valid = accum.find_valid_idx(idx)\n",
      "        accum.set_idxs(idx[valid, :], 1)\n",
      "        \n",
      "        # save the grid\n",
      "        savepath = paths.voxlet_prediction_path % ('visible_pixels', modelname, view_idx)\n",
      "        D = dict(prediction=accum.V, gt=gt_grid)\n",
      "        scipy.io.savemat(savepath, D, do_compression=True)\n",
      "        \n",
      "#        print \"Done \" + view_idx\n",
      "        \n",
      "    print \"Done \" + modelname"
     ],
     "language": "python",
     "metadata": {},
     "outputs": [],
     "prompt_number": ""
    },
    {
     "cell_type": "code",
     "collapsed": false,
     "input": [
      "20/2"
     ],
     "language": "python",
     "metadata": {},
     "outputs": [],
     "prompt_number": ""
    }
   ],
   "metadata": {}
  }
 ]
}