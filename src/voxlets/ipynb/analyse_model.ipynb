{
 "metadata": {
  "name": ""
 },
 "nbformat": 3,
 "nbformat_minor": 0,
 "worksheets": [
  {
   "cells": [
    {
     "cell_type": "code",
     "collapsed": false,
     "input": [
      "'''\n",
      "script to look at the model I've made\n",
      "'''\n",
      "%matplotlib inline\n",
      "%load_ext autoreload\n",
      "%autoreload 2\n",
      "\n",
      "import numpy as np\n",
      "import cPickle as pickle\n",
      "import sys, os\n",
      "sys.path.append(os.path.expanduser('~/projects/shape_sharing/src/'))\n",
      "import scipy.io\n",
      "\n",
      "from common import paths\n",
      "import matplotlib.pyplot as plt \n"
     ],
     "language": "python",
     "metadata": {},
     "outputs": [],
     "prompt_number": ""
    },
    {
     "cell_type": "code",
     "collapsed": false,
     "input": [
      "#rf = pickle.load(open(paths.voxlet_model_path, 'rb'))\n",
      "# importances = rf.feature_importances_\n",
      "# oob_score = rf.oob_score_\n",
      "\n",
      "import scipy.io\n",
      "D = scipy.io.loadmat('/Users/Michael/projects/shape_sharing/data/voxlets/forest_data.mat')\n",
      "oob_score = D['oob_score']\n",
      "importances = D['importances'][0]\n",
      "print importances"
     ],
     "language": "python",
     "metadata": {},
     "outputs": [],
     "prompt_number": ""
    },
    {
     "cell_type": "code",
     "collapsed": false,
     "input": [
      "n = importances.shape[0]\n",
      "plt.bar(range(n), importances)\n",
      "#print rf.oob_score_"
     ],
     "language": "python",
     "metadata": {},
     "outputs": [],
     "prompt_number": ""
    },
    {
     "cell_type": "code",
     "collapsed": false,
     "input": [
      "order_to_plot = np.argsort(importances)[::-1]\n",
      "n = importances.shape[0]\n",
      "barlist = plt.bar(range(n), importances[order_to_plot])\n",
      "for count, idx in enumerate(order_to_plot):\n",
      "    if idx < 32:\n",
      "        barlist[count].set_color('r')"
     ],
     "language": "python",
     "metadata": {},
     "outputs": [],
     "prompt_number": ""
    },
    {
     "cell_type": "code",
     "collapsed": false,
     "input": [
      "plt.rcParams['figure.figsize'] = (15.0, 12.0)\n",
      "plt.clf()\n",
      "\n",
      "count = 0\n",
      "for multiplier in [1, 2, 3, 4, 7, 8, 9]:\n",
      "    for offset_angle in range(0, 360, 45):\n",
      "        row = -multiplier * np.sin(np.deg2rad(offset_angle))\n",
      "        col = multiplier * np.cos(np.deg2rad(offset_angle))\n",
      "        scale = importances[count] * 15000\n",
      "        if multiplier < 5: # cobweb features\n",
      "            plt.scatter(col, row, s=scale, c='b', marker='o')\n",
      "        elif multiplier > 5: # spider features\n",
      "            plt.scatter(col, row, s=scale, c='r', marker='o')\n",
      "        plt.hold(True)\n",
      "        #        print \n",
      "        count +=1 \n",
      "plt.axis('equal')\n",
      "plt.show()"
     ],
     "language": "python",
     "metadata": {},
     "outputs": [],
     "prompt_number": ""
    },
    {
     "cell_type": "code",
     "collapsed": false,
     "input": [
      "def predict_per_tree(random_forest, X):\n",
      "    return np.array([tree.predict(X) for tree in random_forest.estimators_])\n",
      "\n",
      "# load in some test data...\n",
      "# ultimately would like to be able to run on the test data in a script and recreate the outputs...\n",
      "predict_per_tree(rf, 1)\n",
      "\n"
     ],
     "language": "python",
     "metadata": {},
     "outputs": [],
     "prompt_number": ""
    }
   ],
   "metadata": {}
  }
 ]
}