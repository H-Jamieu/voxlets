{
 "metadata": {
  "name": ""
 },
 "nbformat": 3,
 "nbformat_minor": 0,
 "worksheets": [
  {
   "cells": [
    {
     "cell_type": "code",
     "collapsed": false,
     "input": [
      "'''\n",
      "the aim is to do shoebox extraction, clustering, assignment and feature extracted and forest training\n",
      "All in one notebook file\n",
      "for one object\n",
      "'''\n",
      "%matplotlib inline\n",
      "%load_ext autoreload\n",
      "%autoreload 2\n",
      "\n",
      "import numpy as np\n",
      "import matplotlib.pyplot as plt \n",
      "import cPickle as pickle\n",
      "import sys\n",
      "sys.path.append('/Users/Michael/projects/shape_sharing/src/')\n",
      "sys.path.append('../bigbird_images3/')\n",
      "\n",
      "from common import paths\n",
      "from common import voxel_data\n",
      "from common import mesh\n",
      "from common import images\n",
      "from common import features\n",
      "from thickness_regress import combine_data\n",
      "import reconstructer"
     ],
     "language": "python",
     "metadata": {},
     "outputs": [],
     "prompt_number": ""
    },
    {
     "cell_type": "code",
     "collapsed": false,
     "input": [
      "# loading clusters and forest\n",
      "forest = pickle.load(open(paths.voxlet_model_path, 'rb'))\n",
      "forest_pca = pickle.load(open(paths.voxlet_model_pca_path, 'rb'))"
     ],
     "language": "python",
     "metadata": {},
     "outputs": [],
     "prompt_number": ""
    },
    {
     "cell_type": "code",
     "collapsed": false,
     "input": [
      "km = pickle.load(open(paths.voxlet_dict_path, 'rb'))\n",
      "km_pca = pickle.load(open(paths.voxlet_pca_dict_path, 'rb'))"
     ],
     "language": "python",
     "metadata": {},
     "outputs": [],
     "prompt_number": ""
    },
    {
     "cell_type": "code",
     "collapsed": false,
     "input": [
      "# now will use this prediction to reconstruct one of the original objects from an image\n",
      "test_view = paths.views[10]\n",
      "modelname = paths.test_names[1]"
     ],
     "language": "python",
     "metadata": {},
     "outputs": [],
     "prompt_number": ""
    },
    {
     "cell_type": "code",
     "collapsed": false,
     "input": [
      "# loading ground truth voxel grid\n",
      "vgrid = voxel_data.BigBirdVoxels()\n",
      "vgrid.load_bigbird(modelname)"
     ],
     "language": "python",
     "metadata": {},
     "outputs": []
    },
    {
     "cell_type": "code",
     "collapsed": false,
     "input": [
      "test_im = images.CroppedRGBD()\n",
      "test_im.load_bigbird_from_mat(modelname, test_view)"
     ],
     "language": "python",
     "metadata": {},
     "outputs": [],
     "prompt_number": ""
    },
    {
     "cell_type": "code",
     "collapsed": false,
     "input": [
      "rec = reconstructer.Reconstructer()\n",
      "rec.set_forest(forest)\n",
      "rec.set_km_dict(km)\n",
      "rec.set_test_im(test_im)\n",
      "rec.sample_points(2000)\n",
      "accum1 = rec.fill_in_output_grid(vgrid, max_points=20)"
     ],
     "language": "python",
     "metadata": {},
     "outputs": [],
     "prompt_number": ""
    },
    {
     "cell_type": "code",
     "collapsed": false,
     "input": [
      "axis_to_use = 2\n",
      "slice_idx = 50\n",
      "plt.subplot(121)\n",
      "plt.imshow(np.flipud(np.mean(accum1.compute_average(), axis=axis_to_use).T))\n",
      "plt.colorbar()\n",
      "plt.subplot(122)\n",
      "plt.imshow(np.flipud(np.mean(vgrid.V, axis=axis_to_use).T))\n",
      "plt.colorbar()"
     ],
     "language": "python",
     "metadata": {},
     "outputs": [],
     "prompt_number": ""
    },
    {
     "cell_type": "code",
     "collapsed": false,
     "input": [
      "from scipy.spatial.distance import pdist, squareform\n",
      "D = squareform(pdist(km.cluster_centers_))\n",
      "\n",
      "def voxlet_medioid(indices):\n",
      "    '''\n",
      "    D is a NxN distance matrix between all pairs of voxlets\n",
      "    indices is a 1 x K vector of voxlet indices\n",
      "    returns the voxlet idx which is the medioid of everythin in indices\n",
      "    '''\n",
      "    sums = [D[:, int(ind)] for ind in indices]\n",
      "    sums = np.sum(np.array(sums), axis=0)\n",
      "    return np.argmin(sums)\n",
      "\n",
      "print np.max(entropy)\n",
      "print order_to_fill[:10]\n",
      "print entropy[:10]"
     ],
     "language": "python",
     "metadata": {},
     "outputs": [],
     "prompt_number": ""
    }
   ],
   "metadata": {}
  }
 ]
}