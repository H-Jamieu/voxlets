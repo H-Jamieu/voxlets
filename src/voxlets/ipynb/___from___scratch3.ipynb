{
 "metadata": {
  "name": ""
 },
 "nbformat": 3,
 "nbformat_minor": 0,
 "worksheets": [
  {
   "cells": [
    {
     "cell_type": "code",
     "collapsed": false,
     "input": [
      "'''\n",
      "the aim is to do shoebox extraction, clustering, assignment and feature extracted and forest training\n",
      "All in one notebook file\n",
      "for one object\n",
      "'''\n",
      "%matplotlib inline\n",
      "%load_ext autoreload\n",
      "%autoreload 2\n",
      "\n",
      "import numpy as np\n",
      "import matplotlib.pyplot as plt \n",
      "import cPickle as pickle\n",
      "import sys\n",
      "sys.path.append('/Users/Michael/projects/shape_sharing/src/')\n",
      "sys.path.append('../bigbird_images3/')\n",
      "\n",
      "from common import paths\n",
      "from common import voxel_data\n",
      "from common import mesh\n",
      "from common import images\n",
      "from common import features\n",
      "from thickness_regress import combine_data\n",
      "import reconstructer"
     ],
     "language": "python",
     "metadata": {},
     "outputs": [],
     "prompt_number": ""
    },
    {
     "cell_type": "code",
     "collapsed": false,
     "input": [
      "# loading clusters and forest\n",
      "forest = pickle.load(open(paths.voxlet_model_path, 'rb'))\n",
      "forest_pca = pickle.load(open(paths.voxlet_model_pca_path, 'rb'))"
     ],
     "language": "python",
     "metadata": {},
     "outputs": [],
     "prompt_number": ""
    },
    {
     "cell_type": "code",
     "collapsed": false,
     "input": [
      "km = pickle.load(open(paths.voxlet_dict_path, 'rb'))\n",
      "km_pca = pickle.load(open(paths.voxlet_pca_dict_path, 'rb'))\n",
      "pca = pickle.load(open(paths.voxlet_pca_path, 'rb'))\n",
      "print paths.voxlet_pca_dict_path\n",
      "print paths.voxlet_pca_path"
     ],
     "language": "python",
     "metadata": {},
     "outputs": [],
     "prompt_number": ""
    },
    {
     "cell_type": "code",
     "collapsed": false,
     "input": [
      "# now will use this prediction to reconstruct one of the original objects from an image\n",
      "test_view = paths.views[10]\n",
      "modelname = paths.train_names[1]"
     ],
     "language": "python",
     "metadata": {},
     "outputs": [],
     "prompt_number": ""
    },
    {
     "cell_type": "code",
     "collapsed": false,
     "input": [
      "# loading ground truth voxel grid\n",
      "vgrid = voxel_data.BigBirdVoxels()\n",
      "vgrid.load_bigbird(modelname)"
     ],
     "language": "python",
     "metadata": {},
     "outputs": [],
     "prompt_number": ""
    },
    {
     "cell_type": "code",
     "collapsed": false,
     "input": [
      "test_im = images.CroppedRGBD()\n",
      "test_im.load_bigbird_from_mat(modelname, test_view)\n",
      "\n",
      "# occlude the image now somewhat\n",
      "print test_im.frontrender.shape\n",
      "start_col = 100\n",
      "test_im.frontrender[:, start_col:] = np.nan\n",
      "test_im.mask[:, start_col:] = 0\n",
      "test_im.depth[:, start_col:] = np.min(test_im.depth) - 0.2\n",
      "test_im.disp_channels()"
     ],
     "language": "python",
     "metadata": {},
     "outputs": [],
     "prompt_number": ""
    },
    {
     "cell_type": "code",
     "collapsed": false,
     "input": [
      "# just get the points we care about\n",
      "world_xyz = test_im.get_world_xyz()[test_im.mask.flatten()==1, :]\n",
      "print world_xyz.shape\n",
      "print test_im.get_world_xyz().shape\n",
      "\n",
      "# setting grid size (take the percentile to avoid flying pixels etc)\n",
      "grid_origin = np.percentile(world_xyz, 5, axis=0) - 0.05\n",
      "grid_end = np.percentile(world_xyz, 95, axis=0) + 0.05\n",
      "\n",
      "# we know the voxel size so can work out how many to use\n",
      "grid_dims_in_real_world = grid_end - grid_origin\n",
      "V_shape = (grid_dims_in_real_world / (paths.voxlet_size)).astype(int)\n",
      "\n",
      "my_accum = voxel_data.UprightAccumulator(V_shape)\n",
      "my_accum.set_origin(grid_origin)\n",
      "my_accum.set_voxel_size(paths.voxlet_size)"
     ],
     "language": "python",
     "metadata": {},
     "outputs": [],
     "prompt_number": ""
    },
    {
     "cell_type": "code",
     "collapsed": false,
     "input": [
      "plt.plot(my_accum.world_meshgrid()[:, 0], my_accum.world_meshgrid()[:, 1], '.g')\n",
      "plt.hold(True)\n",
      "plt.plot(world_xyz[:, 0], world_xyz[:, 1], 'or')\n",
      "plt.plot(vgrid.world_meshgrid()[:, 0], vgrid.world_meshgrid()[:, 1], '.')\n",
      "plt.hold(False)\n",
      "plt.axis('equal')"
     ],
     "language": "python",
     "metadata": {},
     "outputs": [],
     "prompt_number": ""
    },
    {
     "cell_type": "code",
     "collapsed": false,
     "input": [
      "rec = reconstructer.Reconstructer(reconstruction_type='kmeans_on_pca', combine_type='medioid')\n",
      "rec.set_forest(forest_pca)\n",
      "rec.set_pca_comp(pca)\n",
      "rec.set_km_dict(km_pca)\n",
      "#rec.set_km_dict(km)\n",
      "rec.set_test_im(test_im)\n",
      "rec.sample_points(2000)\n",
      "rec.initialise_output_grid(method='from_grid', gt_grid=vgrid)\n",
      "accum1 = rec.fill_in_output_grid(max_points=150, reconstruction_type='kmeans_on_pca')"
     ],
     "language": "python",
     "metadata": {},
     "outputs": [],
     "prompt_number": ""
    },
    {
     "cell_type": "code",
     "collapsed": false,
     "input": [
      "# transform the ground truth into the prediction grid\n",
      "import copy\n",
      "ground_truth = copy.deepcopy(accum1)\n",
      "ground_truth.fill_from_grid(vgrid)"
     ],
     "language": "python",
     "metadata": {},
     "outputs": [],
     "prompt_number": ""
    },
    {
     "cell_type": "code",
     "collapsed": false,
     "input": [
      "axis_to_use = 1\n",
      "slice_idx = 50\n",
      "plt.subplot(121)\n",
      "plt.imshow(np.flipud(np.mean(accum1.compute_average(nan_value=0.03), axis=axis_to_use).T))\n",
      "plt.colorbar()\n",
      "plt.subplot(122)\n",
      "plt.imshow(np.flipud(np.mean(ground_truth.V, axis=axis_to_use).T))\n",
      "plt.colorbar()"
     ],
     "language": "python",
     "metadata": {},
     "outputs": [],
     "prompt_number": ""
    },
    {
     "cell_type": "code",
     "collapsed": false,
     "input": [
      "def plot_slice(V):\n",
      "    A = np.flipud(V[15, :, :].T)\n",
      "    B = np.flipud(V[:, 15, :].T)\n",
      "    C = np.flipud(V[:, :, 30])\n",
      "    bottom = np.concatenate((A, B), axis=1)\n",
      "    tt = np.zeros((C.shape[0], B.shape[1])) * np.nan\n",
      "    top = np.concatenate((C, tt), axis=1)\n",
      "    plt.imshow( np.concatenate((top, bottom), axis=0))\n",
      "\n",
      "result1 = accum1.compute_average(nan_value=0.03)\n",
      "result2 = accum1.compute_average(nan_value=0.03)\n",
      "\n",
      "\n",
      "plt.rcParams['figure.figsize'] = (15.0, 20.0)\n",
      "gt_out = copy.deepcopy(accum1)\n",
      "gt_out.V *= 0\n",
      "gt_out.fill_from_grid(vgrid)\n",
      "gt = gt_out.compute_tsdf(0.03)\n",
      "\n",
      "plt.subplot(131)\n",
      "plot_slice(result1)\n",
      "plt.title('Medioid')\n",
      "plt.subplot(132)\n",
      "plot_slice(result2)\n",
      "plt.title('Modal')\n",
      "plt.subplot(133)\n",
      "plot_slice(gt)\n",
      "plt.title('Ground truth')\n",
      "\n"
     ],
     "language": "python",
     "metadata": {},
     "outputs": [],
     "prompt_number": ""
    },
    {
     "cell_type": "code",
     "collapsed": false,
     "input": [
      "# Axis 0\n",
      "plt.subplot(2, 6, 7)\n",
      "plot_slice(gt, 0)\n",
      "plt.subplot(2, 6, 9)\n",
      "plot_slice(result1, 0)\n",
      "plt.subplot(2, 6, 11)\n",
      "plot_slice(result2, 0)\n",
      "\n",
      "# Axis 1\n",
      "plt.subplot(2, 6, 8)\n",
      "plot_slice(gt, 1)\n",
      "plt.subplot(2, 6, 10)\n",
      "plot_slice(result1, 1)\n",
      "plt.subplot(2, 6, 12)\n",
      "plot_slice(result2, 1)\n",
      "\n",
      "# Axis 2\n",
      "\n",
      "plt.subplot(2, 6, 1)\n",
      "plot_slice(gt, 2)\n",
      "plt.title('Ground truth')\n",
      "plt.subplot(2, 6, 3)\n",
      "plot_slice(result1, 2)\n",
      "plt.title('Medioid')\n",
      "plt.subplot(2, 6, 5)\n",
      "plot_slice(result2, 2)\n",
      "plt.title('Modal')"
     ],
     "language": "python",
     "metadata": {},
     "outputs": [],
     "prompt_number": ""
    },
    {
     "cell_type": "code",
     "collapsed": false,
     "input": [
      "# loading ground truth voxel grid\n",
      "vgrid = voxel_data.BigBirdVoxels()\n",
      "vgrid.load_bigbird(paths.modelnames[13])"
     ],
     "language": "python",
     "metadata": {},
     "outputs": []
    },
    {
     "cell_type": "code",
     "collapsed": false,
     "input": [
      "plt.rcParams['figure.figsize'] = (20.0, 12.0)\n",
      "# baseline - minimum  bounding box, suing the gt\n",
      "from baselines import *\n",
      "bb = SimpleBbBaseline()\n",
      "#bb = BbBaseline()\n",
      "bb.set_gt_vgrid(vgrid)\n",
      "bb.set_image(test_im)\n",
      "out_grid = bb.compute_min_bb()\n",
      "\n",
      "#plt.imshow(np.any(tV.V, axis=2))\n",
      "plt.subplot(131)\n",
      "plt.imshow(np.any(out_grid.V, axis=2))\n",
      "plt.subplot(132)\n",
      "plt.imshow(np.any(vgrid.V, axis=2))\n",
      "plt.subplot(133)\n",
      "plt.imshow(np.any(vgrid.V, axis=0))\n",
      "plt.clf()\n",
      "plt.plot(bb.all_idx[:, 0], bb.all_idx[:, 1], 'o')\n",
      "plt.axis('equal')\n",
      "#plt.imshow(bb.single_layer)"
     ],
     "language": "python",
     "metadata": {},
     "outputs": [],
     "prompt_number": ""
    },
    {
     "cell_type": "code",
     "collapsed": false,
     "input": [
      "# check world idxs\n",
      "plt.rcParams['figure.figsize'] = (8.0, 8.0)\n",
      "for count, v in enumerate(paths.views):\n",
      "    this_im = images.CroppedRGBD()\n",
      "    this_im.load_bigbird_from_mat(modelname, v)\n",
      "    plt.subplot(4, 4, count)\n",
      "    plt.imshow(this_im.rgb)\n",
      "    if count > 16: break"
     ],
     "language": "python",
     "metadata": {},
     "outputs": []
    }
   ],
   "metadata": {}
  }
 ]
}