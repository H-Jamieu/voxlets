{
 "metadata": {
  "name": ""
 },
 "nbformat": 3,
 "nbformat_minor": 0,
 "worksheets": [
  {
   "cells": [
    {
     "cell_type": "code",
     "collapsed": false,
     "input": [
      "# here want to find the medioid of data\n",
      "import numpy as np\n",
      "from scipy.spatial.distance import pdist, squareform\n",
      "\n",
      "def medioid(X):\n",
      "    '''\n",
      "    finds the medioid of data in X, where rows are observations\n",
      "    '''\n",
      "    D = squareform(pdist(X))\n",
      "    #print D\n",
      "    sums = np.sum(D, axis=0)\n",
      "    smallest = np.nonzero(sums==np.min(sums))\n",
      "    return X[smallest]\n",
      "    \n",
      "    "
     ],
     "language": "python",
     "metadata": {},
     "outputs": [],
     "prompt_number": ""
    },
    {
     "cell_type": "code",
     "collapsed": false,
     "input": [
      "%matplotlib inline\n",
      "import matplotlib.pyplot as plt \n",
      "\n",
      "datas = np.random.randn(10000, 2)\n",
      "plt.plot(datas[:, 0], datas[:, 1], '.')\n",
      "XX = medioid(datas)\n",
      "print XX\n",
      "plt.hold(True)\n",
      "plt.plot(XX[0][0], XX[0][1], 'og')\n",
      "plt.hold(False)"
     ],
     "language": "python",
     "metadata": {},
     "outputs": [],
     "prompt_number": ""
    }
   ],
   "metadata": {}
  }
 ]
}