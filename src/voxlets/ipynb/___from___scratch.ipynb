{
 "metadata": {
  "name": ""
 },
 "nbformat": 3,
 "nbformat_minor": 0,
 "worksheets": [
  {
   "cells": [
    {
     "cell_type": "code",
     "collapsed": false,
     "input": [
      "'''\n",
      "the aim is to do shoebox extraction, clustering, assignment and feature extracted and forest training\n",
      "All in one notebook file\n",
      "for one object\n",
      "'''\n",
      "%matplotlib inline\n",
      "%load_ext autoreload\n",
      "%autoreload 2\n",
      "\n",
      "import numpy as np\n",
      "import matplotlib.pyplot as plt \n",
      "import cPickle as pickle\n",
      "import sys\n",
      "sys.path.append('/Users/Michael/projects/shape_sharing/src/')\n",
      "\n",
      "from common import paths\n",
      "from common import voxel_data\n",
      "from common import mesh\n",
      "from common import images\n",
      "from common import features\n",
      "from thickness_regress import combine_data"
     ],
     "language": "python",
     "metadata": {},
     "outputs": [],
     "prompt_number": ""
    },
    {
     "cell_type": "code",
     "collapsed": false,
     "input": [
      "def random_sample_from_mask(mask, num_samples):\n",
      "    '''sample random points from a mask'''\n",
      "    \n",
      "    indices = np.array(np.nonzero(mask)).T\n",
      "    samples = np.random.randint(0, indices.shape[0], num_samples)\n",
      "    return indices[samples, :]"
     ],
     "language": "python",
     "metadata": {},
     "outputs": [],
     "prompt_number": ""
    },
    {
     "cell_type": "code",
     "collapsed": false,
     "input": [
      "one_side_bins = 10\n",
      "voxlet_shape = (one_side_bins, 2*one_side_bins, one_side_bins)\n",
      "voxlet_size = 0.2/float(one_side_bins)\n",
      "voxlet_centre = np.array((0.1, 0.05, 0.1))"
     ],
     "language": "python",
     "metadata": {},
     "outputs": [],
     "prompt_number": ""
    },
    {
     "cell_type": "code",
     "collapsed": false,
     "input": [
      "number_points_from_each_image = 100\n",
      "shoeboxes = []\n",
      "all_features = []\n",
      "\n",
      "modelname = paths.modelnames[10]\n",
      "\n",
      "vgrid = voxel_data.BigBirdVoxels()\n",
      "vgrid.load_bigbird(modelname)\n",
      "\n",
      "for view in paths.views:\n",
      "    print \"Loading \" + view\n",
      "    im = images.CroppedRGBD()\n",
      "    im.load_bigbird_from_mat(modelname, view)\n",
      "\n",
      "    \"Sampling from image\"\n",
      "    mask = ~np.isnan(im.frontrender)\n",
      "    idxs = random_sample_from_mask(mask, number_points_from_each_image)\n",
      "    \n",
      "    \"Extracting features\"\n",
      "    all_features.append(im.get_features(idxs))\n",
      "    \n",
      "    \"Extracting shoeboxes\"\n",
      "    world_xyz = im.get_world_xyz()\n",
      "    world_norms = im.get_world_normals()\n",
      "    \n",
      "    for index in idxs:\n",
      "        # convert to linear idx\n",
      "        point_idx = index[0] * im.mask.shape[1] + index[1]\n",
      "            \n",
      "        shoebox = voxel_data.ShoeBox(voxlet_shape) # grid size\n",
      "        shoebox.set_p_from_grid_origin(np.array(voxlet_centre)) #m\n",
      "        shoebox.set_voxel_size(voxlet_size) #m\n",
      "        shoebox.initialise_from_point_and_normal(world_xyz[point_idx], \n",
      "                                                 world_norms[point_idx], \n",
      "                                                 np.array([0, 0, 1]))\n",
      "        \n",
      "        # convert the indices to world xyz space\n",
      "        shoebox_xyz_in_world = shoebox.world_meshgrid()\n",
      "        shoebox_xyx_in_world_idx, valid = vgrid.world_to_idx(shoebox_xyz_in_world, True)\n",
      "        \n",
      "        sbox_idxs = shoebox_xyx_in_world_idx[valid, :]\n",
      "        occupied_values = vgrid.extract_from_indices(sbox_idxs)\n",
      "        shoebox.set_indicated_voxels(valid, occupied_values)\n",
      "\n",
      "        shoebox._clear_cache()\n",
      "        \n",
      "        shoeboxes.append(shoebox)\n"
     ],
     "language": "python",
     "metadata": {},
     "outputs": [],
     "prompt_number": ""
    },
    {
     "cell_type": "code",
     "collapsed": false,
     "input": [
      "# plot some of the shoeboxes here\n",
      "plt.rcParams['figure.figsize'] = (10.0, 8.0)\n",
      "slice_idx = voxlet_shape[0] / 2\n",
      "for idx, sbox in enumerate(shoeboxes[:8*8]):\n",
      "    plt.subplot(8, 8, idx+1)\n",
      "    plt.imshow(sbox.V[:, :, slice_idx])"
     ],
     "language": "python",
     "metadata": {},
     "outputs": [],
     "prompt_number": ""
    },
    {
     "cell_type": "code",
     "collapsed": false,
     "input": [
      "# clustering the sboxes - but only a subsample of them for speed!\n",
      "col = voxel_data.VoxelGridCollection()\n",
      "col.set_voxel_list(shoeboxes)\n",
      "km = col.cluster_voxlets(num_clusters=50, subsample_length=10000)"
     ],
     "language": "python",
     "metadata": {},
     "outputs": [],
     "prompt_number": ""
    },
    {
     "cell_type": "code",
     "collapsed": false,
     "input": [
      "# plotting cluster centers\n",
      "for idx in range(50):\n",
      "    plt.subplot(10, 5, idx+1)\n",
      "    plt.imshow(np.mean(km.cluster_centers_[idx].reshape(voxlet_shape), axis=2))"
     ],
     "language": "python",
     "metadata": {},
     "outputs": [],
     "prompt_number": ""
    },
    {
     "cell_type": "code",
     "collapsed": false,
     "input": [
      "# assigning all the shoeboxes to the clusters\n",
      "all_sboxes = np.array([sbox.V.flatten() for sbox in shoeboxes]).astype(np.float16)\n",
      "idx_assign = km.predict(all_sboxes)\n",
      "plt.hist(idx_assign, bins=km.n_clusters)\n",
      "plt.show()"
     ],
     "language": "python",
     "metadata": {},
     "outputs": [],
     "prompt_number": ""
    },
    {
     "cell_type": "code",
     "collapsed": false,
     "input": [
      "# now do some machine learning on the features and shoeboxes...\n",
      "features_dim = 56\n",
      "features_array = np.array(all_features).reshape((-1, features_dim))\n",
      "print features_array.shape"
     ],
     "language": "python",
     "metadata": {},
     "outputs": [],
     "prompt_number": ""
    },
    {
     "cell_type": "code",
     "collapsed": false,
     "input": [
      "from sklearn.ensemble import RandomForestClassifier\n",
      "forest = RandomForestClassifier(n_estimators=50, criterion=\"entropy\", oob_score=True, max_depth=10)\n",
      "forest.fit(features_array, idx_assign)"
     ],
     "language": "python",
     "metadata": {},
     "outputs": [],
     "prompt_number": ""
    },
    {
     "cell_type": "code",
     "collapsed": false,
     "input": [
      "n = forest.feature_importances_.shape[0]\n",
      "plt.bar(range(n), forest.feature_importances_)\n",
      "forest.oob_score_"
     ],
     "language": "python",
     "metadata": {},
     "outputs": [],
     "prompt_number": ""
    },
    {
     "cell_type": "code",
     "collapsed": false,
     "input": [
      "# now will use this prediction to reconstruct one of the original objects from an image\n",
      "test_view = paths.views[20]\n",
      "test_im = images.CroppedRGBD()\n",
      "test_im.load_bigbird_from_mat(modelname, test_view)\n",
      "\n",
      "\"Sampling from image\"\n",
      "test_mask = ~np.isnan(test_im.frontrender)\n",
      "idxs = random_sample_from_mask(test_mask, 2000)\n",
      "\n",
      "\"Extracting features\"\n",
      "combined_features = test_im.get_features(idxs)\n",
      "\n",
      "\"Classifying the features\"\n",
      "pred_classes = forest.predict(combined_features)\n",
      "plt.hist(pred_classes, 50)"
     ],
     "language": "python",
     "metadata": {},
     "outputs": [],
     "prompt_number": ""
    },
    {
     "cell_type": "code",
     "collapsed": false,
     "input": [
      "\"Classifying with confidence\"\n",
      "from scipy.stats import mode\n",
      "tree_predictions = np.array([tree.predict(combined_features) for tree in forest.estimators_]).T\n",
      "print tree_confidences.shape\n",
      "modal_classes = mode(tree_predictions, axis=1)[0]\n",
      "#print np.array(modal_classes).shape\n",
      "agree_with_modal = modal_classes == tree_predictions\n",
      "confidences = np.sum(agree_with_modal, axis=1).astype(float) / float(len(forest.estimators_))\n",
      "\n",
      "#plt.plot(np.var(tree_confidences, axis=1))\n",
      "plt.hist(confidences.flatten())\n",
      "\n",
      "conf_sort_idx = np.sort(confidences)\n",
      "print confidences.argsort()\n",
      "print confidences[943]"
     ],
     "language": "python",
     "metadata": {},
     "outputs": [],
     "prompt_number": ""
    },
    {
     "cell_type": "code",
     "collapsed": false,
     "input": [
      "# now want to reconstruct the image\n",
      "world_xyz = test_im.get_world_xyz()\n",
      "world_norms = test_im.get_world_normals()\n",
      "\n",
      "# here set up the grid to fill\n",
      "accum = voxel_data.UprightAccumulator(vgrid.V.shape)\n",
      "accum.set_voxel_size(vgrid.vox_size)\n",
      "accum.set_origin(vgrid.origin, vgrid.R)\n",
      "\n",
      "# set up order to approach the problem in \n",
      "order_to_fill = confidences.argsort()[::-1]\n",
      "print idxs.shape\n",
      "print modal_classes.shape\n",
      "print pred_classes.shape\n",
      "\n",
      "# loop over all the predictions\n",
      "count = 0\n",
      "for idx_idx in order_to_fill:\n",
      "    \n",
      "    index = idxs[idx_idx]\n",
      "    \n",
      "    # convert to linear idx\n",
      "    point_idx = index[0] * test_im.mask.shape[1] + index[1]\n",
      "    \n",
      "    # look up the cluster center\n",
      "    print idx_idx\n",
      "    print modal_classes[idx_idx]\n",
      "    cluster_center = km.cluster_centers_[int(pred_classes[idx_idx])]\n",
      "        \n",
      "    shoebox = voxel_data.ShoeBox(voxlet_shape) # grid size\n",
      "    shoebox.set_p_from_grid_origin(voxlet_centre) #m\n",
      "    shoebox.set_voxel_size(voxlet_size) #m\n",
      "    shoebox.initialise_from_point_and_normal(world_xyz[point_idx], \n",
      "                                             world_norms[point_idx], \n",
      "                                             np.array([0, 0, 1]))\n",
      "    \n",
      "    # filling in the shoebox from the cluster center\n",
      "    shoebox.V = cluster_center.reshape(voxlet_shape)\n",
      "    print np.sum(    shoebox.V)\n",
      "    print accum.world_to_idx(world_xyz[point_idx, np.newaxis])\n",
      "\n",
      "    #sums_grid.fill_from_grid(shoebox, combine='sum')\n",
      "    accum.add_voxlet(shoebox)\n",
      "    print np.sum(accum.sumV)\n",
      "    \n",
      "    print \"Done \" + str(count) + \" of \" + str(idxs.shape[0])\n",
      "    count += 1\n",
      "    if count > 10:\n",
      "        break"
     ],
     "language": "python",
     "metadata": {},
     "outputs": [],
     "prompt_number": ""
    },
    {
     "cell_type": "code",
     "collapsed": false,
     "input": [
      "%lprun -f accum.fill_from_grid accum.add_voxlet(shoebox)"
     ],
     "language": "python",
     "metadata": {},
     "outputs": [],
     "prompt_number": ""
    },
    {
     "cell_type": "code",
     "collapsed": false,
     "input": [
      "axis_to_use = 2\n",
      "plt.subplot(121)\n",
      "plt.imshow(np.mean(accum.compute_average(), axis=axis_to_use))\n",
      "plt.colorbar()\n",
      "plt.subplot(122)\n",
      "plt.imshow(np.mean(vgrid.V, axis=axis_to_use))\n",
      "plt.colorbar()\n",
      "#print accum.sumV"
     ],
     "language": "python",
     "metadata": {},
     "outputs": [],
     "prompt_number": ""
    },
    {
     "cell_type": "code",
     "collapsed": false,
     "input": [
      "# here is for accumulating all these separate predictions\n",
      "final_sum = copy.deepcopy(all_outputs[0])\n",
      "final_sum.V *= 0\n",
      "for idx, grid in enumerate(all_outputs):\n",
      "    final_sum.V += grid.V\n"
     ],
     "language": "python",
     "metadata": {},
     "outputs": [],
     "prompt_number": ""
    },
    {
     "cell_type": "code",
     "collapsed": false,
     "input": [
      "slice_idx = 100\n",
      "\n",
      "plt.subplot(221)\n",
      "plt.imshow(count_grid.V[:, :, slice_idx])\n",
      "plt.colorbar()\n",
      "plt.subplot(222)\n",
      "plt.imshow(sums_grid.V[:, :, slice_idx])\n",
      "plt.colorbar()\n",
      "plt.subplot(224)\n",
      "plt.imshow(vgrid.V[:, :, slice_idx])\n",
      "plt.colorbar()"
     ],
     "language": "python",
     "metadata": {},
     "outputs": [],
     "prompt_number": ""
    },
    {
     "cell_type": "code",
     "collapsed": false,
     "input": [
      "print sums_grid.V.dtype\n",
      "print temp_shoebox.V.dtype"
     ],
     "language": "python",
     "metadata": {},
     "outputs": [],
     "prompt_number": ""
    }
   ],
   "metadata": {}
  }
 ]
}