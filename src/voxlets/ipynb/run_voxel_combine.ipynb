{
 "metadata": {
  "name": ""
 },
 "nbformat": 3,
 "nbformat_minor": 0,
 "worksheets": [
  {
   "cells": [
    {
     "cell_type": "code",
     "collapsed": false,
     "input": [
      "'''\n",
      "notebook to run the voxel combine class to make preditions\n",
      "'''\n",
      "%matplotlib inline\n",
      "%load_ext autoreload\n",
      "%autoreload 2\n",
      "\n",
      "import numpy as np\n",
      "import matplotlib.pyplot as plt \n",
      "import cPickle as pickle\n",
      "import sys\n",
      "sys.path.append('/Users/Michael/projects/shape_sharing/src/')\n",
      "\n",
      "from common import paths\n",
      "from common import voxel_data\n",
      "from common import mesh\n",
      "from common import images"
     ],
     "language": "python",
     "metadata": {},
     "outputs": [],
     "prompt_number": ""
    },
    {
     "cell_type": "code",
     "collapsed": false,
     "input": [
      "shoebox_kmeans_path = paths.base_path + \"voxlets/dict/clusters_from_images.pkl\"\n",
      "km = pickle.load(open(shoebox_kmeans_path, 'rb'))\n",
      "print km.cluster_centers_.shape"
     ],
     "language": "python",
     "metadata": {},
     "outputs": [],
     "prompt_number": ""
    },
    {
     "cell_type": "code",
     "collapsed": false,
     "input": [
      "model_path = paths.base_path + \"voxlets/models/rf.pkl\"\n",
      "model = pickle.load(open(model_path, 'rb'))"
     ],
     "language": "python",
     "metadata": {},
     "outputs": [],
     "prompt_number": ""
    },
    {
     "cell_type": "code",
     "collapsed": false,
     "input": [
      "# now loading in the prediction class\n",
      "sys.path.append('/Users/Michael/projects/shape_sharing/src/voxlets/')\n",
      "\n",
      "modelname = paths.modelnames[0]\n",
      "view_idx = paths.views[40]\n",
      "\n",
      "im = images.CroppedRGBD()\n",
      "im.load_bigbird_from_mat(modelname, view_idx)\n",
      "\n",
      "cam = mesh.Camera()\n",
      "cam.load_bigbird_matrices(modelname, view_idx)\n",
      "cam.adjust_intrinsic_scale(0.5) # as the image is half-sized\n",
      "im.set_camera(cam)\n",
      "\n",
      "vgrid = voxel_data.BigBirdVoxels()\n",
      "vgrid.load_bigbird(modelname)"
     ],
     "language": "python",
     "metadata": {},
     "outputs": [],
     "prompt_number": ""
    },
    {
     "cell_type": "code",
     "collapsed": false,
     "input": [
      "%load_ext autoreload\n",
      "%autoreload 2\n",
      "from voxel_combine import VoxelCombine\n",
      "vc = VoxelCombine()\n",
      "vc.set_image(im)\n",
      "vc.set_gt_grid(vgrid)\n",
      "vc.set_dictionary(km)\n",
      "vc.set_forest(model)\n",
      "vc.random_sample_from_mask(200)\n",
      "vc.initialise_output_grid()\n",
      "vc.predict_classes()\n",
      "final = vc.aggregate_predictions()"
     ],
     "language": "python",
     "metadata": {},
     "outputs": [],
     "prompt_number": ""
    },
    {
     "cell_type": "code",
     "collapsed": false,
     "input": [
      "slice_idx = 10\n",
      "plt.subplot(121)\n",
      "plt.imshow(final[:, :, slice_idx])\n",
      "plt.subplot(122)\n",
      "plt.imshow(vgrid.V[:, :, slice_idx])\n",
      "np.sum(final)"
     ],
     "language": "python",
     "metadata": {},
     "outputs": [],
     "prompt_number": ""
    },
    {
     "cell_type": "code",
     "collapsed": false,
     "input": [
      "plt.rcParams['figure.figsize'] = (10.0, 8.0)\n",
      "vc.predict_classes()\n",
      "plt.imshow(vc.combined_features, interpolation='nearest')"
     ],
     "language": "python",
     "metadata": {},
     "outputs": [],
     "prompt_number": ""
    },
    {
     "cell_type": "code",
     "collapsed": false,
     "input": [
      "plt.rcParams['figure.figsize'] = (10.0, 10.0)\n",
      "im = images.CroppedRGBD()\n",
      "im.load_bigbird_from_mat(modelname, view_idx)\n",
      "\n",
      "im.disp_spider_channels()"
     ],
     "language": "python",
     "metadata": {},
     "outputs": [],
     "prompt_number": ""
    },
    {
     "cell_type": "code",
     "collapsed": false,
     "input": [
      "plt.imshow(~np.isnan(im.frontrender))"
     ],
     "language": "python",
     "metadata": {},
     "outputs": [],
     "prompt_number": ""
    },
    {
     "cell_type": "code",
     "collapsed": false,
     "input": [
      "modelname = paths.modelnames[0]\n",
      "view = paths.views[0]\n",
      "loadpath = paths.base_path + \"voxlets/bigbird/%s/%s.pkl\" % (modelname, view)\n",
      "\n",
      "#D = scipy.io.loadmat(loadpath)\n",
      "D = pickle.load(open(loadpath, 'rb'))"
     ],
     "language": "python",
     "metadata": {},
     "outputs": [],
     "prompt_number": ""
    },
    {
     "cell_type": "code",
     "collapsed": false,
     "input": [
      "# loading in the shoeboxes (need some magic to sort out the matlab crap)\n",
      "each_view_sbox = np.array([sbox.V.flatten() for sbox in D['sboxes']])\n",
      "image_sboxes = np.array(each_view_sbox)"
     ],
     "language": "python",
     "metadata": {},
     "outputs": []
    },
    {
     "cell_type": "code",
     "collapsed": false,
     "input": [
      "all_training_sbox_path = paths.base_path + \"voxlets/dict/training_sboxes_from_images.npy\"\n",
      "all_sboxes = np.load(all_training_sbox_path)\n"
     ],
     "language": "python",
     "metadata": {},
     "outputs": [],
     "prompt_number": ""
    }
   ],
   "metadata": {}
  }
 ]
}