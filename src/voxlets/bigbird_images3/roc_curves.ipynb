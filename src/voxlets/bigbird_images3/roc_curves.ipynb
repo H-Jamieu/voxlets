{
 "metadata": {
  "name": ""
 },
 "nbformat": 3,
 "nbformat_minor": 0,
 "worksheets": [
  {
   "cells": [
    {
     "cell_type": "code",
     "collapsed": false,
     "input": [
      "import numpy as np\n",
      "import scipy.io\n",
      "import sys\n",
      "sys.path.append('/Users/Michael/projects/shape_sharing/src/common')\n",
      "import paths\n",
      "\n",
      "%matplotlib inline\n",
      "%load_ext autoreload\n",
      "%autoreload 2\n",
      "import matplotlib.pyplot as plt\n",
      "plt.rcParams['figure.figsize'] = (20.0, 10.0)"
     ],
     "language": "python",
     "metadata": {},
     "outputs": [],
     "prompt_number": ""
    },
    {
     "cell_type": "code",
     "collapsed": false,
     "input": [
      "D = scipy.io.loadmat('roc_curve_data.mat', squeeze_me=False)"
     ],
     "language": "python",
     "metadata": {},
     "outputs": [],
     "prompt_number": ""
    },
    {
     "cell_type": "code",
     "collapsed": false,
     "input": [
      "plt.clf()\n",
      "leg_entries = []\n",
      "for k in D.keys():\n",
      "    if k[0]!='_':\n",
      "        tpr = np.mean(D[k][0, 0][0], axis=0)\n",
      "        fpr = np.mean(D[k][0, 0][1], axis=0)\n",
      "#        print tpr\n",
      "#        print fpr\n",
      "        plt.plot(tpr, fpr)\n",
      "        plt.hold(True)\n",
      "        plt.plot(tpr[50], fpr[50], 'o')\n",
      "        leg_entries.append(k)\n",
      "\n",
      "        \n",
      "plt.xlim((0.0, 1))\n",
      "plt.ylim((0, 1))\n",
      "plt.gca().set_aspect('equal', adjustable='box')\n",
      "plt.draw()\n",
      "plt.legend(leg_entries)\n",
      "plt.xlabel('FPR')\n",
      "plt.ylabel('TPR')"
     ],
     "language": "python",
     "metadata": {},
     "outputs": [],
     "prompt_number": ""
    },
    {
     "cell_type": "code",
     "collapsed": false,
     "input": [
      "import paths\n",
      "import images\n",
      "t = images.CroppedRGBD()\n",
      "t.load_bigbird_from_mat('red_cup', 'NP4_0')\n",
      "t.disp_channels()"
     ],
     "language": "python",
     "metadata": {},
     "outputs": [],
     "prompt_number": ""
    },
    {
     "cell_type": "code",
     "collapsed": false,
     "input": [
      "a = np.array([1, 2, 3, 4, 5])\n",
      "a[2]"
     ],
     "language": "python",
     "metadata": {},
     "outputs": [],
     "prompt_number": ""
    }
   ],
   "metadata": {}
  }
 ]
}