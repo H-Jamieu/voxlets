{
 "metadata": {
  "name": ""
 },
 "nbformat": 3,
 "nbformat_minor": 0,
 "worksheets": [
  {
   "cells": [
    {
     "cell_type": "code",
     "collapsed": false,
     "input": [
      "import numpy as np\n",
      "import cPickle as pickle\n",
      "import sys\n",
      "sys.path.append('/Users/Michael/projects/shape_sharing/src/common')\n",
      "import paths\n",
      "\n",
      "%matplotlib inline\n",
      "%load_ext autoreload\n",
      "%autoreload 2\n",
      "import matplotlib.pyplot as plt\n",
      "plt.rcParams['figure.figsize'] = (20.0, 10.0)"
     ],
     "language": "python",
     "metadata": {},
     "outputs": [],
     "prompt_number": ""
    },
    {
     "cell_type": "code",
     "collapsed": false,
     "input": [
      "pca_comp = pickle.load(open('pca.pkl', 'rb'))"
     ],
     "language": "python",
     "metadata": {},
     "outputs": [],
     "prompt_number": ""
    },
    {
     "cell_type": "markdown",
     "metadata": {},
     "source": [
      "## Principal components"
     ]
    },
    {
     "cell_type": "code",
     "collapsed": false,
     "input": [
      "for idx, comp in enumerate(pca_comp.components_[:20]):\n",
      "    plt.subplot(5, 4, idx+1)\n",
      "    plt.imshow(np.mean(comp.reshape(paths.voxlet_shape), axis=2))"
     ],
     "language": "python",
     "metadata": {},
     "outputs": [],
     "prompt_number": ""
    },
    {
     "cell_type": "code",
     "collapsed": false,
     "input": [
      "plt.plot(pca_comp.explained_variance_)"
     ],
     "language": "python",
     "metadata": {},
     "outputs": [],
     "prompt_number": ""
    },
    {
     "cell_type": "markdown",
     "metadata": {},
     "source": [
      "## Kmeans on raw data"
     ]
    },
    {
     "cell_type": "code",
     "collapsed": false,
     "input": [
      "# loading in original clusters\n",
      "kmeans_dict = pickle.load(open('dict_from_training_images.pkl', 'rb'))\n",
      "\n",
      "for idx, cen in enumerate(kmeans_dict.cluster_centers_[:25]):\n",
      "    plt.subplot(5, 5, idx+1)\n",
      "    reconstructed_centre = cen.reshape(paths.voxlet_shape)    \n",
      "    plt.imshow(np.mean(reconstructed_centre, axis=2))\n",
      "    plt.clim((-0.03, 0.03))"
     ],
     "language": "python",
     "metadata": {},
     "outputs": [],
     "prompt_number": ""
    },
    {
     "cell_type": "markdown",
     "metadata": {},
     "source": [
      "## Kmeans on principal components represenation"
     ]
    },
    {
     "cell_type": "code",
     "collapsed": false,
     "input": [
      "# loading in the PCA clusters\n",
      "pca_dict = pickle.load(open('dict_using_pca.pkl', 'rb'))"
     ],
     "language": "python",
     "metadata": {},
     "outputs": [],
     "prompt_number": ""
    },
    {
     "cell_type": "code",
     "collapsed": false,
     "input": [
      "for idx, cen in enumerate(pca_dict.cluster_centers_[:25]):\n",
      "    plt.subplot(5, 5, idx+1)\n",
      "    vector_center = pca_comp.inverse_transform(cen)\n",
      "    reconstructed_centre = vector_center.reshape(paths.voxlet_shape)    \n",
      "\n",
      "    plt.imshow(np.mean(reconstructed_centre, axis=2))\n",
      "    plt.clim((-0.03, 0.03))"
     ],
     "language": "python",
     "metadata": {},
     "outputs": [],
     "prompt_number": ""
    },
    {
     "cell_type": "code",
     "collapsed": false,
     "input": [
      "plt.plot(np.bincount(pca_dict.labels_))"
     ],
     "language": "python",
     "metadata": {},
     "outputs": [],
     "prompt_number": ""
    }
   ],
   "metadata": {}
  }
 ]
}