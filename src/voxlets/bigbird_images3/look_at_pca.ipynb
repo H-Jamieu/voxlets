{
 "metadata": {
  "name": ""
 },
 "nbformat": 3,
 "nbformat_minor": 0,
 "worksheets": [
  {
   "cells": [
    {
     "cell_type": "code",
     "collapsed": false,
     "input": [
      "import numpy as np\n",
      "import cPickle as pickle\n",
      "import sys\n",
      "sys.path.append('/Users/Michael/projects/shape_sharing/src/common')\n",
      "import paths\n",
      "\n",
      "%matplotlib inline\n",
      "%load_ext autoreload\n",
      "%autoreload 2\n",
      "import matplotlib.pyplot as plt\n",
      "plt.rcParams['figure.figsize'] = (20.0, 10.0)"
     ],
     "language": "python",
     "metadata": {},
     "outputs": [],
     "prompt_number": ""
    },
    {
     "cell_type": "code",
     "collapsed": false,
     "input": [
      "print paths.voxlet_pca_path\n",
      "pca_comp = pickle.load(open(paths.voxlet_pca_path[:-6], 'rb'))"
     ],
     "language": "python",
     "metadata": {},
     "outputs": [],
     "prompt_number": ""
    },
    {
     "cell_type": "markdown",
     "metadata": {},
     "source": [
      "## Principal components"
     ]
    },
    {
     "cell_type": "code",
     "collapsed": false,
     "input": [
      "for idx, comp in enumerate(pca_comp.components_[:20]):\n",
      "    plt.subplot(5, 4, idx+1)\n",
      "    plt.imshow(np.mean(comp.reshape(paths.voxlet_shape), axis=2))"
     ],
     "language": "python",
     "metadata": {},
     "outputs": [],
     "prompt_number": ""
    },
    {
     "cell_type": "code",
     "collapsed": false,
     "input": [
      "plt.plot(pca_comp.explained_variance_)"
     ],
     "language": "python",
     "metadata": {},
     "outputs": [],
     "prompt_number": ""
    },
    {
     "cell_type": "markdown",
     "metadata": {},
     "source": [
      "## Kmeans on raw data"
     ]
    },
    {
     "cell_type": "code",
     "collapsed": false,
     "input": [
      "# loading in original clusters\n",
      "kmeans_dict = pickle.load(open(paths.voxlet_dict_path[:-6], 'rb'))\n",
      "\n",
      "for idx, cen in enumerate(kmeans_dict.cluster_centers_[:25]):\n",
      "    plt.subplot(5, 5, idx+1)\n",
      "    reconstructed_centre = cen.reshape(paths.voxlet_shape)    \n",
      "    plt.imshow(np.mean(reconstructed_centre, axis=2))\n",
      "    plt.clim((-0.03, 0.03))"
     ],
     "language": "python",
     "metadata": {},
     "outputs": [],
     "prompt_number": ""
    },
    {
     "cell_type": "markdown",
     "metadata": {},
     "source": [
      "## Kmeans on principal components represenation"
     ]
    },
    {
     "cell_type": "code",
     "collapsed": false,
     "input": [
      "# loading in the PCA clusters\n",
      "pca_dict = pickle.load(open(paths.voxlet_pca_dict_path[:-6], 'rb'))"
     ],
     "language": "python",
     "metadata": {},
     "outputs": [],
     "prompt_number": ""
    },
    {
     "cell_type": "code",
     "collapsed": false,
     "input": [
      "order = np.argsort(np.bincount(pca_dict.labels_))[::-1]\n",
      "\n",
      "for count, idx in enumerate(order):\n",
      "\n",
      "    cen = pca_dict.cluster_centers_[idx]\n",
      "\n",
      "    vector_center = pca_comp.inverse_transform(cen)\n",
      "    reconstructed_centre = vector_center.reshape(paths.voxlet_shape)\n",
      "    plt.subplot(5, 5, count+1)\n",
      "    plt.imshow(np.min(reconstructed_centre, axis=2))\n",
      "    plt.clim((-0.03, 0.03))\n",
      "    if count >= 24: break\n"
     ],
     "language": "python",
     "metadata": {},
     "outputs": [],
     "prompt_number": ""
    },
    {
     "cell_type": "code",
     "collapsed": false,
     "input": [
      "all_vox = pickle.load(open('/Users/Michael/projects/shape_sharing/src/voxlets/bigbird_images3/all_voxlets.np', 'rb'))\n",
      "\n",
      "for count, reconstructed_centre in enumerate(all_vox):\n",
      "\n",
      "    plt.subplot(5, 5, count+1)\n",
      "    plt.imshow(np.min(reconstructed_centre, axis=2))\n",
      "    plt.clim((-0.03, 0.03))\n",
      "    if count >= 24: break\n"
     ],
     "language": "python",
     "metadata": {},
     "outputs": [],
     "prompt_number": ""
    }
   ],
   "metadata": {}
  }
 ]
}