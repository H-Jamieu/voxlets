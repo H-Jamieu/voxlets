{
 "metadata": {
  "name": ""
 },
 "nbformat": 3,
 "nbformat_minor": 0,
 "worksheets": [
  {
   "cells": [
    {
     "cell_type": "code",
     "collapsed": false,
     "input": [
      "import numpy as np\n",
      "import cPickle as pickle\n",
      "import sys\n",
      "sys.path.append('/Users/Michael/projects/shape_sharing/src/common')\n",
      "import paths\n",
      "\n",
      "%matplotlib inline\n",
      "%load_ext autoreload\n",
      "%autoreload 2\n",
      "import matplotlib.pyplot as plt\n",
      "plt.rcParams['figure.figsize'] = (20.0, 10.0)"
     ],
     "language": "python",
     "metadata": {},
     "outputs": [],
     "prompt_number": ""
    },
    {
     "cell_type": "code",
     "collapsed": false,
     "input": [
      "print paths.voxlet_pca_path\n",
      "pca_comp = pickle.load(open(paths.voxlet_pca_path, 'rb'))"
     ],
     "language": "python",
     "metadata": {},
     "outputs": [],
     "prompt_number": ""
    },
    {
     "cell_type": "markdown",
     "metadata": {},
     "source": [
      "## Principal components"
     ]
    },
    {
     "cell_type": "code",
     "collapsed": false,
     "input": [
      "for idx, comp in enumerate(pca_comp.components_[:20]):\n",
      "    plt.subplot(5, 4, idx+1)\n",
      "    plt.imshow(np.mean(comp.reshape(paths.voxlet_shape), axis=2))"
     ],
     "language": "python",
     "metadata": {},
     "outputs": [],
     "prompt_number": ""
    },
    {
     "cell_type": "code",
     "collapsed": false,
     "input": [
      "plt.plot(pca_comp.explained_variance_)"
     ],
     "language": "python",
     "metadata": {},
     "outputs": [],
     "prompt_number": ""
    },
    {
     "cell_type": "markdown",
     "metadata": {},
     "source": [
      "## Kmeans on raw data"
     ]
    },
    {
     "cell_type": "code",
     "collapsed": false,
     "input": [
      "# loading in original clusters\n",
      "kmeans_dict = pickle.load(open(paths.voxlet_dict_path, 'rb'))\n",
      "\n",
      "for idx, cen in enumerate(kmeans_dict.cluster_centers_[:25]):\n",
      "    plt.subplot(5, 5, idx+1)\n",
      "    reconstructed_centre = cen.reshape(paths.voxlet_shape)    \n",
      "    plt.imshow(np.mean(reconstructed_centre, axis=2))\n",
      "    plt.clim((-0.03, 0.03))"
     ],
     "language": "python",
     "metadata": {},
     "outputs": [],
     "prompt_number": ""
    },
    {
     "cell_type": "markdown",
     "metadata": {},
     "source": [
      "## Kmeans on principal components represenation"
     ]
    },
    {
     "cell_type": "code",
     "collapsed": false,
     "input": [
      "# loading in the PCA clusters\n",
      "pca_dict = pickle.load(open(paths.voxlet_pca_dict_path[:-6], 'rb'))"
     ],
     "language": "python",
     "metadata": {},
     "outputs": [],
     "prompt_number": ""
    },
    {
     "cell_type": "code",
     "collapsed": false,
     "input": [
      "order = np.argsort(np.bincount(pca_dict.labels_))[::-1]\n",
      "\n",
      "for count, idx in enumerate(order):\n",
      "\n",
      "    cen = pca_dict.cluster_centers_[idx]\n",
      "\n",
      "    vector_center = pca_comp.inverse_transform(cen)\n",
      "    reconstructed_centre = vector_center.reshape(paths.voxlet_shape)\n",
      "    plt.subplot(5, 5, count+1)\n",
      "    plt.imshow(np.min(reconstructed_centre, axis=2))\n",
      "    plt.clim((-0.03, 0.03))\n",
      "    if count >= 24: break\n"
     ],
     "language": "python",
     "metadata": {},
     "outputs": [],
     "prompt_number": ""
    },
    {
     "cell_type": "code",
     "collapsed": false,
     "input": [
      "all_vox = pickle.load(open('/Users/Michael/projects/shape_sharing/src/voxlets/bigbird_images3/all_voxlets.np', 'rb'))\n",
      "\n",
      "for count, reconstructed_centre in enumerate(all_vox):\n",
      "\n",
      "    plt.subplot(5, 5, count+1)\n",
      "    plt.imshow(np.min(reconstructed_centre, axis=2))\n",
      "    plt.clim((-0.03, 0.03))\n",
      "    if count >= 24: break\n"
     ],
     "language": "python",
     "metadata": {},
     "outputs": [],
     "prompt_number": ""
    },
    {
     "cell_type": "markdown",
     "metadata": {},
     "source": [
      "## Main look at some of the voxlets extracted"
     ]
    },
    {
     "cell_type": "code",
     "collapsed": false,
     "input": [
      "main_path = '/Users/Michael/projects/shape_sharing/data/voxlets/bigbird/tsdf_fitted_pca/3m_high_tack_spray_adhesive.mat'\n",
      "import scipy.io\n",
      "D = scipy.io.loadmat(main_path)\n",
      "print D.keys()\n",
      "print D['pca_representation'].shape\n",
      "\n",
      "TT = D['pca_representation']\n",
      "\n",
      "\n",
      "for count, T in enumerate(TT):\n",
      "\n",
      "    cen = T\n",
      "\n",
      "    vector_center = pca_comp.inverse_transform(cen)\n",
      "    \n",
      "    reconstructed_centre = vector_center.reshape(paths.voxlet_shape)\n",
      "    plt.subplot(5, 5, count+1)\n",
      "    plt.imshow(np.min(reconstructed_centre, axis=2))\n",
      "    plt.clim((-0.03, 0.03))\n",
      "    if count >= 24: break"
     ],
     "language": "python",
     "metadata": {},
     "outputs": [],
     "prompt_number": ""
    },
    {
     "cell_type": "code",
     "collapsed": false,
     "input": [
      "#p = '/Users/Michael/projects/shape_sharing/data/voxlets/bigbird/tsdf_small/advil_liqui_gels.mat'\n",
      "#p = '/Volumes/BlackBackup/shape_sharing_backups/shape_sharing/data/voxlets/bigbird/tsdf_small/advil_liqui_gels.mat'\n",
      "p = '/Users/Michael/projects/shape_sharing/src/voxlets/bigbird_images3/data/3m_high_tack_spray_adhesive.mat'\n",
      "TT = scipy.io.loadmat(p)\n",
      "pca_path = '/Users/Michael/projects/shape_sharing/src/voxlets/bigbird_images3/data/pca.pkl'\n",
      "pca = pickle.load(open(pca_path, 'rb'))\n",
      "print TT.keys()\n",
      "\n",
      "for count, T in enumerate(TT['pca_representation']):\n",
      "\n",
      "    cen = T\n",
      "    vector_center = pca.inverse_transform(cen)\n",
      "\n",
      "    reconstructed_centre = vector_center.reshape(paths.voxlet_shape)\n",
      "    plt.subplot(5, 5, count+1)\n",
      "    plt.imshow(np.min(reconstructed_centre, axis=2))\n",
      "    plt.clim((-0.03, 0.03))\n",
      "    if count >= 24: break\n"
     ],
     "language": "python",
     "metadata": {},
     "outputs": [],
     "prompt_number": ""
    },
    {
     "cell_type": "code",
     "collapsed": false,
     "input": [
      "# now checking the training data for the forest\n",
      "p = '/Users/Michael/projects/shape_sharing/data/voxlets/dict/tsdf/oma_forest.pkl.small'\n",
      "D = pickle.load(open(p, 'rb'))"
     ],
     "language": "python",
     "metadata": {},
     "outputs": [],
     "prompt_number": ""
    },
    {
     "cell_type": "code",
     "collapsed": false,
     "input": [
      "print paths.modelnames[:5]"
     ],
     "language": "python",
     "metadata": {},
     "outputs": [],
     "prompt_number": ""
    },
    {
     "cell_type": "code",
     "collapsed": false,
     "input": [
      "print D['traindata'].shape\n",
      "pca_comp2 = D['pca_model']\n",
      "for count, T in enumerate(D['traindata'][150:]):\n",
      "\n",
      "    cen = T\n",
      "    vector_center = pca_comp2.inverse_transform(cen)\n",
      "    reconstructed_centre = vector_center.reshape(paths.voxlet_shape)\n",
      "    plt.subplot(5, 5, count+1)\n",
      "    plt.imshow(np.min(reconstructed_centre, axis=2))\n",
      "    plt.clim((-0.03, 0.03))\n",
      "    if count >= 24: break"
     ],
     "language": "python",
     "metadata": {},
     "outputs": [],
     "prompt_number": ""
    }
   ],
   "metadata": {}
  }
 ]
}