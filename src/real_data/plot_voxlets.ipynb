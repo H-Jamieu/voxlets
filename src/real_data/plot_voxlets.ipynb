{
 "nbformat_minor": 0,
 "nbformat": 4,
 "cells": [
  {
   "execution_count": 13,
   "cell_type": "code",
   "source": [
    "%matplotlib inline\n",
    "%load_ext autoreload\n",
    "%autoreload 2\n",
    "\n",
    "import sys, os\n",
    "import numpy as np\n",
    "import matplotlib.pyplot as plt\n",
    "\n",
    "import sys\n",
    "sys.path.append('/Users/Michael/projects/shape_sharing/src/')\n",
    "from common import paths\n",
    "from common import parameters"
   ]
  },
  {
   "execution_count": 14,
   "cell_type": "code",
   "source": [
    "from common import scene\n",
    "sequence = paths.RenderedData.test_sequence()[0]\n",
    "\n",
    "sc = scene.Scene()\n",
    "sc.load_sequence(sequence, frame_nos=0, segment_with_gt=True, save_grids=True)\n",
    "sc.santity_render(save_folder='/tmp/')"
   ]
  },
  {
   "execution_count": 15,
   "cell_type": "code",
   "source": [
    "plt.figure(figsize=(10, 10))\n",
    "rec.plot_voxlet_top_view()"
   ]
  },
  {
   "execution_count": null,
   "cell_type": "code",
   "source": []
  }
 ],
 "metadata": {
  "kernelspec": {
   "display_name": "Python 2",
   "name": "python2",
   "language": "python"
  },
  "language_info": {
   "mimetype": "text/x-python",
   "nbconvert_exporter": "python",
   "name": "python",
   "file_extension": ".py",
   "version": "2.7.9",
   "pygments_lexer": "ipython2",
   "codemirror_mode": {
    "version": 2,
    "name": "ipython"
   }
  }
 }
}