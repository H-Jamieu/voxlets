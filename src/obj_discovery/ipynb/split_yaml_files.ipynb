{
 "metadata": {
  "name": "",
  "signature": "sha256:256b3b6de351537d354ac666e89b80a838e91b4b42f2441aa17ce70d487c098f"
 },
 "nbformat": 3,
 "nbformat_minor": 0,
 "worksheets": [
  {
   "cells": [
    {
     "cell_type": "code",
     "collapsed": false,
     "input": [
      "# script notebook to split up the huge yaml files into separate files\n",
      "# this means that I can load in sequences much quicker"
     ],
     "language": "python",
     "metadata": {},
     "outputs": [],
     "prompt_number": 1
    },
    {
     "cell_type": "code",
     "collapsed": false,
     "input": [
      "import yaml\n",
      "import scipy.io\n",
      "import sys, os\n",
      "sys.path.append(os.path.expanduser('~/projects/shape_sharing/src/'))\n",
      "sys.path.append(os.path.expanduser('~/projects/shape_sharing/src/real_data/'))\n",
      "\n",
      "import matplotlib.pyplot as plt\n",
      "from oisin_house import real_data_paths as paths\n"
     ],
     "language": "python",
     "metadata": {},
     "outputs": [
      {
       "output_type": "stream",
       "stream": "stdout",
       "text": [
        "biryani\n"
       ]
      }
     ],
     "prompt_number": 2
    },
    {
     "cell_type": "code",
     "collapsed": false,
     "input": [
      "scene_names = []\n",
      "\n",
      "raw_data = paths.data_folder + 'data/'\n",
      "scene_names += [raw_data + o\n",
      "          for o in os.listdir(raw_data)\n",
      "          if os.path.isdir(os.path.join(raw_data,o))]\n",
      "\n",
      "raw_data = paths.data_folder + 'data1/'\n",
      "scene_names += [raw_data + o\n",
      "          for o in os.listdir(raw_data)\n",
      "          if os.path.isdir(os.path.join(raw_data,o))]\n",
      "\n",
      "raw_data = paths.data_folder + 'data2/'\n",
      "scene_names += [raw_data + o\n",
      "          for o in os.listdir(raw_data)\n",
      "          if os.path.isdir(os.path.join(raw_data,o))]"
     ],
     "language": "python",
     "metadata": {},
     "outputs": [],
     "prompt_number": 23
    },
    {
     "cell_type": "code",
     "collapsed": false,
     "input": [
      "for sc in scene_names:\n",
      "    print sc\n",
      "    poses = yaml.load(open(sc + '/poses.yaml'))\n",
      "    \n",
      "    if not os.path.exists(sc + '/poses/'):\n",
      "        os.makedirs(sc + '/poses/')\n",
      "        \n",
      "    for idx, p in enumerate(poses):\n",
      "        fname = sc + '/poses/%06d.yaml' % idx\n",
      "        with open(fname, 'w') as f:\n",
      "            yaml.dump(p, f)"
     ],
     "language": "python",
     "metadata": {},
     "outputs": [
      {
       "output_type": "stream",
       "stream": "stdout",
       "text": [
        "/media/ssd/data/oisin_house/data/saved_00216\n",
        "/media/ssd/data/oisin_house/data/saved_00226"
       ]
      },
      {
       "output_type": "stream",
       "stream": "stdout",
       "text": [
        "\n",
        "/media/ssd/data/oisin_house/data/saved_00200"
       ]
      },
      {
       "output_type": "stream",
       "stream": "stdout",
       "text": [
        "\n",
        "/media/ssd/data/oisin_house/data/saved_00202"
       ]
      },
      {
       "output_type": "stream",
       "stream": "stdout",
       "text": [
        "\n",
        "/media/ssd/data/oisin_house/data/saved_00194"
       ]
      },
      {
       "output_type": "stream",
       "stream": "stdout",
       "text": [
        "\n",
        "/media/ssd/data/oisin_house/data/saved_00204"
       ]
      },
      {
       "output_type": "stream",
       "stream": "stdout",
       "text": [
        "\n",
        "/media/ssd/data/oisin_house/data/saved_00169"
       ]
      },
      {
       "output_type": "stream",
       "stream": "stdout",
       "text": [
        "\n",
        "/media/ssd/data/oisin_house/data/saved_00197"
       ]
      },
      {
       "output_type": "stream",
       "stream": "stdout",
       "text": [
        "\n",
        "/media/ssd/data/oisin_house/data/saved_00238"
       ]
      },
      {
       "output_type": "stream",
       "stream": "stdout",
       "text": [
        "\n",
        "/media/ssd/data/oisin_house/data/saved_00240"
       ]
      },
      {
       "output_type": "stream",
       "stream": "stdout",
       "text": [
        "\n",
        "/media/ssd/data/oisin_house/data/saved_00233"
       ]
      },
      {
       "output_type": "stream",
       "stream": "stdout",
       "text": [
        "\n",
        "/media/ssd/data/oisin_house/data/saved_00178"
       ]
      },
      {
       "output_type": "stream",
       "stream": "stdout",
       "text": [
        "\n",
        "/media/ssd/data/oisin_house/data/saved_00229"
       ]
      },
      {
       "output_type": "stream",
       "stream": "stdout",
       "text": [
        "\n",
        "/media/ssd/data/oisin_house/data/saved_00227"
       ]
      },
      {
       "output_type": "stream",
       "stream": "stdout",
       "text": [
        "\n",
        "/media/ssd/data/oisin_house/data/saved_00170"
       ]
      },
      {
       "output_type": "stream",
       "stream": "stdout",
       "text": [
        "\n",
        "/media/ssd/data/oisin_house/data/saved_00218"
       ]
      },
      {
       "output_type": "stream",
       "stream": "stdout",
       "text": [
        "\n",
        "/media/ssd/data/oisin_house/data/saved_00205"
       ]
      },
      {
       "output_type": "stream",
       "stream": "stdout",
       "text": [
        "\n",
        "/media/ssd/data/oisin_house/data/saved_00199"
       ]
      },
      {
       "output_type": "stream",
       "stream": "stdout",
       "text": [
        "\n",
        "/media/ssd/data/oisin_house/data/saved_00237"
       ]
      },
      {
       "output_type": "stream",
       "stream": "stdout",
       "text": [
        "\n",
        "/media/ssd/data/oisin_house/data/saved_00234"
       ]
      },
      {
       "output_type": "stream",
       "stream": "stdout",
       "text": [
        "\n",
        "/media/ssd/data/oisin_house/data/saved_00236"
       ]
      },
      {
       "output_type": "stream",
       "stream": "stdout",
       "text": [
        "\n",
        "/media/ssd/data/oisin_house/data/saved_00196"
       ]
      },
      {
       "output_type": "stream",
       "stream": "stdout",
       "text": [
        "\n",
        "/media/ssd/data/oisin_house/data/saved_00215"
       ]
      },
      {
       "output_type": "stream",
       "stream": "stdout",
       "text": [
        "\n",
        "/media/ssd/data/oisin_house/data/saved_00239"
       ]
      },
      {
       "output_type": "stream",
       "stream": "stdout",
       "text": [
        "\n",
        "/media/ssd/data/oisin_house/data/saved_00207"
       ]
      },
      {
       "output_type": "stream",
       "stream": "stdout",
       "text": [
        "\n",
        "/media/ssd/data/oisin_house/data/saved_00228"
       ]
      },
      {
       "output_type": "stream",
       "stream": "stdout",
       "text": [
        "\n",
        "/media/ssd/data/oisin_house/data/saved_00224"
       ]
      },
      {
       "output_type": "stream",
       "stream": "stdout",
       "text": [
        "\n",
        "/media/ssd/data/oisin_house/data/saved_00225"
       ]
      },
      {
       "output_type": "stream",
       "stream": "stdout",
       "text": [
        "\n",
        "/media/ssd/data/oisin_house/data/saved_00209"
       ]
      },
      {
       "output_type": "stream",
       "stream": "stdout",
       "text": [
        "\n",
        "/media/ssd/data/oisin_house/data/saved_00211"
       ]
      },
      {
       "output_type": "stream",
       "stream": "stdout",
       "text": [
        "\n",
        "/media/ssd/data/oisin_house/data1/saved_00216"
       ]
      },
      {
       "output_type": "stream",
       "stream": "stdout",
       "text": [
        "\n",
        "/media/ssd/data/oisin_house/data1/saved_00220"
       ]
      },
      {
       "output_type": "stream",
       "stream": "stdout",
       "text": [
        "\n",
        "/media/ssd/data/oisin_house/data1/saved_00241"
       ]
      },
      {
       "output_type": "stream",
       "stream": "stdout",
       "text": [
        "\n",
        "/media/ssd/data/oisin_house/data1/saved_00223"
       ]
      },
      {
       "output_type": "stream",
       "stream": "stdout",
       "text": [
        "\n",
        "/media/ssd/data/oisin_house/data1/saved_00197"
       ]
      },
      {
       "output_type": "stream",
       "stream": "stdout",
       "text": [
        "\n",
        "/media/ssd/data/oisin_house/data1/saved_00221"
       ]
      },
      {
       "output_type": "stream",
       "stream": "stdout",
       "text": [
        "\n",
        "/media/ssd/data/oisin_house/data1/saved_00238"
       ]
      },
      {
       "output_type": "stream",
       "stream": "stdout",
       "text": [
        "\n",
        "/media/ssd/data/oisin_house/data1/saved_00233"
       ]
      },
      {
       "output_type": "stream",
       "stream": "stdout",
       "text": [
        "\n",
        "/media/ssd/data/oisin_house/data1/saved_00229"
       ]
      },
      {
       "output_type": "stream",
       "stream": "stdout",
       "text": [
        "\n",
        "/media/ssd/data/oisin_house/data1/saved_00227"
       ]
      },
      {
       "output_type": "stream",
       "stream": "stdout",
       "text": [
        "\n",
        "/media/ssd/data/oisin_house/data1/saved_00218"
       ]
      },
      {
       "output_type": "stream",
       "stream": "stdout",
       "text": [
        "\n",
        "/media/ssd/data/oisin_house/data1/saved_00205"
       ]
      },
      {
       "output_type": "stream",
       "stream": "stdout",
       "text": [
        "\n",
        "/media/ssd/data/oisin_house/data1/saved_00208"
       ]
      },
      {
       "output_type": "stream",
       "stream": "stdout",
       "text": [
        "\n",
        "/media/ssd/data/oisin_house/data1/saved_00237"
       ]
      },
      {
       "output_type": "stream",
       "stream": "stdout",
       "text": [
        "\n",
        "/media/ssd/data/oisin_house/data1/saved_00232"
       ]
      },
      {
       "output_type": "stream",
       "stream": "stdout",
       "text": [
        "\n",
        "/media/ssd/data/oisin_house/data1/saved_00234"
       ]
      },
      {
       "output_type": "stream",
       "stream": "stdout",
       "text": [
        "\n",
        "/media/ssd/data/oisin_house/data1/saved_00243"
       ]
      },
      {
       "output_type": "stream",
       "stream": "stdout",
       "text": [
        "\n",
        "/media/ssd/data/oisin_house/data1/saved_00236"
       ]
      },
      {
       "output_type": "stream",
       "stream": "stdout",
       "text": [
        "\n",
        "/media/ssd/data/oisin_house/data1/saved_00230"
       ]
      },
      {
       "output_type": "stream",
       "stream": "stdout",
       "text": [
        "\n",
        "/media/ssd/data/oisin_house/data1/saved_00196"
       ]
      },
      {
       "output_type": "stream",
       "stream": "stdout",
       "text": [
        "\n",
        "/media/ssd/data/oisin_house/data1/saved_00215"
       ]
      },
      {
       "output_type": "stream",
       "stream": "stdout",
       "text": [
        "\n",
        "/media/ssd/data/oisin_house/data1/saved_00239"
       ]
      },
      {
       "output_type": "stream",
       "stream": "stdout",
       "text": [
        "\n",
        "/media/ssd/data/oisin_house/data1/saved_00207"
       ]
      },
      {
       "output_type": "stream",
       "stream": "stdout",
       "text": [
        "\n",
        "/media/ssd/data/oisin_house/data1/saved_00219"
       ]
      },
      {
       "output_type": "stream",
       "stream": "stdout",
       "text": [
        "\n",
        "/media/ssd/data/oisin_house/data1/saved_00228"
       ]
      },
      {
       "output_type": "stream",
       "stream": "stdout",
       "text": [
        "\n",
        "/media/ssd/data/oisin_house/data1/saved_00224"
       ]
      },
      {
       "output_type": "stream",
       "stream": "stdout",
       "text": [
        "\n",
        "/media/ssd/data/oisin_house/data1/saved_00231"
       ]
      },
      {
       "output_type": "stream",
       "stream": "stdout",
       "text": [
        "\n",
        "/media/ssd/data/oisin_house/data1/saved_00242"
       ]
      },
      {
       "output_type": "stream",
       "stream": "stdout",
       "text": [
        "\n",
        "/media/ssd/data/oisin_house/data1/saved_00225"
       ]
      },
      {
       "output_type": "stream",
       "stream": "stdout",
       "text": [
        "\n",
        "/media/ssd/data/oisin_house/data1/saved_00211"
       ]
      },
      {
       "output_type": "stream",
       "stream": "stdout",
       "text": [
        "\n",
        "/media/ssd/data/oisin_house/data2/saved2_00196"
       ]
      },
      {
       "output_type": "stream",
       "stream": "stdout",
       "text": [
        "\n",
        "/media/ssd/data/oisin_house/data2/saved2_00167"
       ]
      },
      {
       "output_type": "stream",
       "stream": "stdout",
       "text": [
        "\n",
        "/media/ssd/data/oisin_house/data2/saved2_00187"
       ]
      },
      {
       "output_type": "stream",
       "stream": "stdout",
       "text": [
        "\n",
        "/media/ssd/data/oisin_house/data2/saved2_00177"
       ]
      },
      {
       "output_type": "stream",
       "stream": "stdout",
       "text": [
        "\n",
        "/media/ssd/data/oisin_house/data2/saved2_00175"
       ]
      },
      {
       "output_type": "stream",
       "stream": "stdout",
       "text": [
        "\n",
        "/media/ssd/data/oisin_house/data2/saved2_00159"
       ]
      },
      {
       "output_type": "stream",
       "stream": "stdout",
       "text": [
        "\n",
        "/media/ssd/data/oisin_house/data2/saved2_00186"
       ]
      },
      {
       "output_type": "stream",
       "stream": "stdout",
       "text": [
        "\n",
        "/media/ssd/data/oisin_house/data2/saved2_00182"
       ]
      },
      {
       "output_type": "stream",
       "stream": "stdout",
       "text": [
        "\n",
        "/media/ssd/data/oisin_house/data2/saved2_00194"
       ]
      },
      {
       "output_type": "stream",
       "stream": "stdout",
       "text": [
        "\n",
        "/media/ssd/data/oisin_house/data2/saved2_00164"
       ]
      },
      {
       "output_type": "stream",
       "stream": "stdout",
       "text": [
        "\n",
        "/media/ssd/data/oisin_house/data2/saved2_00176"
       ]
      },
      {
       "output_type": "stream",
       "stream": "stdout",
       "text": [
        "\n",
        "/media/ssd/data/oisin_house/data2/saved2_00189"
       ]
      },
      {
       "output_type": "stream",
       "stream": "stdout",
       "text": [
        "\n",
        "/media/ssd/data/oisin_house/data2/saved2_00178"
       ]
      },
      {
       "output_type": "stream",
       "stream": "stdout",
       "text": [
        "\n",
        "/media/ssd/data/oisin_house/data2/saved2_00157"
       ]
      },
      {
       "output_type": "stream",
       "stream": "stdout",
       "text": [
        "\n",
        "/media/ssd/data/oisin_house/data2/saved2_00192"
       ]
      },
      {
       "output_type": "stream",
       "stream": "stdout",
       "text": [
        "\n",
        "/media/ssd/data/oisin_house/data2/saved2_00184"
       ]
      },
      {
       "output_type": "stream",
       "stream": "stdout",
       "text": [
        "\n",
        "/media/ssd/data/oisin_house/data2/saved2_00158"
       ]
      },
      {
       "output_type": "stream",
       "stream": "stdout",
       "text": [
        "\n",
        "/media/ssd/data/oisin_house/data2/saved2_00170"
       ]
      },
      {
       "output_type": "stream",
       "stream": "stdout",
       "text": [
        "\n",
        "/media/ssd/data/oisin_house/data2/saved2_00165"
       ]
      },
      {
       "output_type": "stream",
       "stream": "stdout",
       "text": [
        "\n",
        "/media/ssd/data/oisin_house/data2/saved2_00185"
       ]
      },
      {
       "output_type": "stream",
       "stream": "stdout",
       "text": [
        "\n",
        "/media/ssd/data/oisin_house/data2/saved2_00179"
       ]
      },
      {
       "output_type": "stream",
       "stream": "stdout",
       "text": [
        "\n",
        "/media/ssd/data/oisin_house/data2/saved2_00193"
       ]
      },
      {
       "output_type": "stream",
       "stream": "stdout",
       "text": [
        "\n",
        "/media/ssd/data/oisin_house/data2/saved2_00161"
       ]
      },
      {
       "output_type": "stream",
       "stream": "stdout",
       "text": [
        "\n",
        "/media/ssd/data/oisin_house/data2/saved2_00171"
       ]
      },
      {
       "output_type": "stream",
       "stream": "stdout",
       "text": [
        "\n",
        "/media/ssd/data/oisin_house/data2/saved2_00188"
       ]
      },
      {
       "output_type": "stream",
       "stream": "stdout",
       "text": [
        "\n",
        "/media/ssd/data/oisin_house/data2/saved2_00195"
       ]
      },
      {
       "output_type": "stream",
       "stream": "stdout",
       "text": [
        "\n",
        "/media/ssd/data/oisin_house/data2/saved2_00168"
       ]
      },
      {
       "output_type": "stream",
       "stream": "stdout",
       "text": [
        "\n",
        "/media/ssd/data/oisin_house/data2/saved2_00169"
       ]
      },
      {
       "output_type": "stream",
       "stream": "stdout",
       "text": [
        "\n",
        "/media/ssd/data/oisin_house/data2/saved2_00190"
       ]
      },
      {
       "output_type": "stream",
       "stream": "stdout",
       "text": [
        "\n",
        "/media/ssd/data/oisin_house/data2/saved2_00180"
       ]
      },
      {
       "output_type": "stream",
       "stream": "stdout",
       "text": [
        "\n"
       ]
      }
     ],
     "prompt_number": 32
    }
   ],
   "metadata": {}
  }
 ]
}