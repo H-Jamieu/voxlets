{
 "metadata": {
  "name": ""
 },
 "nbformat": 3,
 "nbformat_minor": 0,
 "worksheets": [
  {
   "cells": [
    {
     "cell_type": "code",
     "collapsed": false,
     "input": [
      "'''\n",
      "aim is to debug the feature computations.\n",
      "'''\n",
      "%matplotlib inline\n",
      "%load_ext autoreload\n",
      "%autoreload 2\n",
      "\n",
      "import numpy as np\n",
      "import scipy.io\n",
      "import matplotlib.pyplot as plt\n",
      "import sys, os\n",
      "import yaml\n",
      "\n",
      "base_path = '/Users/Michael/projects/shape_sharing/data/'\\\n",
      "    'rendered_arrangements/test_sequences/dm779sgmpnihle9x/'\n",
      "    \n",
      "sys.path.append(os.path.expanduser('~/projects/shape_sharing/src/'))\n",
      "sys.path.append(os.path.expanduser('~/projects/shape_sharing/src/intrinsic/'))\n",
      "from common import carving\n",
      "from common import paths\n",
      "from common import images\n",
      "from common import voxel_data\n",
      "from features import line_casting"
     ],
     "language": "python",
     "metadata": {},
     "outputs": [],
     "prompt_number": ""
    },
    {
     "cell_type": "code",
     "collapsed": false,
     "input": [
      "with open(paths.yaml_test_location, 'r') as f:\n",
      "    test_sequences = yaml.load(f)\n",
      "sequence = test_sequences[0]\n",
      "\n",
      "# this is where to\n",
      "print sequence['scene']\n",
      "input_data_path = paths.scenes_location + sequence['scene']\n",
      "vid = images.RGBDVideo()\n",
      "vid.load_from_yaml(input_data_path, 'poses.yaml')\n",
      "\n",
      "# load in the ground truth grid for this scene, and converting nans\n",
      "gt_vox = voxel_data.load_voxels(input_data_path + '/voxelgrid.pkl')\n",
      "gt_vox.V[np.isnan(gt_vox.V)] = -0.1#-0.03\n",
      "\n",
      "# do the tsdf fusion from these frames\n",
      "carver = carving.Fusion()\n",
      "carver.set_video(vid.subvid(sequence['frames']))\n",
      "partial_tsdf = gt_vox.blank_copy()\n",
      "carver.set_voxel_grid(partial_tsdf)\n",
      "partial_tsdf, visible = carver.fuse(0.1)"
     ],
     "language": "python",
     "metadata": {},
     "outputs": [],
     "prompt_number": ""
    },
    {
     "cell_type": "code",
     "collapsed": false,
     "input": [
      "# observing the TSDF grid from the fusion from a few frames...\n",
      "plt.rcParams['figure.figsize'] = (10.0, 8.0)\n",
      "\n",
      "def display_grid(G, number_to_plot):\n",
      "    ''' displays grid in subplots or something '''\n",
      "    idxs = np.linspace(0, G.shape[2]-1, number_to_plot+2)[1:-1]\n",
      "    dims = np.ceil(np.sqrt(number_to_plot))\n",
      "    print dims\n",
      "    for count, idx in enumerate(idxs):\n",
      "        plt.subplot(dims, dims, count+1)\n",
      "        plt.imshow(G[:, :, idx].astype(np.float32))\n",
      "        plt.axis('off')\n",
      "        plt.colorbar()\n",
      "\n",
      "plt.rcParams['figure.figsize'] = (15.0, 15.0)\n",
      "display_grid(visible.V, 6)"
     ],
     "language": "python",
     "metadata": {},
     "outputs": [],
     "prompt_number": ""
    },
    {
     "cell_type": "code",
     "collapsed": false,
     "input": [
      "# now computing the distances and showing them... in some way!\n",
      "\n",
      "known_full_voxels = visible\n",
      "known_empty_voxels = partial_tsdf.blank_copy()\n",
      "known_empty_voxels.V = partial_tsdf.V > 0\n",
      "print known_full_voxels.V.dtype\n",
      "\n",
      "line_casting\n",
      "distances, observed = line_casting.line_features_3d(\n",
      "    known_empty_voxels, known_full_voxels, base_height=0, autorotate=False)\n",
      "X, Y = line_casting.feature_pairs_3d(\n",
      "        known_empty_voxels, known_full_voxels, gt_vox.V,\n",
      "        samples=50000, base_height=0, autorotate=False, all_voxels=True)"
     ],
     "language": "python",
     "metadata": {},
     "outputs": [],
     "prompt_number": ""
    },
    {
     "cell_type": "code",
     "collapsed": false,
     "input": [
      "plt.rcParams['figure.figsize'] = (10.0, 2.0)\n",
      "plt.hist(pred.V.flatten(), 50)\n",
      "plt.show()"
     ],
     "language": "python",
     "metadata": {},
     "outputs": [],
     "prompt_number": ""
    },
    {
     "cell_type": "code",
     "collapsed": false,
     "input": [
      "display_grid(distances[8], 4)"
     ],
     "language": "python",
     "metadata": {},
     "outputs": [],
     "prompt_number": ""
    },
    {
     "cell_type": "code",
     "collapsed": false,
     "input": [
      "# testing the same on the test scene...\n",
      "\n",
      "    # this is where to\n",
      "    input_data_path = paths.scenes_location + sequence['scene']\n",
      "    vid = images.RGBDVideo()\n",
      "    vid.load_from_yaml(input_data_path, 'poses.yaml')\n",
      "\n",
      "carver = carving.Fusion()\n",
      "carver.set_video(vid.subvid(sequence['frames']))\n",
      "partial_tsdf = gt_vox.blank_copy()\n",
      "carver.set_voxel_grid(partial_tsdf)\n",
      "partial_tsdf, visible = carver.fuse(0.1)\n"
     ],
     "language": "python",
     "metadata": {},
     "outputs": []
    },
    {
     "cell_type": "code",
     "collapsed": false,
     "input": [
      "# now checking the prediction we have made...\n",
      "plt.rcParams['figure.figsize'] = (10.0, 10.0)\n",
      "pred = voxel_data.load_voxels(paths.test_sequences_save_location + 'dm779sgmpnihle9x/prediction.pkl')\n",
      "display_grid(pred.V, 6)"
     ],
     "language": "python",
     "metadata": {},
     "outputs": [],
     "prompt_number": ""
    },
    {
     "cell_type": "code",
     "collapsed": false,
     "input": [
      "print np.sum(X==100, axis=0).astype(np.float) / X.shape[0]\n",
      "print np.sum(X==1, axis=0).astype(np.float) / X.shape[0]\n",
      "print np.sum(X==0, axis=0).astype(np.float) / X.shape[0]\n"
     ],
     "language": "python",
     "metadata": {},
     "outputs": [],
     "prompt_number": ""
    },
    {
     "cell_type": "code",
     "collapsed": false,
     "input": [],
     "language": "python",
     "metadata": {},
     "outputs": []
    }
   ],
   "metadata": {}
  }
 ]
}