{
 "nbformat_minor": 0,
 "nbformat": 4,
 "cells": [
  {
   "execution_count": 45,
   "cell_type": "code",
   "source": [
    "%matplotlib inline\n",
    "import matplotlib.pyplot as plt\n",
    "import scipy.io\n",
    "import numpy as np\n",
    "\n",
    "import sys, os\n",
    "sys.path.append(os.path.expanduser('~/projects/shape_sharing/src/'))\n",
    "sys.path.append(os.path.expanduser('~/projects/shape_sharing/src/intrinsic'))\n",
    "from common import paths"
   ]
  },
  {
   "execution_count": 56,
   "cell_type": "code",
   "source": [
    "sequence = paths.RenderedData.test_sequence()[1]\n",
    "print sequence['name']\n",
    "results_foldername = \\\n",
    "        paths.RenderedData.implicit_prediction_dir % sequence['name']\n",
    "dic = scipy.io.loadmat(results_foldername + 'prediction.mat')\n",
    "\n",
    "print dic['known_empty'].shape"
   ]
  },
  {
   "execution_count": 57,
   "cell_type": "code",
   "source": [
    "plt.figure(figsize=(10, 20))\n",
    "for count, idx in enumerate(range(0, 150, 20)):\n",
    "    plt.subplot(6, 2, count+1)\n",
    "    plt.imshow(dic['known_full'][:, idx, ::-1].T, interpolation='nearest')"
   ]
  },
  {
   "execution_count": 58,
   "cell_type": "code",
   "source": [
    "slice_num = 25\n",
    "plt.figure(figsize=(10, 10))\n",
    "plt.subplot(221)\n",
    "plt.imshow(dic['known_full'][:, slice_num, ::-1].T)\n",
    "plt.subplot(222)\n",
    "plt.imshow(dic['known_empty'][:, slice_num, ::-1].T)\n",
    "plt.subplot(223)\n",
    "temp = np.mean(dic['known_empty'], axis=2)\n",
    "temp[:, slice_num] = 3\n",
    "plt.imshow(temp)\n",
    "plt.subplot(224)\n",
    "plt.imshow(dic['rgbim'])\n",
    "print dic['rgbim'].shape"
   ]
  },
  {
   "execution_count": 60,
   "cell_type": "code",
   "source": [
    "plt.imshow(np.mean(dic['pred'], axis=0))"
   ]
  },
  {
   "execution_count": null,
   "cell_type": "code",
   "source": []
  }
 ],
 "metadata": {
  "kernelspec": {
   "display_name": "Python 2",
   "name": "python2",
   "language": "python"
  },
  "language_info": {
   "mimetype": "text/x-python",
   "nbconvert_exporter": "python",
   "name": "python",
   "file_extension": ".py",
   "version": "2.7.9",
   "pygments_lexer": "ipython2",
   "codemirror_mode": {
    "version": 2,
    "name": "ipython"
   }
  }
 }
}