{
 "metadata": {
  "name": ""
 },
 "nbformat": 3,
 "nbformat_minor": 0,
 "worksheets": [
  {
   "cells": [
    {
     "cell_type": "code",
     "collapsed": false,
     "input": [
      "%matplotlib inline\n",
      "%load_ext autoreload\n",
      "%autoreload 2\n",
      "\n",
      "import numpy as np\n",
      "import matplotlib.pyplot as plt\n",
      "plt.rcParams['figure.figsize'] = (8.0, 2.0)\n",
      "\n",
      "from features import line_casting\n",
      "\n",
      "import cPickle as pickle\n",
      "import sys\n",
      "sys.path.append('/Users/Michael/projects/shape_sharing/src/')\n",
      "\n",
      "from common import paths\n",
      "from common import voxel_data\n",
      "from common import mesh\n",
      "from common import images\n",
      "from common import features\n"
     ],
     "language": "python",
     "metadata": {},
     "outputs": [],
     "prompt_number": ""
    },
    {
     "cell_type": "code",
     "collapsed": false,
     "input": [
      "'''\n",
      "Here will go through the whole process of loading in a \n",
      "voxel grid, a camera image, doing the observed voxels etc \n",
      "and then finding the features.\n",
      "'''\n",
      "modelname = paths.modelnames[0]\n",
      "\n",
      "# load in the ground truth voxel grid \n",
      "gt_grid = voxel_data.BigBirdVoxels()\n",
      "gt_grid.load_bigbird(modelname)\n",
      "\n",
      "# now load the image\n",
      "im = images.CroppedRGBD()\n",
      "view_idx = paths.views[10]\n",
      "im.load_bigbird_from_mat(modelname, view_idx)"
     ],
     "language": "python",
     "metadata": {},
     "outputs": [],
     "prompt_number": ""
    },
    {
     "cell_type": "code",
     "collapsed": false,
     "input": [
      "# create a padded version of the gt grid\n",
      "accum = voxel_data.expanded_grid(gt_grid)\n",
      "accum.fill_from_grid(gt_grid)\n",
      "\n",
      "plt.subplot(121)\n",
      "plt.imshow(np.mean(accum.V, axis=1))\n",
      "plt.subplot(122)\n",
      "plt.imshow(np.mean(gt_grid.V, axis=1))"
     ],
     "language": "python",
     "metadata": {},
     "outputs": [],
     "prompt_number": ""
    },
    {
     "cell_type": "code",
     "collapsed": false,
     "input": [
      "known_full_voxels = voxel_data.get_known_full_grid(im, accum)\n",
      "known_empty_voxels = voxel_data.get_known_empty_grid(im, accum, known_full_voxels)[0]"
     ],
     "language": "python",
     "metadata": {},
     "outputs": [],
     "prompt_number": ""
    },
    {
     "cell_type": "code",
     "collapsed": false,
     "input": [
      "final_V = known_full_voxels.blank_copy()\n",
      "final_V.V += -1\n",
      "final_V.V[known_full_voxels.V==1] = 1\n",
      "final_V.V[known_empty_voxels.V==1] = 0\n",
      "\n",
      "plt.subplot(131)\n",
      "plt.imshow(np.mean(known_empty_voxels.V, axis=2))\n",
      "plt.subplot(132)\n",
      "plt.imshow(np.mean(known_full_voxels.V, axis=1))\n",
      "\n",
      "plt.subplot(133)\n",
      "plt.imshow(np.any(final_V.V==1, axis=1))\n",
      "plt.colorbar()"
     ],
     "language": "python",
     "metadata": {},
     "outputs": [],
     "prompt_number": ""
    },
    {
     "cell_type": "code",
     "collapsed": false,
     "input": [
      "# now use final_V to extract the 3D features\n",
      "from features import line_casting\n",
      "import timeit\n",
      "\n",
      "distances, observed = line_casting.line_features_3d(known_empty_voxels, known_full_voxels)\n",
      "print distances[0].shape\n",
      "print len(observed)\n",
      "print np.prod(observed[0].shape) * len(observed) * 2\n",
      "\n",
      "'''\n",
      "timeit.repeat(\"line_casting.line_features_3d(known_empty_voxels, known_full_voxels)\", \n",
      "              setup=\"from __main__ import known_empty_voxels, known_full_voxels, line_casting\",\n",
      "              number=1, repeat=10)\n",
      "'''\n",
      "# Takes about a second on a 52 x 52 x 99 grid\n",
      "# a 512^3 grid has approx 500 times more voxels though..."
     ],
     "language": "python",
     "metadata": {},
     "outputs": [],
     "prompt_number": ""
    },
    {
     "cell_type": "code",
     "collapsed": false,
     "input": [
      "plt.subplot(131)\n",
      "number =10\n",
      "plt.imshow(np.sum(distances[number], axis=2))\n",
      "plt.clim([0, 100])\n",
      "plt.colorbar()\n",
      "plt.subplot(132)\n",
      "plt.imshow(np.sum(observed[number], axis=1))\n",
      "plt.colorbar()"
     ],
     "language": "python",
     "metadata": {},
     "outputs": [],
     "prompt_number": ""
    },
    {
     "cell_type": "code",
     "collapsed": false,
     "input": [
      "print known_empty_voxels.V.shape\n",
      "gt_tsdf_V = accum.compute_tsdf(0.03)\n",
      "X, Y = line_casting.feature_pairs_3d(known_empty_voxels, known_full_voxels, gt_tsdf_V, \n",
      "                                     samples=200, base_height=15)\n",
      "print known_empty_voxels.V.shape\n",
      "print X.shape\n",
      "print Y.shape\n",
      "#plt.imshow(np.mean(gt_tsdf_V, axis=2))"
     ],
     "language": "python",
     "metadata": {},
     "outputs": [],
     "prompt_number": ""
    },
    {
     "cell_type": "code",
     "collapsed": false,
     "input": [
      "plt.hist(X[:, 50], 20)"
     ],
     "language": "python",
     "metadata": {},
     "outputs": [],
     "prompt_number": ""
    }
   ],
   "metadata": {}
  }
 ]
}