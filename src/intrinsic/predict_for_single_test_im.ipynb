{
 "metadata": {
  "name": ""
 },
 "nbformat": 3,
 "nbformat_minor": 0,
 "worksheets": [
  {
   "cells": [
    {
     "cell_type": "code",
     "collapsed": false,
     "input": [
      "'''\n",
      "here will make a prediction for a single test image \n",
      "to check if the model is doing something sensible at all\n",
      "'''\n",
      "%matplotlib inline\n",
      "%load_ext autoreload\n",
      "%autoreload 2\n",
      "\n",
      "import matplotlib.pyplot as plt \n",
      "import numpy as np\n",
      "import scipy.io\n",
      "import cPickle as pickle\n",
      "import sys, os\n",
      "sys.path.append(os.path.expanduser('~/projects/shape_sharing/src/'))\n",
      "\n",
      "from common import paths\n",
      "from common import voxel_data\n",
      "from common import images\n",
      "from features import line_casting\n",
      "\n",
      "rf_path = paths.base_path + '/implicit/bigbird/rf/rf_shallow.pkl'"
     ],
     "language": "python",
     "metadata": {},
     "outputs": [],
     "prompt_number": ""
    },
    {
     "cell_type": "code",
     "collapsed": false,
     "input": [
      "rf = pickle.load(open(rf_path, 'rb'))"
     ],
     "language": "python",
     "metadata": {},
     "outputs": [],
     "prompt_number": ""
    },
    {
     "cell_type": "code",
     "collapsed": false,
     "input": [
      "modelname = paths.test_names[0]\n",
      "view_idx = paths.views[10]\n",
      "\n",
      "# load in the ground truth voxel grid \n",
      "gt_grid = voxel_data.BigBirdVoxels()\n",
      "gt_grid.load_bigbird(modelname)\n",
      "\n",
      "# now load the image\n",
      "im = images.CroppedRGBD()\n",
      "im.load_bigbird_from_mat(modelname, view_idx)\n",
      "\n",
      "# create a padded version of the gt grid\n",
      "expanded_gt = voxel_data.expanded_grid(gt_grid)\n",
      "expanded_gt.fill_from_grid(gt_grid)\n",
      "\n",
      "# getting the known full and empty voxels based on the depth image\n",
      "known_full_voxels = voxel_data.get_known_full_grid(im, expanded_gt)\n",
      "known_empty_voxels = voxel_data.get_known_empty_grid(im, expanded_gt, known_full_voxels)[0]\n",
      "\n",
      "# now use final_V to extract the 3D features\n",
      "gt_tsdf_V = expanded_gt.compute_tsdf(0.03)\n",
      "\n",
      "X, Y = line_casting.feature_pairs_3d(known_empty_voxels, known_full_voxels, gt_tsdf_V,\n",
      "                                     samples=-1, base_height=15)"
     ],
     "language": "python",
     "metadata": {},
     "outputs": [],
     "prompt_number": ""
    },
    {
     "cell_type": "code",
     "collapsed": false,
     "input": [
      "Y_pred = rf.predict(X)"
     ],
     "language": "python",
     "metadata": {},
     "outputs": [],
     "prompt_number": ""
    },
    {
     "cell_type": "code",
     "collapsed": false,
     "input": [
      "plt.plot(Y, Y_pred, '.')\n",
      "# should probably do some kind of ROC curve... instead of this!"
     ],
     "language": "python",
     "metadata": {},
     "outputs": [],
     "prompt_number": ""
    },
    {
     "cell_type": "code",
     "collapsed": false,
     "input": [
      "# now recreate the input image from the predictions\n",
      "unknown_voxel_idxs = np.logical_and(known_empty_voxels.V.flatten() == 0,\n",
      "                                        known_full_voxels.V.flatten() == 0)\n",
      "pred_grid = expanded_gt.blank_copy()\n",
      "pred_grid.V = pred_grid.V.astype(np.float64) + 0.03\n",
      "pred_grid.set_indicated_voxels(unknown_voxel_idxs, Y_pred)"
     ],
     "language": "python",
     "metadata": {},
     "outputs": [],
     "prompt_number": ""
    },
    {
     "cell_type": "code",
     "collapsed": false,
     "input": [
      "axis = 0\n",
      "plt.subplot(221)\n",
      "plt.imshow(np.mean(known_empty_voxels.V, axis=axis))\n",
      "plt.subplot(222)\n",
      "plt.imshow(np.mean(known_full_voxels.V, axis=axis))\n",
      "plt.subplot(223)\n",
      "plt.imshow(np.mean(pred_grid.V, axis=axis))\n",
      "plt.colorbar()\n",
      "plt.subplot(224)\n",
      "plt.imshow(np.mean(expanded_gt.compute_tsdf(0.03), axis=axis))\n",
      "plt.colorbar()"
     ],
     "language": "python",
     "metadata": {},
     "outputs": [],
     "prompt_number": ""
    },
    {
     "cell_type": "code",
     "collapsed": false,
     "input": [
      "print paths.views\n"
     ],
     "language": "python",
     "metadata": {},
     "outputs": [],
     "prompt_number": ""
    }
   ],
   "metadata": {}
  }
 ]
}