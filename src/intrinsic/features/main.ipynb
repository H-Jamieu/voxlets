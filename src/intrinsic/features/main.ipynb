{
 "metadata": {
  "name": ""
 },
 "nbformat": 3,
 "nbformat_minor": 0,
 "worksheets": [
  {
   "cells": [
    {
     "cell_type": "code",
     "collapsed": false,
     "input": [
      "%matplotlib inline\n",
      "%load_ext autoreload\n",
      "%autoreload 2\n",
      "\n",
      "import numpy as np\n",
      "\n",
      "import line_casting\n",
      "import line_casting_cython\n",
      "import matplotlib.pyplot as plt\n",
      "plt.rcParams['figure.figsize'] = (20.0, 10.0)"
     ],
     "language": "python",
     "metadata": {},
     "outputs": [],
     "prompt_number": ""
    },
    {
     "cell_type": "code",
     "collapsed": false,
     "input": [
      "import numpy as np\n",
      "import timeit\n",
      "\n",
      "input_im = np.zeros((7, 7), dtype=np.float64) -1\n",
      "input_im[:, 3] = 0\n",
      "input_im[5, :] = 1\n",
      "input_im[0, 6] = 0\n",
      "\n",
      "direction = np.array([1,-1], dtype=np.int32)\n",
      "\n",
      "output = line_casting_cython.outer_loop(input_im, direction)\n",
      "print input_im\n",
      "print output[0]\n",
      "print output[1]\n",
      " \n",
      "print np.min(timeit.repeat(\"output = line_casting_cython.outer_loop(input_im, direction)\", \n",
      "                    setup='from __main__ import line_casting_cython, direction, input_im',\n",
      "                    number=1, repeat=10))"
     ],
     "language": "python",
     "metadata": {},
     "outputs": [],
     "prompt_number": ""
    },
    {
     "cell_type": "code",
     "collapsed": false,
     "input": [
      "# now doing on a tsdf (then when working delete the cell above)\n",
      "from scipy import ndimage\n",
      "import skimage.data\n",
      "import line_casting\n",
      "\n",
      "def tsdf_2d(im, truncation):\n",
      "    '''\n",
      "    assumes '1' values are inside the mask, '0' values are background\n",
      "    '''\n",
      "    # computing signed distance transform\n",
      "    inner_distance = ndimage.distance_transform_edt(im)\n",
      "    outer_distance = ndimage.distance_transform_edt(1-im)\n",
      "    sdf = outer_distance - inner_distance\n",
      "    \n",
      "    # applying truncation\n",
      "    sdf[sdf > truncation] = truncation\n",
      "    sdf[sdf < -truncation] = -truncation\n",
      "    return sdf\n",
      "\n",
      "def occluded_test_image():\n",
      "    \n",
      "    mask = 1 - (skimage.data.horse()[:, :, 0] / 255).astype(np.float64)\n",
      "    tsdf = tsdf_2d(mask, 20)\n",
      "    mask[:, :100] = 0\n",
      "    tsdf[:, :100] = -20\n",
      "    \n",
      "    # here will hack the observed pixels to be something really simple\n",
      "    \n",
      "    observed = np.abs(tsdf) < 2\n",
      "    \n",
      "    return mask, tsdf, observed\n",
      "\n",
      "mask, tsdf, observed = occluded_test_image()\n",
      "\n",
      "plt.subplot(131)\n",
      "plt.imshow(mask)\n",
      "plt.colorbar()\n",
      "plt.subplot(132)\n",
      "plt.imshow(tsdf)\n",
      "plt.colorbar()\n",
      "plt.subplot(133)\n",
      "plt.imshow(observed)\n",
      "plt.colorbar()"
     ],
     "language": "python",
     "metadata": {},
     "outputs": [],
     "prompt_number": ""
    },
    {
     "cell_type": "code",
     "collapsed": false,
     "input": [
      "# now features on image\n",
      "A, B = line_casting.line_features_2d(1-mask, observed)\n",
      "print A[0].shape"
     ],
     "language": "python",
     "metadata": {},
     "outputs": [],
     "prompt_number": ""
    },
    {
     "cell_type": "code",
     "collapsed": false,
     "input": [
      "# plotting\n",
      "plt.subplot(3, 3, 1)\n",
      "plt.imshow(tsdf)\n",
      "plt.colorbar()\n",
      "plt.axis('off')\n",
      "\n",
      "for count, p in enumerate(A):\n",
      "    \n",
      "    plt.subplot(3, 3, count+2)\n",
      "    plt.imshow(p)\n",
      "    plt.axis('off')"
     ],
     "language": "python",
     "metadata": {},
     "outputs": [],
     "prompt_number": ""
    }
   ],
   "metadata": {}
  }
 ]
}