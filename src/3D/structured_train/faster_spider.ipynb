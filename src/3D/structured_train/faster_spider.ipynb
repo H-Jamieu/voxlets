{
 "metadata": {
  "name": ""
 },
 "nbformat": 3,
 "nbformat_minor": 0,
 "worksheets": [
  {
   "cells": [
    {
     "cell_type": "code",
     "collapsed": false,
     "input": [
      "%matplotlib inline\n",
      "%load_ext autoreload\n",
      "%autoreload 2\n",
      "from thickness import compute_data\n",
      "import numpy as np\n",
      "import matplotlib.pyplot as plt"
     ],
     "language": "python",
     "metadata": {},
     "outputs": [],
     "prompt_number": ""
    },
    {
     "cell_type": "code",
     "collapsed": false,
     "input": [
      "from thickness import images\n",
      "from thickness import paths\n",
      "\n",
      "im = images.CADRender()\n",
      "im.load_from_cad_set(paths.modelnames[1], 2)\n",
      "im.compute_edges_and_angles()\n",
      "plt.imshow(im.edges)"
     ],
     "language": "python",
     "metadata": {},
     "outputs": [],
     "prompt_number": ""
    },
    {
     "cell_type": "code",
     "collapsed": false,
     "input": [
      "def lr_dist_transform(edge_im):\n",
      "    print edge_im.shape\n",
      "    out_im = np.nan * np.copy(edge_im).astype(np.float)\n",
      "    print out_im.shape\n",
      "    for row_idx, row in enumerate(edge_im):\n",
      "        if np.any(row):\n",
      "            count = np.nan\n",
      "            for col_idx, pix in enumerate(row):\n",
      "                if pix:\n",
      "                    count = 0\n",
      "                else:\n",
      "                    count += 1\n",
      "                out_im[row_idx, col_idx] = count\n",
      "    return out_im\n",
      "\n",
      "def rl_dist_transform(edge_im):\n",
      "    return np.fliplr(lr_dist_transform(np.fliplr(edge_im)))\n",
      "\n",
      "def tb_dist_transform(edge_im):\n",
      "    return lr_dist_transform(edge_im.T).T\n",
      "\n",
      "def bt_dist_transform(edge_im):\n",
      "    return rl_dist_transform(edge_im.T).T\n",
      "\n",
      "#%timeit im_out = axis_aligned_dist_transform(im.edges)\n",
      "\n",
      "im_out1 = bt_dist_transform(im.edges)\n",
      "\n",
      "plt.imshow(im_out1)\n",
      "print np.nanmax(im_out1)\n",
      "\n",
      "plt.colorbar()"
     ],
     "language": "python",
     "metadata": {},
     "outputs": [],
     "prompt_number": ""
    },
    {
     "cell_type": "code",
     "collapsed": false,
     "input": [],
     "language": "python",
     "metadata": {},
     "outputs": []
    },
    {
     "cell_type": "code",
     "collapsed": false,
     "input": [
      "#import cv2\n",
      "#cv2.transform"
     ],
     "language": "python",
     "metadata": {},
     "outputs": [],
     "prompt_number": ""
    },
    {
     "cell_type": "code",
     "collapsed": false,
     "input": [],
     "language": "python",
     "metadata": {},
     "outputs": []
    }
   ],
   "metadata": {}
  }
 ]
}