{
 "metadata": {
  "name": ""
 },
 "nbformat": 3,
 "nbformat_minor": 0,
 "worksheets": [
  {
   "cells": [
    {
     "cell_type": "code",
     "collapsed": false,
     "input": [
      "%matplotlib inline\n",
      "%load_ext autoreload\n",
      "%autoreload 2\n",
      "from thickness import compute_data\n",
      "import numpy as np\n",
      "import matplotlib.pyplot as plt"
     ],
     "language": "python",
     "metadata": {},
     "outputs": [],
     "prompt_number": ""
    },
    {
     "cell_type": "code",
     "collapsed": false,
     "input": [
      "from thickness import images\n",
      "from thickness import paths\n",
      "\n",
      "im = images.CADRender()\n",
      "im.load_from_cad_set(paths.modelnames[1], 2)\n",
      "im.compute_edges_and_angles()\n",
      "plt.imshow(im.edges)"
     ],
     "language": "python",
     "metadata": {},
     "outputs": [],
     "prompt_number": ""
    },
    {
     "cell_type": "code",
     "collapsed": false,
     "input": [
      "-\n",
      "    \n",
      "    \n",
      "\n",
      "#%timeit im_out = axis_aligned_dist_transform(im.edges)\n",
      "\n",
      "#im_out1 = bt_dist_transform(im.edges)\n",
      "im_out1 = nw_dist_transform(im.edges)\n",
      "\n",
      "plt.imshow(im_out1)\n",
      "print np.nanmax(im_out1)\n",
      "\n",
      "plt.colorbar()"
     ],
     "language": "python",
     "metadata": {},
     "outputs": [],
     "prompt_number": ""
    },
    {
     "cell_type": "code",
     "collapsed": false,
     "input": [
      "from thickness import features\n",
      "trans = features.DistanceTransforms()\n",
      "trans.set_edge_im(im.edges)\n",
      "%timeit coms = trans.get_compass_images()\n",
      "\n",
      "for idx, com in enumerate(coms):\n",
      "    plt.subplot(3, 3, idx+1)\n",
      "    plt.imshow(com)\n"
     ],
     "language": "python",
     "metadata": {},
     "outputs": [],
     "prompt_number": ""
    },
    {
     "cell_type": "code",
     "collapsed": false,
     "input": [
      "import scipy.ndimage.interpolation\n",
      "im2 = scipy.ndimage.interpolation.rotate(im.edges, 45)\n",
      "plt.subplot(121)\n",
      "plt.imshow(im.edges)\n",
      "plt.subplot(122)\n",
      "plt.imshow(im2)"
     ],
     "language": "python",
     "metadata": {},
     "outputs": [],
     "prompt_number": ""
    },
    {
     "cell_type": "code",
     "collapsed": false,
     "input": [
      "#import cv2\n",
      "#cv2.transform"
     ],
     "language": "python",
     "metadata": {},
     "outputs": [],
     "prompt_number": ""
    },
    {
     "cell_type": "code",
     "collapsed": false,
     "input": [
      "np.random.randint(6)"
     ],
     "language": "python",
     "metadata": {},
     "outputs": [],
     "prompt_number": ""
    }
   ],
   "metadata": {}
  }
 ]
}