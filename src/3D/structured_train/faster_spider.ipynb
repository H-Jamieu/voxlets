{
 "metadata": {
  "name": ""
 },
 "nbformat": 3,
 "nbformat_minor": 0,
 "worksheets": [
  {
   "cells": [
    {
     "cell_type": "code",
     "collapsed": false,
     "input": [
      "%matplotlib inline\n",
      "%load_ext autoreload\n",
      "%autoreload 2\n",
      "import patches_py\n",
      "import compute_data\n",
      "import numpy as np\n",
      "import matplotlib.pyplot as plt"
     ],
     "language": "python",
     "metadata": {},
     "outputs": [],
     "prompt_number": ""
    },
    {
     "cell_type": "code",
     "collapsed": false,
     "input": [
      "modelname = '109d55a137c042f5760315ac3bf2c13e'\n",
      "view_idx = 12\n",
      "\n",
      "# loading in all data for this object\n",
      "features_per_view = 10\n",
      "\n",
      "engine = compute_data.DepthFeatureEngine(modelname, view_idx)\n",
      "engine.sample_from_mask(features_per_view)\n",
      "engine.compute_features_and_depths()\n",
      "\n",
      "fse = patches_py.FastSpiderEngine(engine.frontrender)"
     ],
     "language": "python",
     "metadata": {},
     "outputs": [],
     "prompt_number": ""
    },
    {
     "cell_type": "code",
     "collapsed": false,
     "input": [
      "%timeit fse.rotate_depth_edges(angles=range(0, 45, 5))"
     ],
     "language": "python",
     "metadata": {},
     "outputs": [],
     "prompt_number": ""
    },
    {
     "cell_type": "code",
     "collapsed": false,
     "input": [
      "plt.rcParams['figure.figsize'] = (20.0, 8.0)\n",
      "\n",
      "plt.clf()\n",
      "for idx, im in enumerate(fse.rotated_edges):\n",
      "    plt.subplot(3,3,idx+1)\n",
      "    plt.imshow(im)"
     ],
     "language": "python",
     "metadata": {},
     "outputs": [],
     "prompt_number": ""
    },
    {
     "cell_type": "code",
     "collapsed": false,
     "input": [
      "engine = compute_data.DepthFeatureEngine(modelname, view_idx)\n",
      "engine.sample_from_mask(features_per_view)\n",
      "engine.compute_features_and_depths()\n",
      "\n",
      "fse = patches_py.FastSpiderEngine(engine.frontrender)\n",
      "fse.angles_image = engine.patch_extractor.angles\n",
      "fast = fse.compute_spider_feature((160, 170))\n",
      "\n",
      "se = patches_py.SpiderEngine(engine.frontrender)\n",
      "#se.focal_length = 240.0/(np.tan(np.rad2deg(43.0/2.0))) / 2.0\n",
      "se.angles_image = engine.patch_extractor.angles\n",
      "slow = se.compute_spider_feature((160, 170))\n",
      "#plt.imshow(fse.im_rot)\n",
      "\n",
      "plt.plot(fast, 'r-')\n",
      "plt.hold(True)\n",
      "plt.plot(np.array(slow), 'b-')\n",
      "plt.hold(False)\n",
      "print fast\n",
      "print slow\n"
     ],
     "language": "python",
     "metadata": {},
     "outputs": [],
     "prompt_number": ""
    },
    {
     "cell_type": "code",
     "collapsed": false,
     "input": [
      "plt.imshow(se.blank_im)"
     ],
     "language": "python",
     "metadata": {},
     "outputs": [],
     "prompt_number": ""
    },
    {
     "cell_type": "code",
     "collapsed": false,
     "input": [
      "#%lprun -f  fse.orthogonal_spider_features fse.compute_spider_feature((160, 180))\n",
      "%timeit fse.compute_spider_feature((160, 180))"
     ],
     "language": "python",
     "metadata": {},
     "outputs": [],
     "prompt_number": ""
    },
    {
     "cell_type": "code",
     "collapsed": false,
     "input": [
      "slow = se.compute_spider_feature((160, 180))\n",
      "fast = fse.compute_spider_feature((160, 180))\n",
      "print slow\n",
      "print fast"
     ],
     "language": "python",
     "metadata": {},
     "outputs": [],
     "prompt_number": ""
    },
    {
     "cell_type": "code",
     "collapsed": false,
     "input": [],
     "language": "python",
     "metadata": {},
     "outputs": []
    }
   ],
   "metadata": {}
  }
 ]
}