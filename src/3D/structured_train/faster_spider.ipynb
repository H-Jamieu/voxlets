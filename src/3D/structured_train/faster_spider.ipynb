{
 "metadata": {
  "name": ""
 },
 "nbformat": 3,
 "nbformat_minor": 0,
 "worksheets": [
  {
   "cells": [
    {
     "cell_type": "code",
     "collapsed": false,
     "input": [
      "%matplotlib inline\n",
      "%load_ext autoreload\n",
      "%autoreload 2\n",
      "from thickness import compute_data\n",
      "import numpy as np\n",
      "import matplotlib.pyplot as plt"
     ],
     "language": "python",
     "metadata": {},
     "outputs": [],
     "prompt_number": ""
    },
    {
     "cell_type": "code",
     "collapsed": false,
     "input": [
      "from thickness import images\n",
      "from thickness import paths\n",
      "\n",
      "im = images.CADRender()\n",
      "im.load_from_cad_set(paths.modelnames[2], 2)\n",
      "im.compute_edges_and_angles(20.0)\n",
      "plt.imshow(im.edges)"
     ],
     "language": "python",
     "metadata": {},
     "outputs": [],
     "prompt_number": ""
    },
    {
     "cell_type": "code",
     "collapsed": false,
     "input": [
      "plt.rcParams['figure.figsize'] = (20.0, 8.0)\n",
      "from thickness import features\n",
      "trans = features.DistanceTransforms()\n",
      "im.set_intrinsics(np.array([[570.0/2, 0, 160], [0, 570.0/2, 120], [0, 0, 1.0]]))\n",
      "im.compute_ray_image()\n",
      "trans.set_im(im)\n",
      "coms = trans.get_compass_images()\n",
      "\n",
      "for idx, com in enumerate(coms):\n",
      "    plt.subplot(3, 3, idx+1)\n",
      "    plt.imshow(com[:, :, 1])"
     ],
     "language": "python",
     "metadata": {},
     "outputs": [],
     "prompt_number": ""
    },
    {
     "cell_type": "code",
     "collapsed": false,
     "input": [
      "plt.clf()\n",
      "plt.subplot(121)\n",
      "plt.imshow(coms[0][:, :, 0])\n",
      "plt.subplot(122)\n",
      "plt.imshow(coms[0][:, :, 1])"
     ],
     "language": "python",
     "metadata": {},
     "outputs": [],
     "prompt_number": ""
    },
    {
     "cell_type": "code",
     "collapsed": false,
     "input": [
      "plt.clf()\n",
      "t_rays = np.copy(im.ray_image)\n",
      "t_rays[im.edges] = np.nan\n",
      "#plt.imshow(t_d)\n",
      "for idx in range(150, 170):\n",
      "    plt.plot(t_rays[idx, :])\n",
      "    plt.hold(True)\n",
      "plt.hold(False)\n",
      "#plt.axis('equal')\n",
      "#plt.clf()\n",
      "#plt.subplot(121)\n",
      "#plt.imshow(coms[0][:, :, 0])\n",
      "##plt.subplot(122)\n",
      "#plt.imshow(coms[0][:, :, 1])\n",
      "#plt.colorbar()\n",
      "#plt.imshow(im.ray_image)"
     ],
     "language": "python",
     "metadata": {},
     "outputs": [],
     "prompt_number": ""
    },
    {
     "cell_type": "code",
     "collapsed": false,
     "input": [
      "import scipy.ndimage.interpolation\n",
      "im2 = scipy.ndimage.interpolation.rotate(im.edges, 45)\n",
      "plt.subplot(121)\n",
      "plt.imshow(im.edges)\n",
      "plt.subplot(122)\n",
      "plt.imshow(im2)"
     ],
     "language": "python",
     "metadata": {},
     "outputs": [],
     "prompt_number": ""
    },
    {
     "cell_type": "code",
     "collapsed": false,
     "input": [
      "im.disp_channels\n"
     ],
     "language": "python",
     "metadata": {},
     "outputs": [],
     "prompt_number": ""
    },
    {
     "cell_type": "code",
     "collapsed": false,
     "input": [
      "np.random.randint(6)"
     ],
     "language": "python",
     "metadata": {},
     "outputs": [],
     "prompt_number": ""
    }
   ],
   "metadata": {}
  }
 ]
}