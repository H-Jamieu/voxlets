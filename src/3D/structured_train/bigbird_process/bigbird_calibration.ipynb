{
 "metadata": {
  "name": ""
 },
 "nbformat": 3,
 "nbformat_minor": 0,
 "worksheets": [
  {
   "cells": [
    {
     "cell_type": "code",
     "collapsed": false,
     "input": [
      "%matplotlib inline\n",
      "%load_ext autoreload\n",
      "%autoreload 2\n",
      "from thickness import images\n",
      "from thickness import paths\n",
      "from thickness import mesh\n",
      "import matplotlib.pyplot as plt\n",
      "import numpy as np\n",
      "import h5py"
     ],
     "language": "python",
     "metadata": {},
     "outputs": [],
     "prompt_number": ""
    },
    {
     "cell_type": "code",
     "collapsed": false,
     "input": [
      "im = images.MaskedRGBD()\n",
      "im.load_bigbird(\"coffee_mate_french_vanilla\", \"NP5_144\")\n",
      "im.compute_edges_and_angles()\n",
      "im.disp_channels()"
     ],
     "language": "python",
     "metadata": {},
     "outputs": [],
     "prompt_number": ""
    },
    {
     "cell_type": "code",
     "collapsed": false,
     "input": [
      "plt.rcParams['figure.figsize'] = (20.0, 8.0)\n",
      "\n",
      "ms = mesh.BigbirdMesh()\n",
      "ms.load_from_ply('/Users/Michael/Downloads/' + im.modelname + '/meshes/poisson.ply')\n",
      "\n",
      "cam = mesh.Camera()\n",
      "cam.load_bigbird_matrices(im.modelname, im.view_idx)\n",
      "xy = cam.project_points(ms.vertices)\n",
      "\n",
      "plt.imshow(im.depth)\n",
      "plt.hold(True)\n",
      "plt.plot(xy[:, 0], xy[:, 1], '.r')\n",
      "plt.hold(False)\n",
      "plt.show()"
     ],
     "language": "python",
     "metadata": {},
     "outputs": [],
     "prompt_number": ""
    },
    {
     "cell_type": "code",
     "collapsed": false,
     "input": [
      "im.view_idx.split('_')"
     ],
     "language": "python",
     "metadata": {},
     "outputs": [],
     "prompt_number": ""
    }
   ],
   "metadata": {}
  }
 ]
}