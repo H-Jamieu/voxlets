{
 "metadata": {
  "name": ""
 },
 "nbformat": 3,
 "nbformat_minor": 0,
 "worksheets": [
  {
   "cells": [
    {
     "cell_type": "code",
     "collapsed": false,
     "input": [
      "%matplotlib inline\n",
      "%load_ext autoreload\n",
      "%autoreload 2\n",
      "\n",
      "import numpy as np\n",
      "import matplotlib.pyplot as plt\n",
      "from sklearn.ensemble import RandomForestRegressor\n",
      "from sklearn import neighbors\n",
      "import cPickle as pickle\n",
      "\n",
      "from thickness import compute_data\n",
      "from thickness import voxel_data\n",
      "from thickness import paths\n",
      "from thickness import images"
     ],
     "language": "python",
     "metadata": {},
     "outputs": [],
     "prompt_number": ""
    },
    {
     "cell_type": "code",
     "collapsed": false,
     "input": [
      "%pdb off\n",
      "modelname = paths.modelnames[2]\n",
      "view_idx = 12\n",
      "\n",
      "# loading in all data for this object\n",
      "features_per_view = 500\n",
      "\n",
      "def compute_features(idx, rotated, fixed_patch_size=True):\n",
      "    im = images.CADRender()\n",
      "    im.load_from_cad_set(modelname, idx+1)\n",
      "    im.compute_edges_and_angles()\n",
      "    \n",
      "    engine = compute_data.DepthFeatureEngine()\n",
      "    engine.set_image(im)\n",
      "    if features_per_view == -1:\n",
      "        engine.dense_sample_from_mask()\n",
      "    else:\n",
      "        engine.random_sample_from_mask(features_per_view)\n",
      "    engine.im.compute_edges_and_angles()\n",
      "    if not rotated: \n",
      "        engine.im.set_angles_to_zero()\n",
      "    engine.patch_extractor.fixed_patch_size = fixed_patch_size\n",
      "    if not fixed_patch_size:\n",
      "        engine.patch_extractor.t= 1.5 * float(7)        \n",
      "    engine.compute_features_and_depths(features=['cobweb'])\n",
      "    \n",
      "    print str(idx),\n",
      "    return engine.features_and_depths_as_dict()\n",
      "\n",
      "all_features = [[compute_features(idx, rotated=False, fixed_patch_size=True) for idx in range(42)],\n",
      "                [compute_features(idx, rotated=True, fixed_patch_size=True) for idx in range(42)],\n",
      "                [compute_features(idx, rotated=True, fixed_patch_size=False) for idx in range(42)]]\n"
     ],
     "language": "python",
     "metadata": {},
     "outputs": [],
     "prompt_number": ""
    },
    {
     "cell_type": "code",
     "collapsed": false,
     "input": [
      "# extracting training data\n",
      "def extract_training_X(featureset, view_idx):\n",
      "    all_X = [feature['patch_features'] for feature in featureset]\n",
      "    del all_X[view_idx-1]\n",
      "    all_X_array = np.array(all_X).reshape((-1, len(all_X[0][0])))\n",
      "    all_X_array[np.isnan(all_X_array)] = 5\n",
      "    return all_X_array\n",
      "\n",
      "def extract_training_Y(featureset, view_idx):\n",
      "    train_Y = [feature['depth_diffs'] for feature in featureset]    \n",
      "    del train_Y[view_idx-1]\n",
      "    return np.array(train_Y).flatten()\n",
      "    \n",
      "train_X = [extract_training_X(featureset, view_idx) for featureset in all_features]\n",
      "train_Y = [extract_training_Y(featureset, view_idx) for featureset in all_features]\n",
      "\n",
      "print train_Y[0].shape\n",
      "print train_X[0].shape\n",
      "print len(train_Y)"
     ],
     "language": "python",
     "metadata": {},
     "outputs": [],
     "prompt_number": ""
    },
    {
     "cell_type": "code",
     "collapsed": false,
     "input": [
      "# extracting test datasets\n",
      "def get_test_data(view_idx, rotated, fixed_patch_size):\n",
      "    im = images.CADRender()\n",
      "    im.load_from_cad_set(modelname, view_idx)\n",
      "    im.compute_edges_and_angles()\n",
      "    \n",
      "    engine = compute_data.DepthFeatureEngine()\n",
      "    engine.set_image(im)\n",
      "    engine.dense_sample_from_mask()\n",
      "    engine.im.compute_edges_and_angles()\n",
      "    if not rotated:\n",
      "        engine.im.set_angles_to_zero()\n",
      "    engine.patch_extractor.fixed_patch_size = fixed_patch_size\n",
      "    if not fixed_patch_size:\n",
      "        engine.patch_extractor.t= 1.5 * float(7)        \n",
      "    engine.compute_features_and_depths(features=['cobweb'])\n",
      "    \n",
      "    all_test_data = engine.features_and_depths_as_dict()\n",
      "\n",
      "    test = {}    \n",
      "    test['idxs'] = all_test_data['indices'].T\n",
      "    test['X'] = np.array(all_test_data['patch_features'])\n",
      "    test['X'][np.isnan(test['X'])] = 5\n",
      "    test['Y_gt'] = all_test_data['depth_diffs']\n",
      "    return test\n",
      "\n",
      "test_data = [get_test_data(view_idx, rotated=False, fixed_patch_size=True),\n",
      "             get_test_data(view_idx, rotated=True, fixed_patch_size=True),\n",
      "             get_test_data(view_idx, rotated=True, fixed_patch_size=False)]"
     ],
     "language": "python",
     "metadata": {},
     "outputs": [],
     "prompt_number": ""
    },
    {
     "cell_type": "code",
     "collapsed": false,
     "input": [
      "# Training and fitting the forest\n",
      "def train_forest(X, Y):\n",
      "    rf = RandomForestRegressor(n_estimators=20,n_jobs=4,random_state=1,max_depth=20)\n",
      "    rf.fit(X, Y)\n",
      "    print \"Done\"\n",
      "    return rf\n",
      "\n",
      "rfs = [train_forest(X, Y) for X, Y in zip(train_X, train_Y)]\n"
     ],
     "language": "python",
     "metadata": {},
     "outputs": [],
     "prompt_number": ""
    },
    {
     "cell_type": "code",
     "collapsed": false,
     "input": [
      "# doing prediction\n",
      "Y_pred = [rf.predict(test['X']) for rf, test in zip(rfs, test_data)]"
     ],
     "language": "python",
     "metadata": {},
     "outputs": [],
     "prompt_number": ""
    },
    {
     "cell_type": "code",
     "collapsed": false,
     "input": [
      "plt.rcParams['figure.figsize'] = (20.0, 8.0)\n",
      "\n",
      "# reconstructing prediction image\n",
      "from thickness import displaying as disp\n",
      "\n",
      "im_idxs = test_data[0]['idxs']\n",
      "predictions = [disp.reconstruct_image(im_idxs, Y, (240, 320)) for Y in Y_pred]\n",
      "GT_image = disp.reconstruct_image(im_idxs, np.array(test_data[0]['Y_gt']), (240, 320))\n",
      "\n",
      "out = disp.crop_concatenate((GT_image, predictions[0], predictions[1], predictions[2]), 10)\n",
      "plt.imshow(out, interpolation='none')\n",
      "plt.clim(0., 0.4)\n",
      "plt.colorbar()\n",
      "plt.show()"
     ],
     "language": "python",
     "metadata": {},
     "outputs": [],
     "prompt_number": ""
    },
    {
     "cell_type": "code",
     "collapsed": false,
     "input": [
      "im = images.CADRender()\n",
      "im.load_from_cad_set(modelname, 13)\n",
      "plt.imshow(im.depth)\n",
      "plt.colorbar()"
     ],
     "language": "python",
     "metadata": {},
     "outputs": [],
     "prompt_number": ""
    },
    {
     "cell_type": "code",
     "collapsed": false,
     "input": [
      "plt.rcParams['figure.figsize'] = (10.0, 8.0)\n",
      "plt.matshow(np.reshape(rfs[0].feature_importances_, (15, 15)))\n",
      "plt.colorbar()"
     ],
     "language": "python",
     "metadata": {},
     "outputs": []
    },
    {
     "cell_type": "code",
     "collapsed": false,
     "input": [
      "# want to show all the other views\n",
      "for idx in range(42):\n",
      "    engine = compute_data.depth_feature_engine(modelname, idx+1)\n",
      "    plt.subplot(6, 7, idx)\n",
      "    plt.imshow(engine.frontrender)\n",
      "#    plt.axes(False)\n",
      "plt.show()"
     ],
     "language": "python",
     "metadata": {},
     "outputs": []
    },
    {
     "cell_type": "code",
     "collapsed": false,
     "input": [
      "#med = np.median(train_X, axis=0)\n",
      "plt.rcParams['figure.figsize'] = (10.0, 7.0)\n",
      "to_use = np.sum(np.isnan(train_X[1]), axis=1) == 0\n",
      "print np.sum(to_use)\n",
      "mean = np.mean(train_X[0][to_use, :], axis=0)\n",
      "var = np.var(train_X[0][to_use, :], axis=0)\n",
      "#suma = np.sum(np.abs(train_X), axis=0)\u2020wa\n",
      "plt.subplot(131)\n",
      "plt.imshow(mean.reshape((15, 15)), interpolation='none')\n",
      "plt.colorbar()\n",
      "plt.subplot(132)\n",
      "plt.imshow(var.reshape((15, 15)), interpolation='none')\n",
      "plt.colorbar()\n",
      "plt.subplot(133)\n",
      "#plt.imshow(np.sum(np.isnan(train_X), axis=0).reshape((15, 15)), interpolation='none')\n",
      "plt.colorbar()\n",
      "#plt.clf()\n"
     ],
     "language": "python",
     "metadata": {},
     "outputs": []
    },
    {
     "cell_type": "code",
     "collapsed": false,
     "input": [
      "engine = compute_data.DepthFeatureEngine(modelname, idx+1)\n",
      "temp = engine.frontrender.flatten()\n",
      "temp = temp[~np.isnan(temp)]\n",
      "plt.hist(temp, 100)\n",
      "plt.show()\n",
      "print temp.shape"
     ],
     "language": "python",
     "metadata": {},
     "outputs": []
    },
    {
     "cell_type": "code",
     "collapsed": false,
     "input": [
      "print np.min(temp)\n",
      "print temp.shape"
     ],
     "language": "python",
     "metadata": {},
     "outputs": []
    },
    {
     "cell_type": "code",
     "collapsed": false,
     "input": [],
     "language": "python",
     "metadata": {},
     "outputs": []
    }
   ],
   "metadata": {}
  }
 ]
}