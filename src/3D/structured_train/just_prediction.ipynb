{
 "metadata": {
  "name": ""
 },
 "nbformat": 3,
 "nbformat_minor": 0,
 "worksheets": [
  {
   "cells": [
    {
     "cell_type": "code",
     "collapsed": false,
     "input": [
      "%matplotlib inline\n",
      "%load_ext autoreload\n",
      "%autoreload 2\n",
      "import numpy as np\n",
      "import matplotlib.pyplot as plt\n",
      "import scipy.io\n",
      "import paths\n",
      "import loadsave\n",
      "import compute_data\n",
      "import displaying as disp\n",
      "from sklearn import neighbors\n",
      "\n",
      "small_model = True\n",
      "\n",
      "# Loading in the training data from file to use\n",
      "rf = loadsave.load_model('patch_250k_10trees')\n",
      "knn = loadsave.load_model('patch_5k_nn')"
     ],
     "language": "python",
     "metadata": {},
     "outputs": [],
     "prompt_number": ""
    },
    {
     "cell_type": "code",
     "collapsed": false,
     "input": [
      "# loading in the test data and computing features\n",
      "modelname = loadsave.load_object_names('test')[12]\n",
      "print modelname\n",
      "view_idx = 15\n",
      "\n",
      "# loading the features to test on and the ground truth data\n",
      "engine = compute_data.depth_feature_engine(modelname, view_idx+1)\n",
      "engine.sample_from_mask(-1)\n",
      "engine.compute_features_and_depths()\n",
      "all_features = engine.features_and_depths_as_dict()\n",
      "\n",
      "X = np.array(all_features['patch_features'])\n",
      "X[np.isnan(X)] = -10\n",
      "Y_gt = np.array(all_features['depth_diffs'])\n"
     ],
     "language": "python",
     "metadata": {},
     "outputs": [],
     "prompt_number": ""
    },
    {
     "cell_type": "code",
     "collapsed": false,
     "input": [
      "# doing prediction\n",
      "Y_pred_rf = rf.predict(X)"
     ],
     "language": "python",
     "metadata": {},
     "outputs": [],
     "prompt_number": ""
    },
    {
     "cell_type": "code",
     "collapsed": false,
     "input": [
      "plt.rcParams['figure.figsize'] = (15.0, 18.0)\n",
      "\n",
      "# reconstructing prediction image\n",
      "test_idxs = all_features['indices'].T\n",
      "prediction_rf = disp.reconstruct_image(test_idxs, Y_pred_rf, (240, 320))\n",
      "GT_image = disp.reconstruct_image(test_idxs, np.array(Y_gt), (240, 320))\n",
      "\n",
      "out = disp.crop_concatenate((GT_image, prediction_rf), 10)\n",
      "\n",
      "plt.imshow(out)\n",
      "plt.show()"
     ],
     "language": "python",
     "metadata": {},
     "outputs": [],
     "prompt_number": ""
    },
    {
     "cell_type": "code",
     "collapsed": false,
     "input": [
      "plt.hist(Y_gt[~np.isnan(Y_gt)], 100)\n",
      "plt.show()\n"
     ],
     "language": "python",
     "metadata": {},
     "outputs": [],
     "prompt_number": ""
    },
    {
     "cell_type": "code",
     "collapsed": false,
     "input": [],
     "language": "python",
     "metadata": {},
     "outputs": []
    }
   ],
   "metadata": {}
  }
 ]
}