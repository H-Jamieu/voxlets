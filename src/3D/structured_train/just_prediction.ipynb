{
 "metadata": {
  "name": ""
 },
 "nbformat": 3,
 "nbformat_minor": 0,
 "worksheets": [
  {
   "cells": [
    {
     "cell_type": "code",
     "collapsed": false,
     "input": [
      "%matplotlib inline\n",
      "%load_ext autoreload\n",
      "%autoreload 2\n",
      "import numpy as np\n",
      "import matplotlib.pyplot as plt\n",
      "import scipy.io\n",
      "import paths\n",
      "from thickness import loadsave\n",
      "from thickness import compute_data\n",
      "from thickness import combine_data\n",
      "from thickness import displaying as disp\n",
      "\n",
      "small_model = True"
     ],
     "language": "python",
     "metadata": {},
     "outputs": [],
     "prompt_number": ""
    },
    {
     "cell_type": "code",
     "collapsed": false,
     "input": [
      "# Loading in the training data from file to use\n",
      "rf = loadsave.load_model('patch_spider_5k_10trees')"
     ],
     "language": "python",
     "metadata": {},
     "outputs": [],
     "prompt_number": ""
    },
    {
     "cell_type": "code",
     "collapsed": false,
     "input": [
      "\n",
      "\n",
      "# loading in the test data and computing features\n",
      "modelname = '1b64b36bf7ddae3d7ad11050da24bb12'#loadsave.load_object_names('test')[1]\n",
      "print modelname\n",
      "view_idx = 15\n",
      "\n",
      "# loading the features to test on and the ground truth data\n",
      "engine = compute_data.DepthFeatureEngine(modelname, view_idx+1)\n",
      "engine.sample_from_mask(-1)\n",
      "print engine.indices.shape\n",
      "engine.compute_features_and_depths()\n",
      "print engine.indices.shape\n",
      "all_features = engine.features_and_depths_as_dict()\n",
      "print engine.indices.shape\n",
      "print all_features['indices'].shape"
     ],
     "language": "python",
     "metadata": {},
     "outputs": [],
     "prompt_number": ""
    },
    {
     "cell_type": "code",
     "collapsed": false,
     "input": [
      "print rf.feature_importances_.shape"
     ],
     "language": "python",
     "metadata": {},
     "outputs": [],
     "prompt_number": ""
    },
    {
     "cell_type": "code",
     "collapsed": false,
     "input": [
      "patch = np.array(all_features['patch_features'])\n",
      "patch[np.isnan(patch)] = 5\n",
      "spider = np.array(all_features['spider_features'])\n",
      "spider = combine_data.replace_nans_with_col_means(spider)\n",
      "X = np.concatenate((patch, spider), axis=1)\n",
      "#X[np.isnan(X)] = -10\n",
      "Y_gt = np.array(all_features['depth_diffs'])"
     ],
     "language": "python",
     "metadata": {},
     "outputs": [],
     "prompt_number": ""
    },
    {
     "cell_type": "code",
     "collapsed": false,
     "input": [
      "plt.imshow(X[:100, :])\n",
      "plt.colorbar()\n",
      "plt.clim((0, 0.01))\n",
      "plt.show()\n"
     ],
     "language": "python",
     "metadata": {},
     "outputs": [],
     "prompt_number": ""
    },
    {
     "cell_type": "code",
     "collapsed": false,
     "input": [
      "# doing prediction\n",
      "Y_pred_rf = rf.predict(X)"
     ],
     "language": "python",
     "metadata": {},
     "outputs": [],
     "prompt_number": ""
    },
    {
     "cell_type": "code",
     "collapsed": false,
     "input": [
      "plt.rcParams['figure.figsize'] = (15.0, 8.0)\n",
      "\n",
      "# reconstructing prediction image\n",
      "test_idxs = np.array(all_features['indices']).T\n",
      "angles = engine.patch_extractor.angles\n",
      "prediction_rf = disp.reconstruct_image(test_idxs, Y_pred_rf, (240, 320))\n",
      "GT_image = disp.reconstruct_image(test_idxs, np.array(Y_gt), (240, 320))\n",
      "\n",
      "out = disp.crop_concatenate((GT_image, prediction_rf), 10)\n",
      "\n",
      "plt.imshow(out)\n",
      "plt.colorbar()\n",
      "plt.show()"
     ],
     "language": "python",
     "metadata": {},
     "outputs": [],
     "prompt_number": ""
    },
    {
     "cell_type": "code",
     "collapsed": false,
     "input": [
      "# plotting percentage error\n",
      "\n",
      "plt.imshow(prediction_rf / GT_image)\n",
      "plt.clim((0, 2))\n",
      "plt.colorbar()\n",
      "\n",
      "plt.show()"
     ],
     "language": "python",
     "metadata": {},
     "outputs": [],
     "prompt_number": ""
    },
    {
     "cell_type": "code",
     "collapsed": false,
     "input": [
      "# doing the voxel predictions of this view...\n",
      "\n",
      "import voxel_data\n",
      "\n",
      "def predict_per_tree(random_forest, X):\n",
      "    return np.array([tree.predict(X) for tree in random_forest.estimators_])    \n",
      "\n",
      "all_trees = predict_per_tree(rf, X)\n",
      "\n",
      "frontrender = engine.frontrender#(modelname, view_idx)\n",
      "#frontrender = compute_data.load_frontrender(modelname, view_idx)\n",
      "depth_predictions = np.array([disp.reconstruct_image(test_idxs, tree, (240, 320)) for tree in all_trees])\n",
      "back_predictions = depth_predictions + frontrender\n",
      "\n",
      "#vol = volume_convert(frontrender, depth_predictions, 304.6,start_depth=-1, end_depth=-1)\n",
      "V = voxel_data.scene_voxels(frontrender, back_predictions)"
     ],
     "language": "python",
     "metadata": {},
     "outputs": [],
     "prompt_number": ""
    },
    {
     "cell_type": "code",
     "collapsed": false,
     "input": [
      "# showing a slice.\n",
      "# should really make basically all of this part of the voxel routine...\n",
      "engine.load_frontrender(modelname, view_idx+1)\n",
      "plt.rcParams['figure.figsize'] = (16.0, 16.0)\n",
      "slice_idx = 180\n",
      "warped_shape = V.extract_warped_slice(slice_idx=slice_idx, maxdepth=4.2)[0:120, :]\n",
      "plt.subplot(2, 2, 1)\n",
      "im = np.copy(engine.frontrender)\n",
      "im[slice_idx, :] = 1\n",
      "plt.imshow(im)\n",
      "plt.subplot(2, 2, 3)\n",
      "plt.imshow(warped_shape[:120, 200:520])\n",
      "plt.ylim((0, warped_shape.shape[0]))\n",
      "plt.subplot(2, 2, 2)\n",
      "plt.imshow(warped_shape[:80, 300:420])\n",
      "\n",
      "plt.show()\n",
      "print V.vol.shape"
     ],
     "language": "python",
     "metadata": {},
     "outputs": [],
     "prompt_number": ""
    },
    {
     "cell_type": "code",
     "collapsed": false,
     "input": [
      "# doing the voxel predictions of this view...\n",
      "\n",
      "import voxel_data\n",
      "\n",
      "def predict_per_tree(random_forest, X):\n",
      "    return np.array([tree.predict(X) for tree in random_forest.estimators_])    \n",
      "\n",
      "all_trees = predict_per_tree(rf, X)\n",
      "\n",
      "frontrender = engine.frontrender#(modelname, view_idx)\n",
      "#frontrender = compute_data.load_frontrender(modelname, view_idx)\n",
      "depth_predictions = np.array([disp.reconstruct_image(test_idxs, tree, (240, 320)) for tree in all_trees])\n",
      "back_predictions = depth_predictions + frontrender\n",
      "\n",
      "#vol = volume_convert(frontrender, depth_predictions, 304.6,start_depth=-1, end_depth=-1)\n",
      "V = voxel_data.scene_voxels()\n",
      "V.set_renders(frontrender, back_predictions)\n",
      "thisslice = V.fill_slice(180)\n",
      "plt.imshow(thisslice)"
     ],
     "language": "python",
     "metadata": {},
     "outputs": [],
     "prompt_number": ""
    },
    {
     "cell_type": "code",
     "collapsed": false,
     "input": [
      "plt.rcParams['figure.figsize'] = (15.0, 8.0)\n",
      "\n",
      "# reconstructing prediction image\n",
      "med_spider = np.median(spider, axis=1)\n",
      "prediction_rf = disp.reconstruct_image(test_idxs, med_spider, (240, 320))\n",
      "GT_image = disp.reconstruct_image(test_idxs, np.array(Y_gt), (240, 320))\n",
      "\n",
      "out = disp.crop_concatenate((GT_image, prediction_rf), 10)\n",
      "\n",
      "plt.imshow(out)\n",
      "plt.colorbar()\n",
      "plt.show()"
     ],
     "language": "python",
     "metadata": {},
     "outputs": [],
     "prompt_number": ""
    },
    {
     "cell_type": "code",
     "collapsed": false,
     "input": [],
     "language": "python",
     "metadata": {},
     "outputs": []
    },
    {
     "cell_type": "code",
     "collapsed": false,
     "input": [
      "plt.hist(Y_gt[~np.isnan(Y_gt)], 100)\n",
      "plt.show()\n"
     ],
     "language": "python",
     "metadata": {},
     "outputs": [],
     "prompt_number": ""
    },
    {
     "cell_type": "code",
     "collapsed": false,
     "input": [
      "#len(all_features['spider_features'])\n",
      "\n",
      "#print engine.sample_from_mask(-1).shape\n",
      "plt.imshow(np.reshape(rf.feature_importances_[:225], (15, 15)), interpolation='None')\n",
      "plt.colorbar()\n",
      "#print np.reshape(rf.feature_importances_[:225], (15, 15))"
     ],
     "language": "python",
     "metadata": {},
     "outputs": [],
     "prompt_number": ""
    },
    {
     "cell_type": "code",
     "collapsed": false,
     "input": [
      "plt.plot(rf.feature_importances_)"
     ],
     "language": "python",
     "metadata": {},
     "outputs": [],
     "prompt_number": ""
    },
    {
     "cell_type": "code",
     "collapsed": false,
     "input": [
      "import dense_predictor\n",
      "\n",
      "# loading in the test data and computing features\n",
      "modelname = '1b64b36bf7ddae3d7ad11050da24bb12'#loadsave.load_object_names('test')[1]\n",
      "print modelname\n",
      "view_idx = 15\n",
      "\n",
      "pred = dense_predictor.DensePredictor(rf)\n",
      "pred.load_renders(modelname, view_idx)\n",
      "pred.compute_features()"
     ],
     "language": "python",
     "metadata": {},
     "outputs": [],
     "prompt_number": ""
    },
    {
     "cell_type": "code",
     "collapsed": false,
     "input": [
      "pred.classify_features()\n",
      "plt.imshow(pred.prediction_image)"
     ],
     "language": "python",
     "metadata": {},
     "outputs": [],
     "prompt_number": ""
    },
    {
     "cell_type": "code",
     "collapsed": false,
     "input": [],
     "language": "python",
     "metadata": {},
     "outputs": [],
     "prompt_number": ""
    }
   ],
   "metadata": {}
  }
 ]
}