{
 "metadata": {
  "name": ""
 },
 "nbformat": 3,
 "nbformat_minor": 0,
 "worksheets": [
  {
   "cells": [
    {
     "cell_type": "code",
     "collapsed": false,
     "input": [
      "%matplotlib inline\n",
      "%load_ext autoreload\n",
      "%autoreload 2\n",
      "from thickness import compute_data\n",
      "import numpy as np\n",
      "import matplotlib.pyplot as plt"
     ],
     "language": "python",
     "metadata": {},
     "outputs": [],
     "prompt_number": ""
    },
    {
     "cell_type": "code",
     "collapsed": false,
     "input": [
      "from thickness import images\n",
      "from thickness import paths\n",
      "\n",
      "im = images.CADRender()\n",
      "im.load_from_cad_set(paths.modelnames[2], 2)\n",
      "im.compute_edges_and_angles(20.0)\n",
      "plt.imshow(np.isnan(im.depth))"
     ],
     "language": "python",
     "metadata": {},
     "outputs": [],
     "prompt_number": ""
    },
    {
     "cell_type": "code",
     "collapsed": false,
     "input": [
      "plt.rcParams['figure.figsize'] = (20.0, 8.0)\n",
      "from thickness import features\n",
      "features.\n",
      "trans = features.DistanceTransforms()\n",
      "im.set_intrinsics(np.array([[570.0/2, 0, 160], [0, 570.0/2, 120], [0, 0, 1.0]]))\n",
      "im.compute_ray_image()\n",
      "print im"
     ],
     "language": "python",
     "metadata": {},
     "outputs": [],
     "prompt_number": ""
    },
    {
     "cell_type": "code",
     "collapsed": false,
     "input": [
      "trans.set_im(im)\n",
      "A= trans.se_dist_transform('e')\n",
      "plt.imshow(A[:, :, 0])"
     ],
     "language": "python",
     "metadata": {},
     "outputs": []
    },
    {
     "cell_type": "code",
     "collapsed": false,
     "input": [
      "%timeit coms = trans.get_compass_images()\n",
      "\n",
      "#for idx, com in enumerate(coms):\n",
      "#    plt.subplot(3, 3, idx+1)\n",
      "#    plt.imshow(com[:, :, 0])"
     ],
     "language": "python",
     "metadata": {},
     "outputs": [],
     "prompt_number": ""
    },
    {
     "cell_type": "code",
     "collapsed": false,
     "input": [
      "plt.clf()\n",
      "plt.subplot(121)\n",
      "plt.imshow(A[:, :, 0])\n",
      "plt.subplot(122)\n",
      "plt.imshow(A[:, :, 1])"
     ],
     "language": "python",
     "metadata": {},
     "outputs": []
    },
    {
     "cell_type": "code",
     "collapsed": false,
     "input": [
      "plt.clf()\n",
      "t_rays = np.copy(im.ray_image)\n",
      "t_rays[im.edges] = np.nan\n",
      "#plt.imshow(t_d)\n",
      "for idx in range(150, 170):\n",
      "    plt.plot(t_rays[idx, :])\n",
      "    plt.hold(True)\n",
      "plt.hold(False)\n",
      "#plt.axis('equal')\n",
      "#plt.clf()\n",
      "#plt.subplot(121)\n",
      "#plt.imshow(coms[0][:, :, 0])\n",
      "##plt.subplot(122)\n",
      "#plt.imshow(coms[0][:, :, 1])\n",
      "#plt.colorbar()\n",
      "#plt.imshow(im.ray_image)"
     ],
     "language": "python",
     "metadata": {},
     "outputs": []
    },
    {
     "cell_type": "code",
     "collapsed": false,
     "input": [
      "import scipy.ndimage.interpolation\n",
      "im2 = scipy.ndimage.interpolation.rotate(im.edges, 45)\n",
      "plt.subplot(121)\n",
      "plt.imshow(im.edges)\n",
      "plt.subplot(122)\n",
      "plt.imshow(im2)"
     ],
     "language": "python",
     "metadata": {},
     "outputs": []
    },
    {
     "cell_type": "code",
     "collapsed": false,
     "input": [
      "im.disp_channels()\n",
      "plt.show()"
     ],
     "language": "python",
     "metadata": {},
     "outputs": []
    },
    {
     "cell_type": "code",
     "collapsed": false,
     "input": [
      "t = np.zeros((20, 10))\n",
      "[H, W] = t.shape\n",
      "\n",
      "col = 4\n",
      "n_points = W-col\n",
      "idxs = np.array([col + ind * (W+1) for ind in range(0, n_points)])\n",
      "t.ravel()[idxs] = 1\n",
      "plt.imshow(t, interpolation='nearest')"
     ],
     "language": "python",
     "metadata": {},
     "outputs": []
    },
    {
     "cell_type": "code",
     "collapsed": false,
     "input": [
      "import scipy.misc\n",
      "\n",
      "# doing padding\n",
      "H, W = im.depth.shape\n",
      "r = 0.5 * np.sqrt(H**2 + W**2)\n",
      "p0 = r - H/2 + 5\n",
      "p1 = r - W/2 + 5\n",
      "\n",
      "angle = 50\n",
      "\n",
      "t_depth = im.depth\n",
      "t_depth[np.isnan(t_depth)] = 0\n",
      "padded_edges = np.pad(im.depth, ((p0, p0), (p1, p1)), mode='constant', constant_values=0).astype(float)\n",
      "\n",
      "rotated_edges = scipy.ndimage.interpolation.rotate(padded_edges, angle, reshape=False, order=1)\n",
      "#rotated_edges2 = scipy.misc.imrotate(padded_edges, angle, interp='bilinear')\n",
      "\n",
      "unrotated = scipy.ndimage.interpolation.rotate(rotated_edges, -angle, reshape=False, order=1)\n",
      "\n",
      "#print rotated_edges[200, 200]\n",
      "print np.min(rotated_edges.flatten())\n",
      "#print np.min(rotated_edges2.flatten())\n",
      "plt.subplot(131)\n",
      "plt.imshow(im.depth)\n",
      "plt.subplot(132)\n",
      "plt.imshow(rotated_edges)\n",
      "plt.subplot(133)\n",
      "plt.imshow(unrotated[p0:p0+H, p1:p1+W])"
     ],
     "language": "python",
     "metadata": {},
     "outputs": [],
     "prompt_number": ""
    },
    {
     "cell_type": "code",
     "collapsed": false,
     "input": [
      "# now getting back from the rotated image\n",
      "unrotated_edges = scipy.misc.imrotate(rotated_edges, -angle, interp='bilinear')\n",
      "unrotated_uncropped_edges = unrotated_edges[p0:p0+H, p1:p1+W]\n",
      "\n",
      "plt.subplot(133)\n",
      "plt.imshow(unrotated_uncropped_edges.astype(float)/255 - im.edges.astype(float))\n",
      "\n",
      "\n",
      "print unrotated_uncropped_edges.shape\n",
      "print im.edges.shape"
     ],
     "language": "python",
     "metadata": {},
     "outputs": [],
     "prompt_number": ""
    },
    {
     "cell_type": "code",
     "collapsed": false,
     "input": [
      "im_edges = im.edges.astype(float)\n",
      "im_edges[im_edges==0] = 2\n",
      "im_edge_rot = scipy.misc.imrotate(im_edges, 45, interp='bilinear')\n",
      "plt.subplot(121)\n",
      "plt.imshow(im_edge_rot)\n",
      "plt.subplot(122)\n",
      "plt.imshow(im.edges)"
     ],
     "language": "python",
     "metadata": {},
     "outputs": [],
     "prompt_number": ""
    },
    {
     "cell_type": "code",
     "collapsed": false,
     "input": [
      "im.depth[im.depth==0] = np.nan\n",
      "dt = features.DistanceTransforms(im)\n",
      "T = dt.get_compass_images()\n",
      "\n",
      "for idx, tt in enumerate(T):\n",
      "    plt.subplot(2, 8, idx+1)\n",
      "    plt.imshow(tt)\n",
      "        \n",
      "print tt.shape"
     ],
     "language": "python",
     "metadata": {},
     "outputs": [],
     "prompt_number": ""
    },
    {
     "cell_type": "code",
     "collapsed": false,
     "input": [
      "print im.depth"
     ],
     "language": "python",
     "metadata": {},
     "outputs": [],
     "prompt_number": ""
    }
   ],
   "metadata": {}
  }
 ]
}