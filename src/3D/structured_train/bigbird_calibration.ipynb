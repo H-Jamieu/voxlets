{
 "metadata": {
  "name": ""
 },
 "nbformat": 3,
 "nbformat_minor": 0,
 "worksheets": [
  {
   "cells": [
    {
     "cell_type": "code",
     "collapsed": false,
     "input": [
      "%matplotlib inline\n",
      "%load_ext autoreload\n",
      "%autoreload 2\n",
      "from thickness import images\n",
      "from thickness import paths\n",
      "from thickness import mesh\n",
      "import matplotlib.pyplot as plt\n",
      "import numpy as np\n",
      "import h5py"
     ],
     "language": "python",
     "metadata": {},
     "outputs": [],
     "prompt_number": ""
    },
    {
     "cell_type": "code",
     "collapsed": false,
     "input": [
      "im = images.MaskedRGBD()\n",
      "im.load_bigbird(\"advil_liqui_gels\", \"NP3_24\")\n",
      "im.compute_edges_and_angles()\n",
      "im.disp_channels()\n",
      "print im.rgb.shape"
     ],
     "language": "python",
     "metadata": {},
     "outputs": [],
     "prompt_number": ""
    },
    {
     "cell_type": "code",
     "collapsed": false,
     "input": [
      "plt.rcParams['figure.figsize'] = (20.0, 8.0)\n",
      "\n",
      "ms = mesh.BigbirdMesh()\n",
      "ms.load_from_ply(paths.base_path + '/bigbird_meshes/' + im.modelname + '/meshes/poisson.ply')\n",
      "\n",
      "cam = mesh.Camera()\n",
      "cam.load_bigbird_matrices(im.modelname, im.view_idx)\n",
      "print cam.H\n",
      "xy = cam.project_points(ms.vertices)\n",
      "\n",
      "plt.subplot(121)\n",
      "plt.imshow(im.rgb)\n",
      "plt.subplot(122)\n",
      "plt.imshow(im.rgb)\n",
      "plt.hold(True)\n",
      "plt.plot(xy[:, 0], xy[:, 1], '.r')\n",
      "plt.hold(False)\n",
      "plt.ylim([1024, 0])\n",
      "plt.xlim([0, 1000])\n",
      "plt.show()"
     ],
     "language": "python",
     "metadata": {},
     "outputs": [],
     "prompt_number": ""
    },
    {
     "cell_type": "code",
     "collapsed": false,
     "input": [
      "# now loading the voxels...\n",
      "vox_vertices = np.loadtxt(paths.base_path + '/bigbird_meshes/' + im.modelname + '/meshes/voxelised.txt')"
     ],
     "language": "python",
     "metadata": {},
     "outputs": [],
     "prompt_number": ""
    },
    {
     "cell_type": "code",
     "collapsed": false,
     "input": [
      "#vox_vertices2 = vox_vertices[:, [2, 1, 0]]\n",
      "\n",
      "xy = cam.project_points(vox_vertices)\n",
      "\n",
      "plt.subplot(121)\n",
      "plt.imshow(im.rgb)\n",
      "plt.subplot(122)\n",
      "plt.imshow(im.rgb)\n",
      "plt.hold(True)\n",
      "plt.plot(xy[:, 0], xy[:, 1], '.r')\n",
      "plt.hold(False)\n",
      "plt.ylim([1024, 0])\n",
      "plt.xlim([0, 1000])\n",
      "plt.show()"
     ],
     "language": "python",
     "metadata": {},
     "outputs": [],
     "prompt_number": ""
    },
    {
     "cell_type": "code",
     "collapsed": false,
     "input": [
      "rows = np.round(xy[:, 1])\n",
      "cols = np.round(xy[:, 0])\n",
      "back_face = np.zeros((im.rgb.shape[0], im.rgb.shape[1]))\n",
      "front_face = np.zeros((im.rgb.shape[0], im.rgb.shape[1])) + 1000000\n",
      "for row, col, depth in zip(rows, cols, xy[:, 2]):\n",
      "    back_face[row, col] = np.maximum(back_face[row, col],depth)\n",
      "    front_face[row, col] = np.minimum(front_face[row, col],depth)\n",
      "front_face[front_face==1000000] = np.nan\n",
      "back_face[back_face==0] = np.nan\n",
      "plt.imshow(back_face[400:600, 400:800] - front_face[400:600, 400:800])\n",
      "plt.colorbar()\n"
     ],
     "language": "python",
     "metadata": {},
     "outputs": [],
     "prompt_number": ""
    },
    {
     "cell_type": "code",
     "collapsed": false,
     "input": [
      "# loading in the obj vertices to see if the problem is in the convertion ply->obj or obj->vox\n",
      "obj_file = paths.base_path + '/bigbird_meshes/' + im.modelname + '/meshes/poisson.obj'\n",
      "verts = []\n",
      "f = open(obj_file, 'r')\n",
      "for line in f:\n",
      "    line_split = line.split(' ')\n",
      "    if line_split[0]=='v':\n",
      "        verts.append([float(line_split[1]), float(line_split[2]), float(line_split[3])])\n",
      "verts = np.array(verts)\n",
      "\n",
      "xy = cam.project_points(verts)\n",
      "\n",
      "plt.subplot(121)\n",
      "plt.imshow(im.rgb)\n",
      "plt.subplot(122)\n",
      "plt.imshow(im.rgb)\n",
      "plt.hold(True)\n",
      "plt.plot(xy[:, 0], xy[:, 1], '.r')\n",
      "plt.hold(False)\n",
      "plt.ylim([1024, 0])\n",
      "plt.xlim([0, 1000])\n",
      "plt.show()\n"
     ],
     "language": "python",
     "metadata": {},
     "outputs": [],
     "prompt_number": ""
    },
    {
     "cell_type": "code",
     "collapsed": false,
     "input": [
      "plt.rcParams['figure.figsize'] = (20.0, 8.0)\n",
      "import scipy.io\n",
      "D = scipy.io.loadmat('test_out.mat')\n",
      "D['depth']\n",
      "\n",
      "plt.subplot(121)\n",
      "plt.imshow(im.rgb)\n",
      "plt.hold(True)\n",
      "plt.plot(xy[:, 0], xy[:, 1], '.r')\n",
      "plt.hold(False)\n",
      "plt.ylim([1024, 0])\n",
      "plt.xlim([0, 1280])\n",
      "plt.show()\n",
      "plt.subplot(122)\n",
      "T = np.fliplr(np.flipud(D['depth']))\n",
      "T[np.abs(T-10)<0.01] = np.nan\n",
      "plt.imshow(T)\n",
      "plt.hold(True)\n",
      "plt.plot(xy[1::15, 0]-12, xy[1::15, 1]+5, '.r')\n",
      "plt.hold(False)\n",
      "plt.ylim([1024, 0])\n",
      "plt.xlim([0, 1280])\n",
      "plt.show()\n",
      "print im.rgb.shape"
     ],
     "language": "python",
     "metadata": {},
     "outputs": []
    },
    {
     "cell_type": "code",
     "collapsed": false,
     "input": [
      "%timeit rays = im.compute_ray_image()\n",
      "plt.subplot(121)\n",
      "plt.imshow(rays)\n",
      "plt.colorbar()\n",
      "plt.clim((1.1, 1.3))\n",
      "plt.subplot(122)\n",
      "plt.imshow(im.depth)\n",
      "plt.clim((1.1, 1.3))\n",
      "plt.colorbar()"
     ],
     "language": "python",
     "metadata": {},
     "outputs": []
    },
    {
     "cell_type": "code",
     "collapsed": false,
     "input": [
      "cam = mesh.Camera()\n",
      "cam.load_bigbird_matrices(im.modelname, im.view_idx)\n",
      "cam.K"
     ],
     "language": "python",
     "metadata": {},
     "outputs": []
    },
    {
     "cell_type": "code",
     "collapsed": false,
     "input": [
      "\n",
      "def load_all_poses():\n",
      "    filename = paths.bigbird_folder + \"poses_to_use.txt\"\n",
      "    return [pose.strip() for pose in open(filename, 'r') if pose[2] =='4']\n",
      "\n",
      "plt.clf()\n",
      "for idx, pose in enumerate(load_all_poses()):\n",
      "    im = images.MaskedRGBD()\n",
      "    im.load_bigbird(\"coffee_mate_french_vanilla\", pose)\n",
      "    plt.subplot(2, 2, idx)\n",
      "    plt.imshow(im.rgb)"
     ],
     "language": "python",
     "metadata": {},
     "outputs": []
    },
    {
     "cell_type": "code",
     "collapsed": false,
     "input": [
      "# projecting the mesh through the camera extrinsics...\n",
      "trans = cam._apply_homo_transformation(ms.vertices, cam.H)\n",
      "trans = trans[:,:3] / np.vstack((trans[:,3], trans[:,3], trans[:,3])).T\n",
      "print trans.shape\n",
      "cam.H"
     ],
     "language": "python",
     "metadata": {},
     "outputs": []
    },
    {
     "cell_type": "code",
     "collapsed": false,
     "input": [
      "plt.plot(trans[:, 0], trans[:, 1], '.')\n",
      "plt.axis('equal')"
     ],
     "language": "python",
     "metadata": {},
     "outputs": []
    },
    {
     "cell_type": "code",
     "collapsed": false,
     "input": [
      "#im.disp_channels()\n"
     ],
     "language": "python",
     "metadata": {},
     "outputs": []
    }
   ],
   "metadata": {}
  }
 ]
}