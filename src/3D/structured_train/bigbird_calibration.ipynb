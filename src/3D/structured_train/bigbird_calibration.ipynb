{
 "metadata": {
  "name": ""
 },
 "nbformat": 3,
 "nbformat_minor": 0,
 "worksheets": [
  {
   "cells": [
    {
     "cell_type": "code",
     "collapsed": false,
     "input": [
      "%matplotlib inline\n",
      "%load_ext autoreload\n",
      "%autoreload 2\n",
      "from thickness import images\n",
      "from thickness import paths\n",
      "from thickness import mesh\n",
      "import matplotlib.pyplot as plt\n",
      "import numpy as np\n",
      "import h5py"
     ],
     "language": "python",
     "metadata": {},
     "outputs": [],
     "prompt_number": ""
    },
    {
     "cell_type": "code",
     "collapsed": false,
     "input": [
      "im = images.MaskedRGBD()\n",
      "im.load_bigbird(\"cinnamon_toast_crunch\", \"NP1_24\")\n",
      "im.compute_edges_and_angles()\n",
      "im.disp_channels()"
     ],
     "language": "python",
     "metadata": {},
     "outputs": [],
     "prompt_number": ""
    },
    {
     "cell_type": "code",
     "collapsed": false,
     "input": [
      "plt.rcParams['figure.figsize'] = (20.0, 8.0)\n",
      "\n",
      "ms = mesh.BigbirdMesh()\n",
      "ms.load_from_ply(paths.base_path + '/bigbird_meshes/' + im.modelname + '/meshes/poisson.ply')\n",
      "\n",
      "cam = mesh.Camera()\n",
      "cam.load_bigbird_matrices(im.modelname, im.view_idx)\n",
      "print cam.H\n",
      "xy = cam.project_points(ms.vertices)\n",
      "\n",
      "plt.subplot(121)\n",
      "plt.imshow(im.depth)\n",
      "plt.subplot(122)\n",
      "plt.imshow(im.depth)\n",
      "plt.hold(True)\n",
      "plt.plot(xy[:, 0], xy[:, 1], '.r')\n",
      "plt.hold(False)\n",
      "plt.ylim([480, 0])\n",
      "plt.xlim([0, 640])\n",
      "plt.show()"
     ],
     "language": "python",
     "metadata": {},
     "outputs": [],
     "prompt_number": ""
    },
    {
     "cell_type": "code",
     "collapsed": false,
     "input": [
      "%timeit rays = im.compute_ray_image()\n",
      "plt.subplot(121)\n",
      "plt.imshow(rays)\n",
      "plt.colorbar()\n",
      "plt.clim((1.1, 1.3))\n",
      "plt.subplot(122)\n",
      "plt.imshow(im.depth)\n",
      "plt.clim((1.1, 1.3))\n",
      "plt.colorbar()"
     ],
     "language": "python",
     "metadata": {},
     "outputs": [],
     "prompt_number": ""
    },
    {
     "cell_type": "code",
     "collapsed": false,
     "input": [
      "cam = mesh.Camera()\n",
      "cam.load_bigbird_matrices(im.modelname, im.view_idx)\n",
      "cam.K"
     ],
     "language": "python",
     "metadata": {},
     "outputs": [],
     "prompt_number": ""
    },
    {
     "cell_type": "code",
     "collapsed": false,
     "input": [
      "\n",
      "def load_all_poses():\n",
      "    filename = paths.bigbird_folder + \"poses_to_use.txt\"\n",
      "    return [pose.strip() for pose in open(filename, 'r') if pose[2] =='4']\n",
      "\n",
      "plt.clf()\n",
      "for idx, pose in enumerate(load_all_poses()):\n",
      "    im = images.MaskedRGBD()\n",
      "    im.load_bigbird(\"coffee_mate_french_vanilla\", pose)\n",
      "    plt.subplot(2, 2, idx)\n",
      "    plt.imshow(im.rgb)"
     ],
     "language": "python",
     "metadata": {},
     "outputs": [],
     "prompt_number": ""
    },
    {
     "cell_type": "code",
     "collapsed": false,
     "input": [
      "# projecting the mesh through the camera extrinsics...\n",
      "trans = cam._apply_homo_transformation(ms.vertices, cam.H)\n",
      "trans = trans[:,:3] / np.vstack((trans[:,3], trans[:,3], trans[:,3])).T\n",
      "print trans.shape\n",
      "cam.H"
     ],
     "language": "python",
     "metadata": {},
     "outputs": [],
     "prompt_number": ""
    },
    {
     "cell_type": "code",
     "collapsed": false,
     "input": [
      "plt.plot(trans[:, 0], trans[:, 1], '.')\n",
      "plt.axis('equal')"
     ],
     "language": "python",
     "metadata": {},
     "outputs": [],
     "prompt_number": ""
    },
    {
     "cell_type": "code",
     "collapsed": false,
     "input": [
      "#im.disp_channels()\n"
     ],
     "language": "python",
     "metadata": {},
     "outputs": [],
     "prompt_number": ""
    }
   ],
   "metadata": {}
  }
 ]
}