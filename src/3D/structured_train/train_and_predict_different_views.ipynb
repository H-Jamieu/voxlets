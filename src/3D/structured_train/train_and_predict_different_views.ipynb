{
 "metadata": {
  "name": ""
 },
 "nbformat": 3,
 "nbformat_minor": 0,
 "worksheets": [
  {
   "cells": [
    {
     "cell_type": "code",
     "collapsed": false,
     "input": [
      "%matplotlib inline\n",
      "import numpy as np\n",
      "import matplotlib.pyplot as plt\n",
      "from sklearn.ensemble import RandomForestRegressor\n",
      "from sklearn import neighbors\n",
      "import cPickle as pickle\n",
      "import compute_data\n",
      "import voxel_data\n",
      "import paths\n",
      "\n",
      "def nans(shape, dtype=float):\n",
      "    a = np.empty(shape, dtype)\n",
      "    a.fill(np.nan)\n",
      "    return a\n",
      "\n",
      "def nan_to_value(X, newval):\n",
      "\tX[np.isnan(X)] = newval\n",
      "\treturn X"
     ],
     "language": "python",
     "metadata": {},
     "outputs": [],
     "prompt_number": ""
    },
    {
     "cell_type": "code",
     "collapsed": false,
     "input": [
      "modelname = '109d55a137c042f5760315ac3bf2c13e'\n",
      "view_idx = 12\n",
      "\n",
      "# loading in all data for this object\n",
      "features_per_view = 1000\n",
      "all_features = []\n",
      "all_masks = []\n",
      "\n",
      "for idx in range(42):\n",
      "    engine = compute_data.depth_feature_engine(modelname, idx+1)\n",
      "    engine.sample_from_mask(features_per_view)\n",
      "    engine.compute_features_and_depths()\n",
      "    all_features.append(engine.features_and_depths_as_dict())"
     ],
     "language": "python",
     "metadata": {},
     "outputs": [],
     "prompt_number": ""
    },
    {
     "cell_type": "code",
     "collapsed": false,
     "input": [
      "# extracting training data\n",
      "train_X = []\n",
      "train_Y = []\n",
      "for idx,temp in enumerate(all_features):\n",
      "    if idx+1 != view_idx:\n",
      "        train_Y.append(temp['depth_diffs'])\n",
      "        train_X.append(temp['patch_features'])\n",
      "\n",
      "train_Y = np.array(train_Y).flatten()\n",
      "train_X = np.array(train_X).reshape((41*features_per_view, -1))\n",
      "train_X[np.isnan(train_X)] = -10\n",
      "\n",
      "print train_Y.shape\n",
      "print train_X.shape"
     ],
     "language": "python",
     "metadata": {},
     "outputs": [],
     "prompt_number": ""
    },
    {
     "cell_type": "code",
     "collapsed": false,
     "input": [
      "# extracting test data\n",
      "engine = compute_data.depth_feature_engine(modelname, view_idx)\n",
      "engine.sample_from_mask(-1)\n",
      "engine.compute_features_and_depths()\n",
      "all_test_data = engine.features_and_depths_as_dict()\n",
      "test_idxs = all_test_data['indices'].T\n",
      "test_X = nan_to_value(np.array(all_test_data['patch_features']), -10)\n",
      "test_Y_gt = all_test_data['depth_diffs']"
     ],
     "language": "python",
     "metadata": {},
     "outputs": [],
     "prompt_number": ""
    },
    {
     "cell_type": "code",
     "collapsed": false,
     "input": [
      "# Training nn classifier and doing prediction\n",
      "knn = neighbors.KNeighborsClassifier(5, weights='uniform')\n",
      "knn.fit(train_X, train_Y)"
     ],
     "language": "python",
     "metadata": {},
     "outputs": [],
     "prompt_number": ""
    },
    {
     "cell_type": "code",
     "collapsed": false,
     "input": [
      "# Training and fitting the forest\n",
      "rf = RandomForestRegressor(n_estimators=20,n_jobs=3,random_state=1,max_depth=12)\n",
      "rf.fit(train_X, train_Y)"
     ],
     "language": "python",
     "metadata": {},
     "outputs": [],
     "prompt_number": ""
    },
    {
     "cell_type": "code",
     "collapsed": false,
     "input": [
      "# doing prediction\n",
      "Y_pred_knn = knn.predict(test_X)\n",
      "Y_pred_rf = rf.predict(test_X)"
     ],
     "language": "python",
     "metadata": {},
     "outputs": [],
     "prompt_number": ""
    },
    {
     "cell_type": "code",
     "collapsed": false,
     "input": [
      "plt.rcParams['figure.figsize'] = (15.0, 18.0)\n",
      "\n",
      "# reconstructing prediction image\n",
      "import displaying as disp\n",
      "reload(disp)\n",
      "print Y_pred_rf.shape\n",
      "print test_idxs.shape\n",
      "prediction_rf = disp.reconstruct_image(test_idxs, Y_pred_rf, (240, 320))\n",
      "prediction_knn = disp.reconstruct_image(test_idxs, Y_pred_knn, (240, 320))\n",
      "GT_image = disp.reconstruct_image(test_idxs, np.array(test_Y_gt), (240, 320))\n",
      "\n",
      "out = disp.crop_concatenate((GT_image, prediction_knn, prediction_rf), 10)\n",
      "plt.imshow(out)\n",
      "plt.show()"
     ],
     "language": "python",
     "metadata": {},
     "outputs": [],
     "prompt_number": ""
    },
    {
     "cell_type": "code",
     "collapsed": false,
     "input": [
      "plt.rcParams['figure.figsize'] = (10.0, 10.0)\n",
      "plt.matshow(np.reshape(rf.feature_importances_, (15, 15)))\n",
      "plt.colorbar()"
     ],
     "language": "python",
     "metadata": {},
     "outputs": [],
     "prompt_number": ""
    },
    {
     "cell_type": "code",
     "collapsed": false,
     "input": [
      "# want to show all the other views\n",
      "for idx in range(42):\n",
      "    engine = compute_data.depth_feature_engine(modelname, idx+1)\n",
      "    plt.subplot(6, 7, idx)\n",
      "    plt.imshow(engine.frontrender)\n",
      "#    plt.axes(False)\n",
      "plt.show()"
     ],
     "language": "python",
     "metadata": {},
     "outputs": [],
     "prompt_number": ""
    },
    {
     "cell_type": "code",
     "collapsed": false,
     "input": [],
     "language": "python",
     "metadata": {},
     "outputs": []
    }
   ],
   "metadata": {}
  }
 ]
}