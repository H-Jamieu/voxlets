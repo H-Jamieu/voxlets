{
 "metadata": {
  "name": ""
 },
 "nbformat": 3,
 "nbformat_minor": 0,
 "worksheets": [
  {
   "cells": [
    {
     "cell_type": "code",
     "collapsed": false,
     "input": [
      "%matplotlib inline\n",
      "%load_ext autoreload\n",
      "%autoreload 2\n",
      "import numpy as np\n",
      "import matplotlib.pyplot as plt \n",
      "import cv2\n",
      "import sys\n",
      "sys.path.append('/Users/Michael/projects/shape_sharing/src/')\n",
      "from common import "
     ],
     "language": "python",
     "metadata": {},
     "outputs": [],
     "prompt_number": ""
    },
    {
     "cell_type": "code",
     "collapsed": false,
     "input": [
      "base_path = '../../data/other_3D/osd/OSD-0.2-depth/disparity/'\n",
      "out_path = '../../data/other_3D/osd/OSD-0.2-depth/mdf_depth_images/'\n",
      "names = ['learn12', 'learn13', 'test11', 'test45']\n",
      "\n",
      "for name in names:\n",
      "    fullpath = base_path + name + '.png'\n",
      "    outpath = out_path + name + '_depth.png'\n",
      "    im = cv2.imread(fullpath, -1)\n",
      "    \n",
      "    end = 1500\n",
      "    start = 600\n",
      "    \n",
      "    im[im < start] = start\n",
      "    im[im > end] = end\n",
      "    \n",
      "    plt.imshow(im)\n",
      "    plt.box(False)\n",
      "    plt.xticks([])\n",
      "    plt.yticks([])\n",
      "    plt.savefig(outpath, bbox_inches='tight', pad_inches=0)\n",
      "#plt.colorbar()\n"
     ],
     "language": "python",
     "metadata": {},
     "outputs": [],
     "prompt_number": ""
    },
    {
     "cell_type": "code",
     "collapsed": false,
     "input": [],
     "language": "python",
     "metadata": {},
     "outputs": [],
     "prompt_number": ""
    },
    {
     "cell_type": "code",
     "collapsed": false,
     "input": [],
     "language": "python",
     "metadata": {},
     "outputs": []
    }
   ],
   "metadata": {}
  }
 ]
}