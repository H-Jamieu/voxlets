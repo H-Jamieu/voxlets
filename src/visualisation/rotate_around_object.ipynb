{
 "metadata": {
  "name": ""
 },
 "nbformat": 3,
 "nbformat_minor": 0,
 "worksheets": [
  {
   "cells": [
    {
     "cell_type": "code",
     "collapsed": false,
     "input": [
      "'''\n",
      "A script to rotate around an object\n",
      "aim is to take the voxel grid and rotate around it.\n",
      "Will do it just for the turntable data to begin with...\n",
      "'''\n"
     ],
     "language": "python",
     "metadata": {},
     "outputs": [],
     "prompt_number": ""
    },
    {
     "cell_type": "code",
     "collapsed": false,
     "input": [
      "%matplotlib inline\n",
      "%load_ext autoreload\n",
      "%autoreload 2\n",
      "\n",
      "import numpy as np\n",
      "import matplotlib.pyplot as plt \n",
      "import cPickle as pickle\n",
      "import sys\n",
      "sys.path.append('/Users/Michael/projects/shape_sharing/src/')\n",
      "sys.path.append('../bigbird_images3/')\n",
      "\n",
      "from common import paths\n",
      "from common import voxel_data\n",
      "from common import mesh\n",
      "from common import images\n",
      "from common import features\n",
      "from thickness_regress import combine_data\n",
      "import scipy.io"
     ],
     "language": "python",
     "metadata": {},
     "outputs": [],
     "prompt_number": ""
    },
    {
     "cell_type": "code",
     "collapsed": false,
     "input": [
      "im = images.CroppedRGBD()\n",
      "im.load_"
     ],
     "language": "python",
     "metadata": {},
     "outputs": []
    },
    {
     "cell_type": "code",
     "collapsed": false,
     "input": [
      "voxel_size = (0.1/15)/2\n",
      "\n",
      "def convert_bb_transform_to_prediction_transform(inv_H_trans_in, gt_mesh_origin):\n",
      "    transform_for_mesh = np.linalg.inv(inv_H_trans_in)\n",
      "    extra = np.dot(transform_for_mesh[:3, :3], (gt_mesh_origin - 0.05).T)\n",
      "    transform_for_mesh[:3, 3] += extra\n",
      "    transform_for_mesh[:3, 3] /= voxel_size\n",
      "    transform_for_mesh[:3, 3] *= 0.1 # scaling for blender\n",
      "    return transform_for_mesh"
     ],
     "language": "python",
     "metadata": {},
     "outputs": [],
     "prompt_number": ""
    },
    {
     "cell_type": "code",
     "collapsed": false,
     "input": [
      "def get_all_poses(modelname, view, gt_grid_origin):\n",
      "    \n",
      "    elevation_key, start_angle = view.split('_')\n",
      "    \n",
      "    all_poses = []\n",
      "    for angle in np.mod(np.arange(0, 360, 3) + int(start_angle), 360):\n",
      "        \n",
      "        thisview = elevation_key + \"_\" + str(angle)\n",
      "        cam = mesh.Camera()\n",
      "        cam.load_bigbird_matrices(modelname, thisview)    \n",
      "        temp_H = cam.inv_H\n",
      "        temp_H = convert_bb_transform_to_prediction_transform(temp_H, gt_grid_origin)\n",
      "        \n",
      "        #temp_H[3, :3] *= scaling\n",
      "        \n",
      "        all_poses.append(temp_H.T)\n",
      "        \n",
      "    return all_poses\n",
      "\n",
      "# loop over all models and view\n",
      "for modelname in paths.test_names:\n",
      "        \n",
      "    gt_grid = voxel_data.BigBirdVoxels()\n",
      "    gt_grid.load_bigbird(modelname)\n",
      "    \n",
      "    all_pose_idxs = [0, 5, 10, 15, 20, 25, 30, 35, 40, 45]\n",
      "    for view_idx in all_pose_idxs:\n",
      "        view = paths.views[view_idx]\n",
      "        \n",
      "        # get the poses for this view\n",
      "        all_poses = get_all_poses(modelname, view, gt_grid.origin)\n",
      "        \n",
      "        # save to file as a list\n",
      "        savename = paths.base_path + \"voxlets/bigbird/spinaround/\" + modelname + \"_\" + view + \".mat\"\n",
      "        D = dict(camera_poses=all_poses)\n",
      "        scipy.io.savemat(savename, D, do_compression=True)\n",
      "\n",
      "        \n",
      "    print \"Done \" + modelname"
     ],
     "language": "python",
     "metadata": {},
     "outputs": [],
     "prompt_number": ""
    },
    {
     "cell_type": "code",
     "collapsed": false,
     "input": [
      "print len(all_poses)\n",
      "x = [pose[3, 0] for pose in all_poses]\n",
      "y = [pose[3, 1] for pose in all_poses]\n",
      "plt.plot(x, y)\n",
      "plt.axis('equal')"
     ],
     "language": "python",
     "metadata": {},
     "outputs": [],
     "prompt_number": ""
    },
    {
     "cell_type": "code",
     "collapsed": false,
     "input": [
      "vgrid = voxel_data.BigBirdVoxels()\n",
      "vgrid.load_bigbird(modelname)"
     ],
     "language": "python",
     "metadata": {},
     "outputs": [],
     "prompt_number": ""
    },
    {
     "cell_type": "code",
     "collapsed": false,
     "input": [
      "import Image\n",
      "import numpy as np\n",
      "\n",
      "\n",
      "def apply_homo_transformation(xyz, trans):\n",
      "    '''\n",
      "    apply a 4x4 transformation matrix to the vertices\n",
      "    '''\n",
      "    n = xyz.shape[0]\n",
      "    temp = np.concatenate((xyz, np.ones((n, 1))), axis=1).T\n",
      "    temp_transformed = trans.dot(temp).T\n",
      "    return temp_transformed\n",
      "\n",
      "\n",
      "def project_into_camera(xyz, trans):\n",
      "    '''\n",
      "    apply a 3x3 transformation matrix to the vertices\n",
      "    vertices assumed to already be in coordinates of the camera\n",
      "    '''\n",
      "    to_add = np.zeros((3, 1))\n",
      "    temp_trans = np.concatenate((trans, to_add), axis=1)\n",
      "    projected_points = np.dot(temp_trans, xyz.T).T\n",
      "    \n",
      "    # normalise by the depth component\n",
      "    projected_points[:, 0] /= projected_points[:, 2]\n",
      "    projected_points[:, 1] /= projected_points[:, 2]\n",
      "    return projected_points"
     ],
     "language": "python",
     "metadata": {},
     "outputs": [],
     "prompt_number": ""
    },
    {
     "cell_type": "code",
     "collapsed": false,
     "input": [
      "voxel_size = (0.1/15)/2\n",
      "\n",
      "\n",
      "    \n",
      "# now test one of these by reprojection\n",
      "# now need to load in a turntable view and the reconstruction result also\n",
      "modelname = 'pringles_bbq' #paths.test_names[11]\n",
      "view = 'NP3_0' #paths.views[10]\n",
      "\n",
      "\n",
      "print modelname, view\n",
      "\n",
      "\n",
      "K = im.cam.K #np.array([[537.613, 0., 317.60738816], [0.0, 537.614, 252.784], [0.0, 0.0, 1.0]])\n",
      "transform_for_mesh = convert_bb_transform_to_prediction_transform(im.cam.inv_H, vgrid.origin)\n",
      "\n",
      "# loading the image (eventually I can replace this...)\n",
      "im = images.CroppedRGBD()\n",
      "im.load_bigbird_from_mat(modelname, view)\n",
      "print\n",
      "# loading the prediction\n",
      "filled_voxels = load_prediction(modelname, view)# * voxel_size\n",
      "\n",
      "filled_voxels_in_cam_coords = apply_homo_transformation(filled_voxels, transform_for_mesh)\n",
      "projected_into_camera = project_into_camera(filled_voxels_in_cam_coords, K)\n",
      "#projected_into_camera = im.cam.project_points(filled_voxels)"
     ],
     "language": "python",
     "metadata": {},
     "outputs": [],
     "prompt_number": ""
    },
    {
     "cell_type": "code",
     "collapsed": false,
     "input": [
      "# load the original image\n",
      "def load_original_image(modelname, view):\n",
      "    original_image_path = paths.base_path + 'bigbird/%s/%s.jpg' %(modelname, view)\n",
      "    rgb_im = Image.open(original_image_path)\n",
      "    rgb_im.thumbnail([640, 512], Image.ANTIALIAS)\n",
      "    return rgb_im\n",
      "# plot the original image and overlay the results"
     ],
     "language": "python",
     "metadata": {},
     "outputs": [],
     "prompt_number": ""
    },
    {
     "cell_type": "code",
     "collapsed": false,
     "input": [
      "plt.subplot(121)\n",
      "# im.thumbnail(0.5*, Image.ANTIALIAS)\n",
      "rgb_im = load_original_image(modelname, view)\n",
      "\n",
      "plt.imshow(rgb_im)\n",
      "plt.hold(True)\n",
      "plt.plot(projected_into_camera[:, 0], projected_into_camera[:, 1], '.')\n",
      "plt.hold(False)\n",
      "plt.subplot(122)\n",
      "plt.imshow(rgb_im)\n",
      "plt.hold(True)\n",
      "plt.plot(projected_into_camera[:, 0] - im.aabb[0], projected_into_camera[:, 1] - im.aabb[2], '.')\n",
      "plt.hold(False)\n",
      "#filled_voxels_projected = np.dot(im.cam.K, filled_voxels_in_cam_coords.T).T"
     ],
     "language": "python",
     "metadata": {},
     "outputs": [],
     "prompt_number": ""
    },
    {
     "cell_type": "code",
     "collapsed": false,
     "input": [
      "plt.plot(projected_into_camera[:, 0] - im.aabb[0], projected_into_camera[:, 1] - im.aabb[2], '.')"
     ],
     "language": "python",
     "metadata": {},
     "outputs": [],
     "prompt_number": ""
    },
    {
     "cell_type": "code",
     "collapsed": false,
     "input": [
      "\n",
      "def load_prediction(modelname, view):\n",
      "    '''\n",
      "    loads a prediction of filled voxels and converts to the [ijk] locations \n",
      "    of the filled voxels\n",
      "    '''\n",
      "    loadpath = paths.voxlet_prediction_path % ('oma', modelname, view)\n",
      "    loadpath = loadpath.replace('predictions', 'troll_predictions')\n",
      "    D = scipy.io.loadmat(loadpath )\n",
      "    predicted_grid = D['prediction']\n",
      "    return np.array(np.nonzero(predicted_grid < 0)).T.astype(float) * 0.1 #voxel_size\n"
     ],
     "language": "python",
     "metadata": {},
     "outputs": [],
     "prompt_number": ""
    },
    {
     "cell_type": "code",
     "collapsed": false,
     "input": [
      "# now will try it with the saved sequences\n",
      "modelname = paths.test_names[2]\n",
      "view = paths.views[10]\n",
      "\n",
      "im = images.CroppedRGBD()\n",
      "im.load_bigbird_from_mat(modelname, view)\n",
      "\n",
      "pred = load_prediction(modelname, view)\n",
      "\n",
      "loadname = paths.base_path + \"voxlets/bigbird/spinaround/\" + modelname + \"_\" + view + \".mat\"\n",
      "camera_poses = scipy.io.loadmat(loadname)['camera_poses']\n",
      "\n",
      "plt.imshow(load_original_image(modelname, view))\n",
      "\n",
      "print camera_poses[ii, :, :].T\n",
      "print im.cam.K\n",
      "transformed = apply_homo_transformation(pred, camera_poses[ii, :, :].T)\n",
      "camera_projection = project_into_camera(transformed, im.cam.K)\n",
      "\n",
      "plt.hold(True)\n",
      "plt.clf()\n",
      "plt.plot(camera_projection[:, 0], camera_projection[:, 1], '.')\n",
      "plt.axis('equal')\n",
      "\n",
      "    "
     ],
     "language": "python",
     "metadata": {},
     "outputs": [],
     "prompt_number": ""
    },
    {
     "cell_type": "code",
     "collapsed": false,
     "input": [
      "# np.linalg.inv(camera_poses[ii, :, :].T)\n",
      "print camera_poses[ii, :, :].T"
     ],
     "language": "python",
     "metadata": {},
     "outputs": [],
     "prompt_number": ""
    },
    {
     "cell_type": "code",
     "collapsed": false,
     "input": [
      "import scipy.misc\n",
      "\n",
      "# loop over all models and view\n",
      "for modelname in paths.test_names:\n",
      "    all_pose_idxs = [0, 5, 10, 15, 20, 25, 30, 35, 40, 45]\n",
      "    for view_idx in all_pose_idxs:\n",
      "        view = paths.views[view_idx]\n",
      "        \n",
      "        this_im = load_original_image(modelname, view)\n",
      "        save_path = paths.base_path + \"voxlets/bigbird/spinaround/\" + modelname + \"_\" + view + \".png\"\n",
      "        \n",
      "        scipy.misc.imsave(save_path, this_im)\n",
      "    print modelname"
     ],
     "language": "python",
     "metadata": {},
     "outputs": [],
     "prompt_number": ""
    }
   ],
   "metadata": {}
  }
 ]
}