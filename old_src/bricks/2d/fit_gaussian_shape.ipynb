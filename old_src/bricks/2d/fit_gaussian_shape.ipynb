{
 "metadata": {
  "name": ""
 },
 "nbformat": 3,
 "nbformat_minor": 0,
 "worksheets": [
  {
   "cells": [
    {
     "cell_type": "code",
     "collapsed": false,
     "input": [
      "%matplotlib inline\n",
      "%load_ext autoreload\n",
      "%autoreload 2\n",
      "\n",
      "import numpy as np\n",
      "import matplotlib.pyplot as plt\n",
      "import scipy.misc\n",
      "import numpy as np"
     ],
     "language": "python",
     "metadata": {},
     "outputs": []
    },
    {
     "cell_type": "code",
     "collapsed": false,
     "input": [
      "canvas_size = 26  # square canvas\n",
      "\n",
      "def split_in_two(int_in):\n",
      "    '''splits int_in into two random positive chunks'''\n",
      "    one = np.random.randint(int_in)\n",
      "    two = int_in - one\n",
      "    return one, two\n",
      "    \n",
      "\n",
      "def gen_canvas():\n",
      "    diam = 2 * np.random.randint(4, 12)\n",
      "    circle_size = (diam, diam)\n",
      "    \n",
      "    circle = 255 - scipy.misc.imread('data/circle.png')\n",
      "    circle = scipy.misc.imresize(\n",
      "        circle, circle_size, interp='nearest').astype(np.float32) / 255\n",
      "    \n",
      "    pad_size = canvas_size - diam\n",
      "#    top, bottom = \n",
      "    circle = np.pad(circle, [split_in_two(pad_size), split_in_two(pad_size)], \n",
      "                  'constant', constant_values=(0, 0))\n",
      "    return circle + np.random.rand(circle.shape[0], circle.shape[1]) * 0.2\n",
      "\n",
      "num_canvases = 5000\n",
      "\n",
      "canvases = [gen_canvas() for i in range(num_canvases)]\n",
      "np_canvases = np.vstack([canvas.flatten() for canvas in canvases])\n",
      "print np_canvases.shape\n",
      "plt.imshow(canvases[10], interpolation='nearest')\n"
     ],
     "language": "python",
     "metadata": {},
     "outputs": []
    },
    {
     "cell_type": "code",
     "collapsed": false,
     "input": [
      "import sklearn.decomposition\n",
      "pca = sklearn.decomposition.RandomizedPCA(n_components=10)\n",
      "pca.fit(np_canvases)\n",
      "plt.plot(pca.explained_variance_ratio_)\n",
      "for i in range(10):\n",
      "    plt.subplot(2, 5, i+1)\n",
      "    plt.imshow(pca.components_[i].reshape((canvas_size, canvas_size)))"
     ],
     "language": "python",
     "metadata": {},
     "outputs": []
    },
    {
     "cell_type": "code",
     "collapsed": false,
     "input": [
      "import sys\n",
      "sys.path.append('../../rendered_scenes')\n",
      "import gauss\n",
      "\n",
      "gs = gauss.GaussImpute()\n",
      "gs.fit(np_canvases)\n",
      "print gs.mean.shape\n",
      "print gs.cov.shape"
     ],
     "language": "python",
     "metadata": {},
     "outputs": []
    },
    {
     "cell_type": "code",
     "collapsed": false,
     "input": [
      "# now try to complete a shape using this...\n",
      "import copy\n",
      "gt_test_im = gen_canvas()\n",
      "gt_test_im[0:5, 0:5] = 1\n",
      "masked_test_im = copy.deepcopy(gt_test_im)\n",
      "masked_test_im[canvas_size/2:, :] = 0\n",
      "to_fill_mask = masked_test_im * 0\n",
      "to_fill_mask[canvas_size/2:, :] = 1\n",
      "\n",
      "# now use the gaussian to infer the missing data...\n",
      "pred = gs.predict(masked_test_im.flatten(), to_fill_mask.flatten()==1)\n",
      "guess = np.array(pred[0]).reshape(masked_test_im.shape)\n",
      "\n",
      "plt.subplot(141)\n",
      "plt.imshow(gt_test_im, interpolation='nearest')\n",
      "plt.subplot(142)\n",
      "plt.imshow(masked_test_im, interpolation='nearest')\n",
      "plt.subplot(143)\n",
      "plt.imshow(to_fill_mask, interpolation='nearest')\n",
      "plt.subplot(144)\n",
      "plt.imshow(guess, interpolation='nearest')"
     ],
     "language": "python",
     "metadata": {},
     "outputs": []
    },
    {
     "cell_type": "code",
     "collapsed": false,
     "input": [
      "# now using FA\n",
      "ppca = sklearn.decomposition.FactorAnalysis(n_components=50)\n",
      "ppca.fit(np_canvases)"
     ],
     "language": "python",
     "metadata": {},
     "outputs": []
    },
    {
     "cell_type": "code",
     "collapsed": false,
     "input": [
      "print ppca.components_.shape\n",
      "plt.subplot(141)\n",
      "plt.imshow(gs.cov)\n",
      "plt.subplot(142)\n",
      "plt.imshow(np.dot(ppca.components_.T, ppca.components_))\n",
      "#print sklearn.__version__ \n",
      "plt.subplot(143)\n",
      "plt.imshow(ppca.noise_variance_.reshape((26, 26)))\n",
      "plt.subplot(144)\n",
      "plt.imshow(ppca.mean_.reshape((26, 26)))"
     ],
     "language": "python",
     "metadata": {},
     "outputs": []
    },
    {
     "cell_type": "code",
     "collapsed": false,
     "input": [
      "a = np.random.rand(4, 10)\n",
      "b = np.linalg.pinv(a)\n",
      "print a\n",
      "print b.shape\n",
      "print np.dot(a, b)\n",
      "print np.dot(a, b).shape"
     ],
     "language": "python",
     "metadata": {},
     "outputs": []
    },
    {
     "cell_type": "code",
     "collapsed": false,
     "input": [
      "T1 = np.random.rand(10, 4)\n",
      "T2 = np.random.rand(10, 4)\n",
      "\n",
      "A = np.dot(np.dot(T2, T1.T).T, np.linalg.inv(np.dot(T2, T2.T)))\n",
      "full_cov = np.dot(T1, T1.T) - np.dot(A, np.dot(T2, T1.T))\n",
      "\n",
      "fake_A = np.dot(T1, np.linalg.pinv(T2.T).T)\n",
      "\n",
      "plt.subplot(121)\n",
      "plt.imshow(A, interpolation='nearest')\n",
      "plt.subplot(122)\n",
      "plt.imshow(fake_A, interpolation='nearest')"
     ],
     "language": "python",
     "metadata": {},
     "outputs": []
    },
    {
     "cell_type": "code",
     "collapsed": false,
     "input": [
      "gs2 = gauss.FAGaussImpute()\n",
      "gs2.fit(np_canvases, n_components=200)"
     ],
     "language": "python",
     "metadata": {},
     "outputs": []
    },
    {
     "cell_type": "code",
     "collapsed": false,
     "input": [
      "np.random.seed(100)\n",
      "gt_test_im = gen_canvas()\n",
      "masked_test_im = copy.deepcopy(gt_test_im)\n",
      "masked_test_im[canvas_size/3:, :] = 0\n",
      "to_fill_mask = masked_test_im * 0\n",
      "to_fill_mask[canvas_size/3:, :] = 1\n",
      "\n",
      "# now use the gaussian to infer the missing data...\n",
      "\n",
      "pred = gs.predict(masked_test_im.flatten(), to_fill_mask.flatten()==1)\n",
      "guess = np.array(pred[0]).reshape(masked_test_im.shape)\n",
      "\n",
      "plt.subplot(251)\n",
      "plt.imshow(gt_test_im, interpolation='nearest')\n",
      "plt.clim(0, 1)\n",
      "plt.subplot(252)\n",
      "plt.imshow(masked_test_im, interpolation='nearest')\n",
      "plt.clim(0, 1)\n",
      "plt.subplot(253)\n",
      "plt.imshow(to_fill_mask, interpolation='nearest')\n",
      "plt.clim(0, 1)\n",
      "plt.subplot(254)\n",
      "plt.imshow(guess2, interpolation='nearest')\n",
      "plt.clim(0, 1)\n",
      "plt.subplot(255)\n",
      "plt.imshow(guess, interpolation='nearest')\n",
      "plt.clim(0, 1)\n",
      "for count, max_known_dims in enumerate([10, 25, 50, 100, 150]):\n",
      "        \n",
      "    pred = gs2.predict(masked_test_im.flatten(), to_fill_mask.flatten()==1, max_known_dims=max_known_dims)\n",
      "    guess2 = np.array(pred[0]).reshape(masked_test_im.shape)\n",
      "    plt.subplot(2, 5, 6+count)\n",
      "    plt.imshow(guess2, interpolation='nearest')\n",
      "    plt.clim(0, 1)    \n"
     ],
     "language": "python",
     "metadata": {},
     "outputs": []
    },
    {
     "cell_type": "code",
     "collapsed": false,
     "input": [
      "%lprun -f gs2.predict pred = gs2.predict(masked_test_im.flatten(), to_fill_mask.flatten()==1)"
     ],
     "language": "python",
     "metadata": {},
     "outputs": []
    },
    {
     "cell_type": "code",
     "collapsed": false,
     "input": [
      "print gs.cov.nbytes + gs.mean.nbytes\n",
      "print gs2.fa.components_.nbytes + gs2.fa.mean_.nbytes + gs2.fa.noise_variance_.nbytes"
     ],
     "language": "python",
     "metadata": {},
     "outputs": []
    },
    {
     "cell_type": "code",
     "collapsed": false,
     "input": [
      "a  = np.random.rand(2500, 2500)\n",
      "%timeit np.linalg.pinv(a)"
     ],
     "language": "python",
     "metadata": {},
     "outputs": []
    }
   ],
   "metadata": {}
  }
 ]
}